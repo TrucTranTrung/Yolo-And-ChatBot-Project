{
  "cells": [
    {
      "cell_type": "code",
      "execution_count": null,
      "metadata": {
        "colab": {
          "base_uri": "https://localhost:8080/"
        },
        "id": "0dXvTcCgwqts",
        "outputId": "5a5f686c-a37d-4393-931b-c893c1ab4540"
      },
      "outputs": [
        {
          "output_type": "stream",
          "name": "stdout",
          "text": [
            "Drive already mounted at /content/drive; to attempt to forcibly remount, call drive.mount(\"/content/drive\", force_remount=True).\n"
          ]
        }
      ],
      "source": [
        "from google.colab import drive\n",
        "drive.mount('/content/drive')"
      ]
    },
    {
      "cell_type": "code",
      "execution_count": null,
      "metadata": {
        "colab": {
          "base_uri": "https://localhost:8080/"
        },
        "id": "8IaCZIawWpvw",
        "outputId": "3b8a2725-a8d0-4555-caf1-9f3a60e8459a"
      },
      "outputs": [
        {
          "output_type": "stream",
          "name": "stdout",
          "text": [
            "Requirement already satisfied: ultralytics in /usr/local/lib/python3.10/dist-packages (8.2.18)\n",
            "Requirement already satisfied: matplotlib>=3.3.0 in /usr/local/lib/python3.10/dist-packages (from ultralytics) (3.7.1)\n",
            "Requirement already satisfied: opencv-python>=4.6.0 in /usr/local/lib/python3.10/dist-packages (from ultralytics) (4.8.0.76)\n",
            "Requirement already satisfied: pillow>=7.1.2 in /usr/local/lib/python3.10/dist-packages (from ultralytics) (9.4.0)\n",
            "Requirement already satisfied: pyyaml>=5.3.1 in /usr/local/lib/python3.10/dist-packages (from ultralytics) (6.0.1)\n",
            "Requirement already satisfied: requests>=2.23.0 in /usr/local/lib/python3.10/dist-packages (from ultralytics) (2.31.0)\n",
            "Requirement already satisfied: scipy>=1.4.1 in /usr/local/lib/python3.10/dist-packages (from ultralytics) (1.11.4)\n",
            "Requirement already satisfied: torch>=1.8.0 in /usr/local/lib/python3.10/dist-packages (from ultralytics) (2.2.1+cu121)\n",
            "Requirement already satisfied: torchvision>=0.9.0 in /usr/local/lib/python3.10/dist-packages (from ultralytics) (0.17.1+cu121)\n",
            "Requirement already satisfied: tqdm>=4.64.0 in /usr/local/lib/python3.10/dist-packages (from ultralytics) (4.66.4)\n",
            "Requirement already satisfied: psutil in /usr/local/lib/python3.10/dist-packages (from ultralytics) (5.9.5)\n",
            "Requirement already satisfied: py-cpuinfo in /usr/local/lib/python3.10/dist-packages (from ultralytics) (9.0.0)\n",
            "Requirement already satisfied: thop>=0.1.1 in /usr/local/lib/python3.10/dist-packages (from ultralytics) (0.1.1.post2209072238)\n",
            "Requirement already satisfied: pandas>=1.1.4 in /usr/local/lib/python3.10/dist-packages (from ultralytics) (2.0.3)\n",
            "Requirement already satisfied: seaborn>=0.11.0 in /usr/local/lib/python3.10/dist-packages (from ultralytics) (0.13.1)\n",
            "Requirement already satisfied: contourpy>=1.0.1 in /usr/local/lib/python3.10/dist-packages (from matplotlib>=3.3.0->ultralytics) (1.2.1)\n",
            "Requirement already satisfied: cycler>=0.10 in /usr/local/lib/python3.10/dist-packages (from matplotlib>=3.3.0->ultralytics) (0.12.1)\n",
            "Requirement already satisfied: fonttools>=4.22.0 in /usr/local/lib/python3.10/dist-packages (from matplotlib>=3.3.0->ultralytics) (4.51.0)\n",
            "Requirement already satisfied: kiwisolver>=1.0.1 in /usr/local/lib/python3.10/dist-packages (from matplotlib>=3.3.0->ultralytics) (1.4.5)\n",
            "Requirement already satisfied: numpy>=1.20 in /usr/local/lib/python3.10/dist-packages (from matplotlib>=3.3.0->ultralytics) (1.25.2)\n",
            "Requirement already satisfied: packaging>=20.0 in /usr/local/lib/python3.10/dist-packages (from matplotlib>=3.3.0->ultralytics) (24.0)\n",
            "Requirement already satisfied: pyparsing>=2.3.1 in /usr/local/lib/python3.10/dist-packages (from matplotlib>=3.3.0->ultralytics) (3.1.2)\n",
            "Requirement already satisfied: python-dateutil>=2.7 in /usr/local/lib/python3.10/dist-packages (from matplotlib>=3.3.0->ultralytics) (2.8.2)\n",
            "Requirement already satisfied: pytz>=2020.1 in /usr/local/lib/python3.10/dist-packages (from pandas>=1.1.4->ultralytics) (2023.4)\n",
            "Requirement already satisfied: tzdata>=2022.1 in /usr/local/lib/python3.10/dist-packages (from pandas>=1.1.4->ultralytics) (2024.1)\n",
            "Requirement already satisfied: charset-normalizer<4,>=2 in /usr/local/lib/python3.10/dist-packages (from requests>=2.23.0->ultralytics) (3.3.2)\n",
            "Requirement already satisfied: idna<4,>=2.5 in /usr/local/lib/python3.10/dist-packages (from requests>=2.23.0->ultralytics) (3.7)\n",
            "Requirement already satisfied: urllib3<3,>=1.21.1 in /usr/local/lib/python3.10/dist-packages (from requests>=2.23.0->ultralytics) (2.0.7)\n",
            "Requirement already satisfied: certifi>=2017.4.17 in /usr/local/lib/python3.10/dist-packages (from requests>=2.23.0->ultralytics) (2024.2.2)\n",
            "Requirement already satisfied: filelock in /usr/local/lib/python3.10/dist-packages (from torch>=1.8.0->ultralytics) (3.14.0)\n",
            "Requirement already satisfied: typing-extensions>=4.8.0 in /usr/local/lib/python3.10/dist-packages (from torch>=1.8.0->ultralytics) (4.11.0)\n",
            "Requirement already satisfied: sympy in /usr/local/lib/python3.10/dist-packages (from torch>=1.8.0->ultralytics) (1.12)\n",
            "Requirement already satisfied: networkx in /usr/local/lib/python3.10/dist-packages (from torch>=1.8.0->ultralytics) (3.3)\n",
            "Requirement already satisfied: jinja2 in /usr/local/lib/python3.10/dist-packages (from torch>=1.8.0->ultralytics) (3.1.4)\n",
            "Requirement already satisfied: fsspec in /usr/local/lib/python3.10/dist-packages (from torch>=1.8.0->ultralytics) (2023.6.0)\n",
            "Requirement already satisfied: nvidia-cuda-nvrtc-cu12==12.1.105 in /usr/local/lib/python3.10/dist-packages (from torch>=1.8.0->ultralytics) (12.1.105)\n",
            "Requirement already satisfied: nvidia-cuda-runtime-cu12==12.1.105 in /usr/local/lib/python3.10/dist-packages (from torch>=1.8.0->ultralytics) (12.1.105)\n",
            "Requirement already satisfied: nvidia-cuda-cupti-cu12==12.1.105 in /usr/local/lib/python3.10/dist-packages (from torch>=1.8.0->ultralytics) (12.1.105)\n",
            "Requirement already satisfied: nvidia-cudnn-cu12==8.9.2.26 in /usr/local/lib/python3.10/dist-packages (from torch>=1.8.0->ultralytics) (8.9.2.26)\n",
            "Requirement already satisfied: nvidia-cublas-cu12==12.1.3.1 in /usr/local/lib/python3.10/dist-packages (from torch>=1.8.0->ultralytics) (12.1.3.1)\n",
            "Requirement already satisfied: nvidia-cufft-cu12==11.0.2.54 in /usr/local/lib/python3.10/dist-packages (from torch>=1.8.0->ultralytics) (11.0.2.54)\n",
            "Requirement already satisfied: nvidia-curand-cu12==10.3.2.106 in /usr/local/lib/python3.10/dist-packages (from torch>=1.8.0->ultralytics) (10.3.2.106)\n",
            "Requirement already satisfied: nvidia-cusolver-cu12==11.4.5.107 in /usr/local/lib/python3.10/dist-packages (from torch>=1.8.0->ultralytics) (11.4.5.107)\n",
            "Requirement already satisfied: nvidia-cusparse-cu12==12.1.0.106 in /usr/local/lib/python3.10/dist-packages (from torch>=1.8.0->ultralytics) (12.1.0.106)\n",
            "Requirement already satisfied: nvidia-nccl-cu12==2.19.3 in /usr/local/lib/python3.10/dist-packages (from torch>=1.8.0->ultralytics) (2.19.3)\n",
            "Requirement already satisfied: nvidia-nvtx-cu12==12.1.105 in /usr/local/lib/python3.10/dist-packages (from torch>=1.8.0->ultralytics) (12.1.105)\n",
            "Requirement already satisfied: triton==2.2.0 in /usr/local/lib/python3.10/dist-packages (from torch>=1.8.0->ultralytics) (2.2.0)\n",
            "Requirement already satisfied: nvidia-nvjitlink-cu12 in /usr/local/lib/python3.10/dist-packages (from nvidia-cusolver-cu12==11.4.5.107->torch>=1.8.0->ultralytics) (12.4.127)\n",
            "Requirement already satisfied: six>=1.5 in /usr/local/lib/python3.10/dist-packages (from python-dateutil>=2.7->matplotlib>=3.3.0->ultralytics) (1.16.0)\n",
            "Requirement already satisfied: MarkupSafe>=2.0 in /usr/local/lib/python3.10/dist-packages (from jinja2->torch>=1.8.0->ultralytics) (2.1.5)\n",
            "Requirement already satisfied: mpmath>=0.19 in /usr/local/lib/python3.10/dist-packages (from sympy->torch>=1.8.0->ultralytics) (1.3.0)\n"
          ]
        }
      ],
      "source": [
        "!pip install ultralytics"
      ]
    },
    {
      "cell_type": "code",
      "execution_count": null,
      "metadata": {
        "colab": {
          "base_uri": "https://localhost:8080/"
        },
        "id": "Vhy4BpFJXA4t",
        "outputId": "e939177d-96dc-432e-e163-122b2bec0765"
      },
      "outputs": [
        {
          "output_type": "stream",
          "name": "stdout",
          "text": [
            "Using torch 2.2.1+cu121 (CPU)\n"
          ]
        }
      ],
      "source": [
        "# Check GPU is working or not\n",
        "import torch\n",
        "print(f\"Using torch {torch.__version__} ({torch.cuda.get_device_properties(0).name if torch.cuda.is_available() else 'CPU'})\")"
      ]
    },
    {
      "cell_type": "code",
      "execution_count": null,
      "metadata": {
        "colab": {
          "base_uri": "https://localhost:8080/"
        },
        "id": "QIQBA8NpXEdJ",
        "outputId": "9ac3f3f9-6224-4d20-e513-9134cdd5911c"
      },
      "outputs": [
        {
          "output_type": "stream",
          "name": "stdout",
          "text": [
            "\n",
            "image 1/1 /content/drive/MyDrive/Danger Of Extinction/African_Elephant/10.jpg: 640x640 1 elephant, 1187.5ms\n",
            "Speed: 10.6ms preprocess, 1187.5ms inference, 4.4ms postprocess per image at shape (1, 3, 640, 640)\n",
            "[ultralytics.engine.results.Results object with attributes:\n",
            "\n",
            "boxes: ultralytics.engine.results.Boxes object\n",
            "keypoints: None\n",
            "masks: None\n",
            "names: {0: 'person', 1: 'bicycle', 2: 'car', 3: 'motorcycle', 4: 'airplane', 5: 'bus', 6: 'train', 7: 'truck', 8: 'boat', 9: 'traffic light', 10: 'fire hydrant', 11: 'stop sign', 12: 'parking meter', 13: 'bench', 14: 'bird', 15: 'cat', 16: 'dog', 17: 'horse', 18: 'sheep', 19: 'cow', 20: 'elephant', 21: 'bear', 22: 'zebra', 23: 'giraffe', 24: 'backpack', 25: 'umbrella', 26: 'handbag', 27: 'tie', 28: 'suitcase', 29: 'frisbee', 30: 'skis', 31: 'snowboard', 32: 'sports ball', 33: 'kite', 34: 'baseball bat', 35: 'baseball glove', 36: 'skateboard', 37: 'surfboard', 38: 'tennis racket', 39: 'bottle', 40: 'wine glass', 41: 'cup', 42: 'fork', 43: 'knife', 44: 'spoon', 45: 'bowl', 46: 'banana', 47: 'apple', 48: 'sandwich', 49: 'orange', 50: 'broccoli', 51: 'carrot', 52: 'hot dog', 53: 'pizza', 54: 'donut', 55: 'cake', 56: 'chair', 57: 'couch', 58: 'potted plant', 59: 'bed', 60: 'dining table', 61: 'toilet', 62: 'tv', 63: 'laptop', 64: 'mouse', 65: 'remote', 66: 'keyboard', 67: 'cell phone', 68: 'microwave', 69: 'oven', 70: 'toaster', 71: 'sink', 72: 'refrigerator', 73: 'book', 74: 'clock', 75: 'vase', 76: 'scissors', 77: 'teddy bear', 78: 'hair drier', 79: 'toothbrush'}\n",
            "obb: None\n",
            "orig_img: array([[[213, 194, 186],\n",
            "        [213, 194, 186],\n",
            "        [215, 196, 188],\n",
            "        ...,\n",
            "        [249, 234, 232],\n",
            "        [252, 237, 235],\n",
            "        [255, 240, 238]],\n",
            "\n",
            "       [[218, 199, 191],\n",
            "        [218, 199, 191],\n",
            "        [219, 200, 192],\n",
            "        ...,\n",
            "        [249, 234, 232],\n",
            "        [252, 237, 235],\n",
            "        [254, 239, 237]],\n",
            "\n",
            "       [[225, 206, 198],\n",
            "        [224, 205, 197],\n",
            "        [225, 206, 198],\n",
            "        ...,\n",
            "        [249, 234, 232],\n",
            "        [251, 236, 234],\n",
            "        [253, 238, 236]],\n",
            "\n",
            "       ...,\n",
            "\n",
            "       [[ 70,  98, 132],\n",
            "        [ 78, 106, 140],\n",
            "        [ 86, 114, 148],\n",
            "        ...,\n",
            "        [ 93, 124, 157],\n",
            "        [ 74, 105, 138],\n",
            "        [ 74, 105, 138]],\n",
            "\n",
            "       [[ 65,  93, 124],\n",
            "        [ 70,  98, 129],\n",
            "        [ 78, 106, 137],\n",
            "        ...,\n",
            "        [ 89, 120, 153],\n",
            "        [ 75, 106, 139],\n",
            "        [ 79, 110, 143]],\n",
            "\n",
            "       [[ 58,  86, 117],\n",
            "        [ 61,  89, 120],\n",
            "        [ 71,  99, 130],\n",
            "        ...,\n",
            "        [ 84, 115, 148],\n",
            "        [ 69, 100, 133],\n",
            "        [ 73, 104, 137]]], dtype=uint8)\n",
            "orig_shape: (256, 256)\n",
            "path: '/content/drive/MyDrive/Danger Of Extinction/African_Elephant/10.jpg'\n",
            "probs: None\n",
            "save_dir: 'runs/detect/predict2'\n",
            "speed: {'preprocess': 10.607481002807617, 'inference': 1187.4847412109375, 'postprocess': 4.408597946166992}]\n"
          ]
        }
      ],
      "source": [
        "from ultralytics import YOLO\n",
        "import os\n",
        "os.environ[\"WANDB_DISABLED\"] = \"true\"\n",
        "# load pre-trained modelyolo9c. pt\n",
        "detection_model = YOLO(\"yolov8s.pt\") #\n",
        "results = detection_model(\"/content/drive/MyDrive/Danger Of Extinction/African_Elephant/10.jpg\")\n",
        "\n",
        "# Print or process results\n",
        "print(results)"
      ]
    },
    {
      "cell_type": "code",
      "execution_count": null,
      "metadata": {
        "colab": {
          "base_uri": "https://localhost:8080/"
        },
        "id": "CMnuHH2UXK1t",
        "outputId": "a46d9c59-c52e-4619-bd40-b77bb14869b0"
      },
      "outputs": [
        {
          "name": "stdout",
          "output_type": "stream",
          "text": [
            "Ultralytics YOLOv8.2.15 🚀 Python-3.10.12 torch-2.2.1+cu121 CUDA:0 (Tesla T4, 15102MiB)\n",
            "\u001b[34m\u001b[1mengine/trainer: \u001b[0mtask=detect, mode=train, model=yolov8s.pt, data=/content/drive/MyDrive/CDIO-MachineLearning.v10i.yolov8/data.yaml, epochs=200, time=None, patience=100, batch=16, imgsz=640, save=True, save_period=1, cache=False, device=None, workers=8, project=/content/drive/MyDrive/CDIO-MachineLearning.v10i.yolov8/weight, name=train, exist_ok=False, pretrained=True, optimizer=auto, verbose=True, seed=0, deterministic=True, single_cls=False, rect=False, cos_lr=False, close_mosaic=10, resume=False, amp=True, fraction=1.0, profile=False, freeze=None, multi_scale=False, overlap_mask=True, mask_ratio=4, dropout=0.0, val=True, split=val, save_json=False, save_hybrid=False, conf=None, iou=0.7, max_det=300, half=False, dnn=False, plots=True, source=None, vid_stride=1, stream_buffer=False, visualize=False, augment=False, agnostic_nms=False, classes=None, retina_masks=False, embed=None, show=False, save_frames=False, save_txt=False, save_conf=False, save_crop=False, show_labels=True, show_conf=True, show_boxes=True, line_width=None, format=torchscript, keras=False, optimize=False, int8=False, dynamic=False, simplify=False, opset=None, workspace=4, nms=False, lr0=0.01, lrf=0.01, momentum=0.937, weight_decay=0.0005, warmup_epochs=3.0, warmup_momentum=0.8, warmup_bias_lr=0.1, box=7.5, cls=0.5, dfl=1.5, pose=12.0, kobj=1.0, label_smoothing=0.0, nbs=64, hsv_h=0.015, hsv_s=0.7, hsv_v=0.4, degrees=0.0, translate=0.1, scale=0.5, shear=0.0, perspective=0.0, flipud=0.0, fliplr=0.5, bgr=0.0, mosaic=1.0, mixup=0.0, copy_paste=0.0, auto_augment=randaugment, erasing=0.4, crop_fraction=1.0, cfg=None, tracker=botsort.yaml, save_dir=/content/drive/MyDrive/CDIO-MachineLearning.v10i.yolov8/weight/train\n",
            "Downloading https://ultralytics.com/assets/Arial.ttf to '/root/.config/Ultralytics/Arial.ttf'...\n"
          ]
        },
        {
          "name": "stderr",
          "output_type": "stream",
          "text": [
            "100%|██████████| 755k/755k [00:00<00:00, 21.7MB/s]\n"
          ]
        },
        {
          "name": "stdout",
          "output_type": "stream",
          "text": [
            "Overriding model.yaml nc=80 with nc=12\n",
            "\n",
            "                   from  n    params  module                                       arguments                     \n",
            "  0                  -1  1       928  ultralytics.nn.modules.conv.Conv             [3, 32, 3, 2]                 \n",
            "  1                  -1  1     18560  ultralytics.nn.modules.conv.Conv             [32, 64, 3, 2]                \n",
            "  2                  -1  1     29056  ultralytics.nn.modules.block.C2f             [64, 64, 1, True]             \n",
            "  3                  -1  1     73984  ultralytics.nn.modules.conv.Conv             [64, 128, 3, 2]               \n",
            "  4                  -1  2    197632  ultralytics.nn.modules.block.C2f             [128, 128, 2, True]           \n",
            "  5                  -1  1    295424  ultralytics.nn.modules.conv.Conv             [128, 256, 3, 2]              \n",
            "  6                  -1  2    788480  ultralytics.nn.modules.block.C2f             [256, 256, 2, True]           \n",
            "  7                  -1  1   1180672  ultralytics.nn.modules.conv.Conv             [256, 512, 3, 2]              \n",
            "  8                  -1  1   1838080  ultralytics.nn.modules.block.C2f             [512, 512, 1, True]           \n",
            "  9                  -1  1    656896  ultralytics.nn.modules.block.SPPF            [512, 512, 5]                 \n",
            " 10                  -1  1         0  torch.nn.modules.upsampling.Upsample         [None, 2, 'nearest']          \n",
            " 11             [-1, 6]  1         0  ultralytics.nn.modules.conv.Concat           [1]                           \n",
            " 12                  -1  1    591360  ultralytics.nn.modules.block.C2f             [768, 256, 1]                 \n",
            " 13                  -1  1         0  torch.nn.modules.upsampling.Upsample         [None, 2, 'nearest']          \n",
            " 14             [-1, 4]  1         0  ultralytics.nn.modules.conv.Concat           [1]                           \n",
            " 15                  -1  1    148224  ultralytics.nn.modules.block.C2f             [384, 128, 1]                 \n",
            " 16                  -1  1    147712  ultralytics.nn.modules.conv.Conv             [128, 128, 3, 2]              \n",
            " 17            [-1, 12]  1         0  ultralytics.nn.modules.conv.Concat           [1]                           \n",
            " 18                  -1  1    493056  ultralytics.nn.modules.block.C2f             [384, 256, 1]                 \n",
            " 19                  -1  1    590336  ultralytics.nn.modules.conv.Conv             [256, 256, 3, 2]              \n",
            " 20             [-1, 9]  1         0  ultralytics.nn.modules.conv.Concat           [1]                           \n",
            " 21                  -1  1   1969152  ultralytics.nn.modules.block.C2f             [768, 512, 1]                 \n",
            " 22        [15, 18, 21]  1   2120692  ultralytics.nn.modules.head.Detect           [12, [128, 256, 512]]         \n",
            "Model summary: 225 layers, 11140244 parameters, 11140228 gradients, 28.7 GFLOPs\n",
            "\n",
            "Transferred 349/355 items from pretrained weights\n",
            "\u001b[34m\u001b[1mTensorBoard: \u001b[0mStart with 'tensorboard --logdir /content/drive/MyDrive/CDIO-MachineLearning.v10i.yolov8/weight/train', view at http://localhost:6006/\n",
            "Freezing layer 'model.22.dfl.conv.weight'\n",
            "\u001b[34m\u001b[1mAMP: \u001b[0mrunning Automatic Mixed Precision (AMP) checks with YOLOv8n...\n",
            "Downloading https://github.com/ultralytics/assets/releases/download/v8.2.0/yolov8n.pt to 'yolov8n.pt'...\n"
          ]
        },
        {
          "name": "stderr",
          "output_type": "stream",
          "text": [
            "100%|██████████| 6.23M/6.23M [00:00<00:00, 135MB/s]\n"
          ]
        },
        {
          "name": "stdout",
          "output_type": "stream",
          "text": [
            "\u001b[34m\u001b[1mAMP: \u001b[0mchecks passed ✅\n"
          ]
        },
        {
          "name": "stderr",
          "output_type": "stream",
          "text": [
            "\u001b[34m\u001b[1mtrain: \u001b[0mScanning /content/drive/MyDrive/CDIO-MachineLearning.v10i.yolov8/train/labels.cache... 3136 images, 462 backgrounds, 0 corrupt: 100%|██████████| 3136/3136 [00:00<?, ?it/s]\n"
          ]
        },
        {
          "name": "stdout",
          "output_type": "stream",
          "text": [
            "\u001b[34m\u001b[1malbumentations: \u001b[0mBlur(p=0.01, blur_limit=(3, 7)), MedianBlur(p=0.01, blur_limit=(3, 7)), ToGray(p=0.01), CLAHE(p=0.01, clip_limit=(1, 4.0), tile_grid_size=(8, 8))\n"
          ]
        },
        {
          "name": "stderr",
          "output_type": "stream",
          "text": [
            "/usr/lib/python3.10/multiprocessing/popen_fork.py:66: RuntimeWarning: os.fork() was called. os.fork() is incompatible with multithreaded code, and JAX is multithreaded, so this will likely lead to a deadlock.\n",
            "  self.pid = os.fork()\n",
            "\u001b[34m\u001b[1mval: \u001b[0mScanning /content/drive/MyDrive/CDIO-MachineLearning.v10i.yolov8/valid/labels.cache... 900 images, 147 backgrounds, 0 corrupt: 100%|██████████| 900/900 [00:00<?, ?it/s]\n"
          ]
        },
        {
          "name": "stdout",
          "output_type": "stream",
          "text": [
            "Plotting labels to /content/drive/MyDrive/CDIO-MachineLearning.v10i.yolov8/weight/train/labels.jpg... \n",
            "\u001b[34m\u001b[1moptimizer:\u001b[0m 'optimizer=auto' found, ignoring 'lr0=0.01' and 'momentum=0.937' and determining best 'optimizer', 'lr0' and 'momentum' automatically... \n",
            "\u001b[34m\u001b[1moptimizer:\u001b[0m AdamW(lr=0.000625, momentum=0.9) with parameter groups 57 weight(decay=0.0), 64 weight(decay=0.0005), 63 bias(decay=0.0)\n",
            "\u001b[34m\u001b[1mTensorBoard: \u001b[0mmodel graph visualization added ✅\n",
            "Image sizes 640 train, 640 val\n",
            "Using 2 dataloader workers\n",
            "Logging results to \u001b[1m/content/drive/MyDrive/CDIO-MachineLearning.v10i.yolov8/weight/train\u001b[0m\n",
            "Starting training for 200 epochs...\n",
            "\n",
            "      Epoch    GPU_mem   box_loss   cls_loss   dfl_loss  Instances       Size\n"
          ]
        },
        {
          "name": "stderr",
          "output_type": "stream",
          "text": [
            "      1/200      4.28G      1.104      2.983       1.55         41        640: 100%|██████████| 196/196 [02:34<00:00,  1.27it/s]\n",
            "                 Class     Images  Instances      Box(P          R      mAP50  mAP50-95): 100%|██████████| 29/29 [02:28<00:00,  5.14s/it]\n"
          ]
        },
        {
          "name": "stdout",
          "output_type": "stream",
          "text": [
            "                   all        900       1019      0.484       0.49      0.461      0.249\n",
            "\n",
            "      Epoch    GPU_mem   box_loss   cls_loss   dfl_loss  Instances       Size\n"
          ]
        },
        {
          "name": "stderr",
          "output_type": "stream",
          "text": [
            "      2/200      4.35G      1.159      1.957      1.578         31        640: 100%|██████████| 196/196 [01:39<00:00,  1.97it/s]\n",
            "                 Class     Images  Instances      Box(P          R      mAP50  mAP50-95): 100%|██████████| 29/29 [00:15<00:00,  1.86it/s]"
          ]
        },
        {
          "name": "stdout",
          "output_type": "stream",
          "text": [
            "                   all        900       1019      0.597      0.455      0.478      0.256\n"
          ]
        },
        {
          "name": "stderr",
          "output_type": "stream",
          "text": [
            "\n"
          ]
        },
        {
          "name": "stdout",
          "output_type": "stream",
          "text": [
            "\n",
            "      Epoch    GPU_mem   box_loss   cls_loss   dfl_loss  Instances       Size\n"
          ]
        },
        {
          "name": "stderr",
          "output_type": "stream",
          "text": [
            "      3/200      4.24G      1.218      1.946      1.614         45        640: 100%|██████████| 196/196 [01:31<00:00,  2.15it/s]\n",
            "                 Class     Images  Instances      Box(P          R      mAP50  mAP50-95): 100%|██████████| 29/29 [00:15<00:00,  1.87it/s]"
          ]
        },
        {
          "name": "stdout",
          "output_type": "stream",
          "text": [
            "                   all        900       1019      0.466      0.503      0.463      0.253\n"
          ]
        },
        {
          "name": "stderr",
          "output_type": "stream",
          "text": [
            "\n"
          ]
        },
        {
          "name": "stdout",
          "output_type": "stream",
          "text": [
            "\n",
            "      Epoch    GPU_mem   box_loss   cls_loss   dfl_loss  Instances       Size\n"
          ]
        },
        {
          "name": "stderr",
          "output_type": "stream",
          "text": [
            "      4/200      4.23G      1.225      1.916      1.639         42        640: 100%|██████████| 196/196 [01:32<00:00,  2.11it/s]\n",
            "                 Class     Images  Instances      Box(P          R      mAP50  mAP50-95): 100%|██████████| 29/29 [00:15<00:00,  1.82it/s]\n"
          ]
        },
        {
          "name": "stdout",
          "output_type": "stream",
          "text": [
            "                   all        900       1019      0.512      0.519      0.503      0.257\n",
            "\n",
            "      Epoch    GPU_mem   box_loss   cls_loss   dfl_loss  Instances       Size\n"
          ]
        },
        {
          "name": "stderr",
          "output_type": "stream",
          "text": [
            "      5/200      4.23G      1.208      1.799      1.606         49        640: 100%|██████████| 196/196 [01:31<00:00,  2.13it/s]\n",
            "                 Class     Images  Instances      Box(P          R      mAP50  mAP50-95): 100%|██████████| 29/29 [00:15<00:00,  1.90it/s]\n"
          ]
        },
        {
          "name": "stdout",
          "output_type": "stream",
          "text": [
            "                   all        900       1019      0.484      0.471      0.452      0.244\n",
            "\n",
            "      Epoch    GPU_mem   box_loss   cls_loss   dfl_loss  Instances       Size\n"
          ]
        },
        {
          "name": "stderr",
          "output_type": "stream",
          "text": [
            "      6/200      4.21G       1.17      1.725      1.581         38        640: 100%|██████████| 196/196 [01:36<00:00,  2.04it/s]\n",
            "                 Class     Images  Instances      Box(P          R      mAP50  mAP50-95): 100%|██████████| 29/29 [00:12<00:00,  2.27it/s]"
          ]
        },
        {
          "name": "stdout",
          "output_type": "stream",
          "text": [
            "                   all        900       1019      0.547      0.579      0.579       0.32\n"
          ]
        },
        {
          "name": "stderr",
          "output_type": "stream",
          "text": [
            "\n"
          ]
        },
        {
          "name": "stdout",
          "output_type": "stream",
          "text": [
            "\n",
            "      Epoch    GPU_mem   box_loss   cls_loss   dfl_loss  Instances       Size\n"
          ]
        },
        {
          "name": "stderr",
          "output_type": "stream",
          "text": [
            "      7/200       4.2G      1.142      1.648      1.561         51        640: 100%|██████████| 196/196 [01:31<00:00,  2.14it/s]\n",
            "                 Class     Images  Instances      Box(P          R      mAP50  mAP50-95): 100%|██████████| 29/29 [00:16<00:00,  1.76it/s]\n"
          ]
        },
        {
          "name": "stdout",
          "output_type": "stream",
          "text": [
            "                   all        900       1019      0.561      0.516      0.517      0.282\n",
            "\n",
            "      Epoch    GPU_mem   box_loss   cls_loss   dfl_loss  Instances       Size\n"
          ]
        },
        {
          "name": "stderr",
          "output_type": "stream",
          "text": [
            "      8/200      4.23G      1.127      1.591      1.543         36        640: 100%|██████████| 196/196 [01:31<00:00,  2.13it/s]\n",
            "                 Class     Images  Instances      Box(P          R      mAP50  mAP50-95): 100%|██████████| 29/29 [00:12<00:00,  2.24it/s]\n"
          ]
        },
        {
          "name": "stdout",
          "output_type": "stream",
          "text": [
            "                   all        900       1019      0.613      0.569       0.62      0.365\n",
            "\n",
            "      Epoch    GPU_mem   box_loss   cls_loss   dfl_loss  Instances       Size\n"
          ]
        },
        {
          "name": "stderr",
          "output_type": "stream",
          "text": [
            "      9/200      4.21G      1.113      1.521      1.533         46        640: 100%|██████████| 196/196 [01:35<00:00,  2.05it/s]\n",
            "                 Class     Images  Instances      Box(P          R      mAP50  mAP50-95): 100%|██████████| 29/29 [00:15<00:00,  1.85it/s]\n"
          ]
        },
        {
          "name": "stdout",
          "output_type": "stream",
          "text": [
            "                   all        900       1019      0.657      0.635      0.674      0.414\n",
            "\n",
            "      Epoch    GPU_mem   box_loss   cls_loss   dfl_loss  Instances       Size\n"
          ]
        },
        {
          "name": "stderr",
          "output_type": "stream",
          "text": [
            "     10/200      4.23G      1.109       1.49      1.534         34        640: 100%|██████████| 196/196 [01:33<00:00,  2.09it/s]\n",
            "                 Class     Images  Instances      Box(P          R      mAP50  mAP50-95): 100%|██████████| 29/29 [00:13<00:00,  2.22it/s]\n"
          ]
        },
        {
          "name": "stdout",
          "output_type": "stream",
          "text": [
            "                   all        900       1019      0.746      0.659      0.741      0.454\n",
            "\n",
            "      Epoch    GPU_mem   box_loss   cls_loss   dfl_loss  Instances       Size\n"
          ]
        },
        {
          "name": "stderr",
          "output_type": "stream",
          "text": [
            "     11/200      4.21G      1.084      1.462      1.519         40        640: 100%|██████████| 196/196 [01:30<00:00,  2.18it/s]\n",
            "                 Class     Images  Instances      Box(P          R      mAP50  mAP50-95): 100%|██████████| 29/29 [00:15<00:00,  1.87it/s]"
          ]
        },
        {
          "name": "stdout",
          "output_type": "stream",
          "text": [
            "                   all        900       1019      0.604       0.61      0.664      0.383\n"
          ]
        },
        {
          "name": "stderr",
          "output_type": "stream",
          "text": [
            "\n"
          ]
        },
        {
          "name": "stdout",
          "output_type": "stream",
          "text": [
            "\n",
            "      Epoch    GPU_mem   box_loss   cls_loss   dfl_loss  Instances       Size\n"
          ]
        },
        {
          "name": "stderr",
          "output_type": "stream",
          "text": [
            "     12/200      4.22G      1.071      1.404      1.507         35        640: 100%|██████████| 196/196 [01:34<00:00,  2.07it/s]\n",
            "                 Class     Images  Instances      Box(P          R      mAP50  mAP50-95): 100%|██████████| 29/29 [00:12<00:00,  2.30it/s]"
          ]
        },
        {
          "name": "stdout",
          "output_type": "stream",
          "text": [
            "                   all        900       1019      0.764      0.641       0.74      0.449\n"
          ]
        },
        {
          "name": "stderr",
          "output_type": "stream",
          "text": [
            "\n"
          ]
        },
        {
          "name": "stdout",
          "output_type": "stream",
          "text": [
            "\n",
            "      Epoch    GPU_mem   box_loss   cls_loss   dfl_loss  Instances       Size\n"
          ]
        },
        {
          "name": "stderr",
          "output_type": "stream",
          "text": [
            "     13/200      4.22G      1.056      1.371      1.493         42        640: 100%|██████████| 196/196 [01:30<00:00,  2.16it/s]\n",
            "                 Class     Images  Instances      Box(P          R      mAP50  mAP50-95): 100%|██████████| 29/29 [00:16<00:00,  1.81it/s]\n"
          ]
        },
        {
          "name": "stdout",
          "output_type": "stream",
          "text": [
            "                   all        900       1019      0.734      0.635      0.724      0.458\n",
            "\n",
            "      Epoch    GPU_mem   box_loss   cls_loss   dfl_loss  Instances       Size\n"
          ]
        },
        {
          "name": "stderr",
          "output_type": "stream",
          "text": [
            "     14/200      4.21G      1.045      1.361      1.485         44        640: 100%|██████████| 196/196 [01:32<00:00,  2.11it/s]\n",
            "                 Class     Images  Instances      Box(P          R      mAP50  mAP50-95): 100%|██████████| 29/29 [00:13<00:00,  2.17it/s]"
          ]
        },
        {
          "name": "stdout",
          "output_type": "stream",
          "text": [
            "                   all        900       1019      0.769      0.645      0.741       0.45\n"
          ]
        },
        {
          "name": "stderr",
          "output_type": "stream",
          "text": [
            "\n"
          ]
        },
        {
          "name": "stdout",
          "output_type": "stream",
          "text": [
            "\n",
            "      Epoch    GPU_mem   box_loss   cls_loss   dfl_loss  Instances       Size\n"
          ]
        },
        {
          "name": "stderr",
          "output_type": "stream",
          "text": [
            "     15/200       4.2G      1.023      1.322      1.466         50        640: 100%|██████████| 196/196 [01:32<00:00,  2.12it/s]\n",
            "                 Class     Images  Instances      Box(P          R      mAP50  mAP50-95): 100%|██████████| 29/29 [00:16<00:00,  1.78it/s]"
          ]
        },
        {
          "name": "stdout",
          "output_type": "stream",
          "text": [
            "                   all        900       1019      0.672       0.64      0.697      0.433\n"
          ]
        },
        {
          "name": "stderr",
          "output_type": "stream",
          "text": [
            "\n"
          ]
        },
        {
          "name": "stdout",
          "output_type": "stream",
          "text": [
            "\n",
            "      Epoch    GPU_mem   box_loss   cls_loss   dfl_loss  Instances       Size\n"
          ]
        },
        {
          "name": "stderr",
          "output_type": "stream",
          "text": [
            "     16/200      4.23G      1.021      1.293      1.465         38        640: 100%|██████████| 196/196 [01:33<00:00,  2.10it/s]\n",
            "                 Class     Images  Instances      Box(P          R      mAP50  mAP50-95): 100%|██████████| 29/29 [00:15<00:00,  1.88it/s]"
          ]
        },
        {
          "name": "stdout",
          "output_type": "stream",
          "text": [
            "                   all        900       1019      0.811      0.656      0.766      0.487\n"
          ]
        },
        {
          "name": "stderr",
          "output_type": "stream",
          "text": [
            "\n"
          ]
        },
        {
          "name": "stdout",
          "output_type": "stream",
          "text": [
            "\n",
            "      Epoch    GPU_mem   box_loss   cls_loss   dfl_loss  Instances       Size\n"
          ]
        },
        {
          "name": "stderr",
          "output_type": "stream",
          "text": [
            "     17/200      4.21G      1.007      1.266      1.449         43        640: 100%|██████████| 196/196 [01:33<00:00,  2.10it/s]\n",
            "                 Class     Images  Instances      Box(P          R      mAP50  mAP50-95): 100%|██████████| 29/29 [00:15<00:00,  1.92it/s]"
          ]
        },
        {
          "name": "stdout",
          "output_type": "stream",
          "text": [
            "                   all        900       1019      0.698      0.691      0.727      0.462\n"
          ]
        },
        {
          "name": "stderr",
          "output_type": "stream",
          "text": [
            "\n"
          ]
        },
        {
          "name": "stdout",
          "output_type": "stream",
          "text": [
            "\n",
            "      Epoch    GPU_mem   box_loss   cls_loss   dfl_loss  Instances       Size\n"
          ]
        },
        {
          "name": "stderr",
          "output_type": "stream",
          "text": [
            "     18/200      4.23G     0.9993      1.238      1.448         45        640: 100%|██████████| 196/196 [01:29<00:00,  2.19it/s]\n",
            "                 Class     Images  Instances      Box(P          R      mAP50  mAP50-95): 100%|██████████| 29/29 [00:16<00:00,  1.81it/s]"
          ]
        },
        {
          "name": "stdout",
          "output_type": "stream",
          "text": [
            "                   all        900       1019       0.75      0.706      0.771      0.497\n"
          ]
        },
        {
          "name": "stderr",
          "output_type": "stream",
          "text": [
            "\n"
          ]
        },
        {
          "name": "stdout",
          "output_type": "stream",
          "text": [
            "\n",
            "      Epoch    GPU_mem   box_loss   cls_loss   dfl_loss  Instances       Size\n"
          ]
        },
        {
          "name": "stderr",
          "output_type": "stream",
          "text": [
            "     19/200      4.23G     0.9727      1.204      1.431         37        640: 100%|██████████| 196/196 [01:36<00:00,  2.03it/s]\n",
            "                 Class     Images  Instances      Box(P          R      mAP50  mAP50-95): 100%|██████████| 29/29 [00:12<00:00,  2.25it/s]\n"
          ]
        },
        {
          "name": "stdout",
          "output_type": "stream",
          "text": [
            "                   all        900       1019      0.703      0.702      0.762      0.474\n",
            "\n",
            "      Epoch    GPU_mem   box_loss   cls_loss   dfl_loss  Instances       Size\n"
          ]
        },
        {
          "name": "stderr",
          "output_type": "stream",
          "text": [
            "     20/200      4.22G     0.9936      1.192      1.443         51        640: 100%|██████████| 196/196 [01:30<00:00,  2.16it/s]\n",
            "                 Class     Images  Instances      Box(P          R      mAP50  mAP50-95): 100%|██████████| 29/29 [00:15<00:00,  1.82it/s]\n"
          ]
        },
        {
          "name": "stdout",
          "output_type": "stream",
          "text": [
            "                   all        900       1019      0.711      0.689      0.753      0.468\n",
            "\n",
            "      Epoch    GPU_mem   box_loss   cls_loss   dfl_loss  Instances       Size\n"
          ]
        },
        {
          "name": "stderr",
          "output_type": "stream",
          "text": [
            "     21/200      4.22G     0.9663      1.182      1.424         40        640: 100%|██████████| 196/196 [01:32<00:00,  2.12it/s]\n",
            "                 Class     Images  Instances      Box(P          R      mAP50  mAP50-95): 100%|██████████| 29/29 [00:13<00:00,  2.21it/s]"
          ]
        },
        {
          "name": "stdout",
          "output_type": "stream",
          "text": [
            "                   all        900       1019      0.773      0.697      0.774      0.503\n"
          ]
        },
        {
          "name": "stderr",
          "output_type": "stream",
          "text": [
            "\n"
          ]
        },
        {
          "name": "stdout",
          "output_type": "stream",
          "text": [
            "\n",
            "      Epoch    GPU_mem   box_loss   cls_loss   dfl_loss  Instances       Size\n"
          ]
        },
        {
          "name": "stderr",
          "output_type": "stream",
          "text": [
            "     22/200       4.2G      0.962      1.146      1.419         52        640: 100%|██████████| 196/196 [01:34<00:00,  2.08it/s]\n",
            "                 Class     Images  Instances      Box(P          R      mAP50  mAP50-95): 100%|██████████| 29/29 [00:16<00:00,  1.78it/s]\n"
          ]
        },
        {
          "name": "stdout",
          "output_type": "stream",
          "text": [
            "                   all        900       1019      0.733      0.684      0.756      0.484\n",
            "\n",
            "      Epoch    GPU_mem   box_loss   cls_loss   dfl_loss  Instances       Size\n"
          ]
        },
        {
          "name": "stderr",
          "output_type": "stream",
          "text": [
            "     23/200      4.23G     0.9481      1.127      1.413         51        640: 100%|██████████| 196/196 [01:29<00:00,  2.18it/s]\n",
            "                 Class     Images  Instances      Box(P          R      mAP50  mAP50-95): 100%|██████████| 29/29 [00:15<00:00,  1.90it/s]"
          ]
        },
        {
          "name": "stdout",
          "output_type": "stream",
          "text": [
            "                   all        900       1019        0.8      0.732      0.807      0.513\n"
          ]
        },
        {
          "name": "stderr",
          "output_type": "stream",
          "text": [
            "\n"
          ]
        },
        {
          "name": "stdout",
          "output_type": "stream",
          "text": [
            "\n",
            "      Epoch    GPU_mem   box_loss   cls_loss   dfl_loss  Instances       Size\n"
          ]
        },
        {
          "name": "stderr",
          "output_type": "stream",
          "text": [
            "     24/200      4.23G     0.9607      1.125      1.411         31        640: 100%|██████████| 196/196 [01:34<00:00,  2.07it/s]\n",
            "                 Class     Images  Instances      Box(P          R      mAP50  mAP50-95): 100%|██████████| 29/29 [00:16<00:00,  1.81it/s]"
          ]
        },
        {
          "name": "stdout",
          "output_type": "stream",
          "text": [
            "                   all        900       1019      0.753      0.698       0.78      0.519\n"
          ]
        },
        {
          "name": "stderr",
          "output_type": "stream",
          "text": [
            "\n"
          ]
        },
        {
          "name": "stdout",
          "output_type": "stream",
          "text": [
            "\n",
            "      Epoch    GPU_mem   box_loss   cls_loss   dfl_loss  Instances       Size\n"
          ]
        },
        {
          "name": "stderr",
          "output_type": "stream",
          "text": [
            "     25/200      4.23G     0.9526      1.097      1.412         44        640: 100%|██████████| 196/196 [01:32<00:00,  2.12it/s]\n",
            "                 Class     Images  Instances      Box(P          R      mAP50  mAP50-95): 100%|██████████| 29/29 [00:16<00:00,  1.78it/s]\n"
          ]
        },
        {
          "name": "stdout",
          "output_type": "stream",
          "text": [
            "                   all        900       1019      0.772      0.706      0.793      0.531\n",
            "\n",
            "      Epoch    GPU_mem   box_loss   cls_loss   dfl_loss  Instances       Size\n"
          ]
        },
        {
          "name": "stderr",
          "output_type": "stream",
          "text": [
            "     26/200      4.21G     0.9575      1.109      1.415         34        640: 100%|██████████| 196/196 [01:36<00:00,  2.04it/s]\n",
            "                 Class     Images  Instances      Box(P          R      mAP50  mAP50-95): 100%|██████████| 29/29 [00:15<00:00,  1.84it/s]"
          ]
        },
        {
          "name": "stdout",
          "output_type": "stream",
          "text": [
            "                   all        900       1019       0.77      0.732      0.803      0.527\n"
          ]
        },
        {
          "name": "stderr",
          "output_type": "stream",
          "text": [
            "\n"
          ]
        },
        {
          "name": "stdout",
          "output_type": "stream",
          "text": [
            "\n",
            "      Epoch    GPU_mem   box_loss   cls_loss   dfl_loss  Instances       Size\n"
          ]
        },
        {
          "name": "stderr",
          "output_type": "stream",
          "text": [
            "     27/200      4.23G     0.9259      1.042      1.384         49        640: 100%|██████████| 196/196 [01:32<00:00,  2.12it/s]\n",
            "                 Class     Images  Instances      Box(P          R      mAP50  mAP50-95): 100%|██████████| 29/29 [00:15<00:00,  1.85it/s]"
          ]
        },
        {
          "name": "stdout",
          "output_type": "stream",
          "text": [
            "                   all        900       1019      0.798      0.715      0.802      0.527\n"
          ]
        },
        {
          "name": "stderr",
          "output_type": "stream",
          "text": [
            "\n"
          ]
        },
        {
          "name": "stdout",
          "output_type": "stream",
          "text": [
            "\n",
            "      Epoch    GPU_mem   box_loss   cls_loss   dfl_loss  Instances       Size\n"
          ]
        },
        {
          "name": "stderr",
          "output_type": "stream",
          "text": [
            "     28/200      4.21G      0.932      1.053      1.399         47        640: 100%|██████████| 196/196 [01:34<00:00,  2.08it/s]\n",
            "                 Class     Images  Instances      Box(P          R      mAP50  mAP50-95): 100%|██████████| 29/29 [00:15<00:00,  1.83it/s]"
          ]
        },
        {
          "name": "stdout",
          "output_type": "stream",
          "text": [
            "                   all        900       1019      0.806      0.731      0.815      0.551\n"
          ]
        },
        {
          "name": "stderr",
          "output_type": "stream",
          "text": [
            "\n"
          ]
        },
        {
          "name": "stdout",
          "output_type": "stream",
          "text": [
            "\n",
            "      Epoch    GPU_mem   box_loss   cls_loss   dfl_loss  Instances       Size\n"
          ]
        },
        {
          "name": "stderr",
          "output_type": "stream",
          "text": [
            "     29/200      4.22G     0.9177      1.054      1.389         45        640: 100%|██████████| 196/196 [01:36<00:00,  2.04it/s]\n",
            "                 Class     Images  Instances      Box(P          R      mAP50  mAP50-95): 100%|██████████| 29/29 [00:13<00:00,  2.16it/s]\n"
          ]
        },
        {
          "name": "stdout",
          "output_type": "stream",
          "text": [
            "                   all        900       1019      0.779      0.763      0.819      0.545\n",
            "\n",
            "      Epoch    GPU_mem   box_loss   cls_loss   dfl_loss  Instances       Size\n"
          ]
        },
        {
          "name": "stderr",
          "output_type": "stream",
          "text": [
            "     30/200      4.23G     0.9191      1.035      1.387         49        640: 100%|██████████| 196/196 [01:33<00:00,  2.10it/s]\n",
            "                 Class     Images  Instances      Box(P          R      mAP50  mAP50-95): 100%|██████████| 29/29 [00:15<00:00,  1.88it/s]"
          ]
        },
        {
          "name": "stdout",
          "output_type": "stream",
          "text": [
            "                   all        900       1019      0.818      0.729      0.817      0.537\n"
          ]
        },
        {
          "name": "stderr",
          "output_type": "stream",
          "text": [
            "\n"
          ]
        },
        {
          "name": "stdout",
          "output_type": "stream",
          "text": [
            "\n",
            "      Epoch    GPU_mem   box_loss   cls_loss   dfl_loss  Instances       Size\n"
          ]
        },
        {
          "name": "stderr",
          "output_type": "stream",
          "text": [
            "     31/200      4.23G     0.9185      1.016      1.385         42        640: 100%|██████████| 196/196 [01:30<00:00,  2.16it/s]\n",
            "                 Class     Images  Instances      Box(P          R      mAP50  mAP50-95): 100%|██████████| 29/29 [00:13<00:00,  2.12it/s]\n"
          ]
        },
        {
          "name": "stdout",
          "output_type": "stream",
          "text": [
            "                   all        900       1019      0.825      0.761      0.831      0.555\n",
            "\n",
            "      Epoch    GPU_mem   box_loss   cls_loss   dfl_loss  Instances       Size\n"
          ]
        },
        {
          "name": "stderr",
          "output_type": "stream",
          "text": [
            "     32/200      4.21G     0.9026      1.014      1.375         41        640: 100%|██████████| 196/196 [01:37<00:00,  2.02it/s]\n",
            "                 Class     Images  Instances      Box(P          R      mAP50  mAP50-95): 100%|██████████| 29/29 [00:16<00:00,  1.80it/s]\n"
          ]
        },
        {
          "name": "stdout",
          "output_type": "stream",
          "text": [
            "                   all        900       1019       0.84      0.745      0.827      0.552\n",
            "\n",
            "      Epoch    GPU_mem   box_loss   cls_loss   dfl_loss  Instances       Size\n"
          ]
        },
        {
          "name": "stderr",
          "output_type": "stream",
          "text": [
            "     33/200       4.2G     0.9084     0.9956      1.372         42        640: 100%|██████████| 196/196 [01:32<00:00,  2.11it/s]\n",
            "                 Class     Images  Instances      Box(P          R      mAP50  mAP50-95): 100%|██████████| 29/29 [00:13<00:00,  2.10it/s]"
          ]
        },
        {
          "name": "stdout",
          "output_type": "stream",
          "text": [
            "                   all        900       1019      0.793      0.729      0.809      0.547\n"
          ]
        },
        {
          "name": "stderr",
          "output_type": "stream",
          "text": [
            "\n"
          ]
        },
        {
          "name": "stdout",
          "output_type": "stream",
          "text": [
            "\n",
            "      Epoch    GPU_mem   box_loss   cls_loss   dfl_loss  Instances       Size\n"
          ]
        },
        {
          "name": "stderr",
          "output_type": "stream",
          "text": [
            "     34/200      4.22G     0.8984     0.9931      1.372         42        640: 100%|██████████| 196/196 [01:31<00:00,  2.13it/s]\n",
            "                 Class     Images  Instances      Box(P          R      mAP50  mAP50-95): 100%|██████████| 29/29 [00:15<00:00,  1.87it/s]"
          ]
        },
        {
          "name": "stdout",
          "output_type": "stream",
          "text": [
            "                   all        900       1019      0.793      0.765      0.832      0.553\n"
          ]
        },
        {
          "name": "stderr",
          "output_type": "stream",
          "text": [
            "\n"
          ]
        },
        {
          "name": "stdout",
          "output_type": "stream",
          "text": [
            "\n",
            "      Epoch    GPU_mem   box_loss   cls_loss   dfl_loss  Instances       Size\n"
          ]
        },
        {
          "name": "stderr",
          "output_type": "stream",
          "text": [
            "     35/200      4.23G      0.906     0.9725      1.378         27        640: 100%|██████████| 196/196 [01:38<00:00,  1.99it/s]\n",
            "                 Class     Images  Instances      Box(P          R      mAP50  mAP50-95): 100%|██████████| 29/29 [00:12<00:00,  2.30it/s]\n"
          ]
        },
        {
          "name": "stdout",
          "output_type": "stream",
          "text": [
            "                   all        900       1019      0.825      0.771      0.839      0.566\n",
            "\n",
            "      Epoch    GPU_mem   box_loss   cls_loss   dfl_loss  Instances       Size\n"
          ]
        },
        {
          "name": "stderr",
          "output_type": "stream",
          "text": [
            "     36/200      4.21G     0.8783     0.9896      1.355         41        640:  57%|█████▋    | 112/196 [00:51<00:30,  2.76it/s]"
          ]
        }
      ],
      "source": [
        "checkpoint_path1 = '/content/drive/MyDrive/CDIO-MachineLearning.v10i.yolov8/weight'  # Adjust the path as needed\n",
        "# Ensure the save directory exists\n",
        "os.makedirs(checkpoint_path, exist_ok=True)\n",
        "\n",
        "model = YOLO(\"yolov8s.pt\")\n",
        "\n",
        "model.train(data='/content/drive/MyDrive/CDIO-MachineLearning.v10i.yolov8/data.yaml', epochs=200, batch=16, save_period=1, project=checkpoint_path)\n",
        "\n",
        "#day one - epochs 35"
      ]
    },
    {
      "cell_type": "code",
      "execution_count": null,
      "metadata": {
        "colab": {
          "base_uri": "https://localhost:8080/"
        },
        "id": "Zd0gbMce3dN8",
        "outputId": "a089853b-38a4-4646-8d6a-9db348f6fa2e"
      },
      "outputs": [
        {
          "metadata": {
            "tags": null
          },
          "name": "stdout",
          "output_type": "stream",
          "text": [
            "Ultralytics YOLOv8.2.18 🚀 Python-3.10.12 torch-2.2.1+cu121 CUDA:0 (Tesla T4, 15102MiB)\n",
            "\u001b[34m\u001b[1mengine/trainer: \u001b[0mtask=detect, mode=train, model=/content/drive/MyDrive/CDIO-MachineLearning.v10i.yolov8/weight/train7/weights/last.pt, data=/content/drive/MyDrive/CDIO-MachineLearning.v10i.yolov8/data.yaml, epochs=200, time=None, patience=100, batch=16, imgsz=640, save=True, save_period=1, cache=False, device=None, workers=8, project=/content/drive/MyDrive/CDIO-MachineLearning.v10i.yolov8/weight, name=train8, exist_ok=False, pretrained=True, optimizer=auto, verbose=True, seed=0, deterministic=True, single_cls=False, rect=False, cos_lr=False, close_mosaic=10, resume=False, amp=True, fraction=1.0, profile=False, freeze=None, multi_scale=False, overlap_mask=True, mask_ratio=4, dropout=0.0, val=True, split=val, save_json=False, save_hybrid=False, conf=None, iou=0.7, max_det=300, half=False, dnn=False, plots=True, source=None, vid_stride=1, stream_buffer=False, visualize=False, augment=False, agnostic_nms=False, classes=None, retina_masks=False, embed=None, show=False, save_frames=False, save_txt=False, save_conf=False, save_crop=False, show_labels=True, show_conf=True, show_boxes=True, line_width=None, format=torchscript, keras=False, optimize=False, int8=False, dynamic=False, simplify=False, opset=None, workspace=4, nms=False, lr0=0.01, lrf=0.01, momentum=0.937, weight_decay=0.0005, warmup_epochs=3.0, warmup_momentum=0.8, warmup_bias_lr=0.1, box=7.5, cls=0.5, dfl=1.5, pose=12.0, kobj=1.0, label_smoothing=0.0, nbs=64, hsv_h=0.015, hsv_s=0.7, hsv_v=0.4, degrees=0.0, translate=0.1, scale=0.5, shear=0.0, perspective=0.0, flipud=0.0, fliplr=0.5, bgr=0.0, mosaic=1.0, mixup=0.0, copy_paste=0.0, auto_augment=randaugment, erasing=0.4, crop_fraction=1.0, cfg=None, tracker=botsort.yaml, save_dir=/content/drive/MyDrive/CDIO-MachineLearning.v10i.yolov8/weight/train8\n",
            "Downloading https://ultralytics.com/assets/Arial.ttf to '/root/.config/Ultralytics/Arial.ttf'...\n"
          ]
        },
        {
          "metadata": {
            "tags": null
          },
          "name": "stderr",
          "output_type": "stream",
          "text": [
            "100%|██████████| 755k/755k [00:00<00:00, 90.9MB/s]\n"
          ]
        },
        {
          "metadata": {
            "tags": null
          },
          "name": "stdout",
          "output_type": "stream",
          "text": [
            "\n",
            "                   from  n    params  module                                       arguments                     \n",
            "  0                  -1  1       928  ultralytics.nn.modules.conv.Conv             [3, 32, 3, 2]                 \n",
            "  1                  -1  1     18560  ultralytics.nn.modules.conv.Conv             [32, 64, 3, 2]                \n",
            "  2                  -1  1     29056  ultralytics.nn.modules.block.C2f             [64, 64, 1, True]             \n",
            "  3                  -1  1     73984  ultralytics.nn.modules.conv.Conv             [64, 128, 3, 2]               \n",
            "  4                  -1  2    197632  ultralytics.nn.modules.block.C2f             [128, 128, 2, True]           \n",
            "  5                  -1  1    295424  ultralytics.nn.modules.conv.Conv             [128, 256, 3, 2]              \n",
            "  6                  -1  2    788480  ultralytics.nn.modules.block.C2f             [256, 256, 2, True]           \n",
            "  7                  -1  1   1180672  ultralytics.nn.modules.conv.Conv             [256, 512, 3, 2]              \n",
            "  8                  -1  1   1838080  ultralytics.nn.modules.block.C2f             [512, 512, 1, True]           \n",
            "  9                  -1  1    656896  ultralytics.nn.modules.block.SPPF            [512, 512, 5]                 \n",
            " 10                  -1  1         0  torch.nn.modules.upsampling.Upsample         [None, 2, 'nearest']          \n",
            " 11             [-1, 6]  1         0  ultralytics.nn.modules.conv.Concat           [1]                           \n",
            " 12                  -1  1    591360  ultralytics.nn.modules.block.C2f             [768, 256, 1]                 \n",
            " 13                  -1  1         0  torch.nn.modules.upsampling.Upsample         [None, 2, 'nearest']          \n",
            " 14             [-1, 4]  1         0  ultralytics.nn.modules.conv.Concat           [1]                           \n",
            " 15                  -1  1    148224  ultralytics.nn.modules.block.C2f             [384, 128, 1]                 \n",
            " 16                  -1  1    147712  ultralytics.nn.modules.conv.Conv             [128, 128, 3, 2]              \n",
            " 17            [-1, 12]  1         0  ultralytics.nn.modules.conv.Concat           [1]                           \n",
            " 18                  -1  1    493056  ultralytics.nn.modules.block.C2f             [384, 256, 1]                 \n",
            " 19                  -1  1    590336  ultralytics.nn.modules.conv.Conv             [256, 256, 3, 2]              \n",
            " 20             [-1, 9]  1         0  ultralytics.nn.modules.conv.Concat           [1]                           \n",
            " 21                  -1  1   1969152  ultralytics.nn.modules.block.C2f             [768, 512, 1]                 \n",
            " 22        [15, 18, 21]  1   2120692  ultralytics.nn.modules.head.Detect           [12, [128, 256, 512]]         \n",
            "Model summary: 225 layers, 11140244 parameters, 11140228 gradients, 28.7 GFLOPs\n",
            "\n",
            "Transferred 355/355 items from pretrained weights\n",
            "\u001b[34m\u001b[1mTensorBoard: \u001b[0mStart with 'tensorboard --logdir /content/drive/MyDrive/CDIO-MachineLearning.v10i.yolov8/weight/train8', view at http://localhost:6006/\n",
            "Freezing layer 'model.22.dfl.conv.weight'\n",
            "\u001b[34m\u001b[1mAMP: \u001b[0mrunning Automatic Mixed Precision (AMP) checks with YOLOv8n...\n",
            "Downloading https://github.com/ultralytics/assets/releases/download/v8.2.0/yolov8n.pt to 'yolov8n.pt'...\n"
          ]
        },
        {
          "metadata": {
            "tags": null
          },
          "name": "stderr",
          "output_type": "stream",
          "text": [
            "100%|██████████| 6.23M/6.23M [00:00<00:00, 283MB/s]\n"
          ]
        },
        {
          "metadata": {
            "tags": null
          },
          "name": "stdout",
          "output_type": "stream",
          "text": [
            "\u001b[34m\u001b[1mAMP: \u001b[0mchecks passed ✅\n"
          ]
        },
        {
          "output_type": "stream",
          "name": "stderr",
          "text": [
            "\u001b[34m\u001b[1mtrain: \u001b[0mScanning /content/drive/MyDrive/CDIO-MachineLearning.v10i.yolov8/train/labels... 3136 images, 462 backgrounds, 0 corrupt: 100%|██████████| 3136/3136 [32:52<00:00,  1.59it/s]\n"
          ]
        },
        {
          "output_type": "stream",
          "name": "stdout",
          "text": [
            "\u001b[34m\u001b[1mtrain: \u001b[0mNew cache created: /content/drive/MyDrive/CDIO-MachineLearning.v10i.yolov8/train/labels.cache\n",
            "\u001b[34m\u001b[1malbumentations: \u001b[0mBlur(p=0.01, blur_limit=(3, 7)), MedianBlur(p=0.01, blur_limit=(3, 7)), ToGray(p=0.01), CLAHE(p=0.01, clip_limit=(1, 4.0), tile_grid_size=(8, 8))\n"
          ]
        },
        {
          "output_type": "stream",
          "name": "stderr",
          "text": [
            "/usr/lib/python3.10/multiprocessing/popen_fork.py:66: RuntimeWarning: os.fork() was called. os.fork() is incompatible with multithreaded code, and JAX is multithreaded, so this will likely lead to a deadlock.\n",
            "  self.pid = os.fork()\n",
            "\u001b[34m\u001b[1mval: \u001b[0mScanning /content/drive/MyDrive/CDIO-MachineLearning.v10i.yolov8/valid/labels... 900 images, 147 backgrounds, 0 corrupt: 100%|██████████| 900/900 [09:57<00:00,  1.51it/s]\n"
          ]
        },
        {
          "output_type": "stream",
          "name": "stdout",
          "text": [
            "\u001b[34m\u001b[1mval: \u001b[0mNew cache created: /content/drive/MyDrive/CDIO-MachineLearning.v10i.yolov8/valid/labels.cache\n",
            "Plotting labels to /content/drive/MyDrive/CDIO-MachineLearning.v10i.yolov8/weight/train8/labels.jpg... \n",
            "\u001b[34m\u001b[1moptimizer:\u001b[0m 'optimizer=auto' found, ignoring 'lr0=0.01' and 'momentum=0.937' and determining best 'optimizer', 'lr0' and 'momentum' automatically... \n",
            "\u001b[34m\u001b[1moptimizer:\u001b[0m AdamW(lr=0.000625, momentum=0.9) with parameter groups 57 weight(decay=0.0), 64 weight(decay=0.0005), 63 bias(decay=0.0)\n",
            "\u001b[34m\u001b[1mTensorBoard: \u001b[0mmodel graph visualization added ✅\n",
            "Image sizes 640 train, 640 val\n",
            "Using 2 dataloader workers\n",
            "Logging results to \u001b[1m/content/drive/MyDrive/CDIO-MachineLearning.v10i.yolov8/weight/train8\u001b[0m\n",
            "Starting training for 200 epochs...\n",
            "\n",
            "      Epoch    GPU_mem   box_loss   cls_loss   dfl_loss  Instances       Size\n"
          ]
        },
        {
          "output_type": "stream",
          "name": "stderr",
          "text": [
            "      1/200      4.28G      0.528     0.4444      1.094         41        640: 100%|██████████| 196/196 [01:41<00:00,  1.93it/s]\n",
            "                 Class     Images  Instances      Box(P          R      mAP50  mAP50-95): 100%|██████████| 29/29 [00:17<00:00,  1.63it/s]"
          ]
        },
        {
          "output_type": "stream",
          "name": "stdout",
          "text": [
            "                   all        900       1019      0.863       0.83      0.874      0.622\n"
          ]
        },
        {
          "output_type": "stream",
          "name": "stderr",
          "text": [
            "\n"
          ]
        },
        {
          "output_type": "stream",
          "name": "stdout",
          "text": [
            "\n",
            "      Epoch    GPU_mem   box_loss   cls_loss   dfl_loss  Instances       Size\n"
          ]
        },
        {
          "output_type": "stream",
          "name": "stderr",
          "text": [
            "      2/200      4.37G     0.5027     0.4135      1.078         31        640: 100%|██████████| 196/196 [01:38<00:00,  1.99it/s]\n",
            "                 Class     Images  Instances      Box(P          R      mAP50  mAP50-95): 100%|██████████| 29/29 [00:17<00:00,  1.69it/s]\n"
          ]
        },
        {
          "output_type": "stream",
          "name": "stdout",
          "text": [
            "                   all        900       1019       0.88      0.809      0.863      0.604\n",
            "\n",
            "      Epoch    GPU_mem   box_loss   cls_loss   dfl_loss  Instances       Size\n"
          ]
        },
        {
          "output_type": "stream",
          "name": "stderr",
          "text": [
            "      3/200      4.23G      0.525     0.4306      1.085         45        640: 100%|██████████| 196/196 [01:36<00:00,  2.02it/s]\n",
            "                 Class     Images  Instances      Box(P          R      mAP50  mAP50-95): 100%|██████████| 29/29 [00:17<00:00,  1.66it/s]"
          ]
        },
        {
          "output_type": "stream",
          "name": "stdout",
          "text": [
            "                   all        900       1019      0.847      0.801      0.865      0.606\n"
          ]
        },
        {
          "output_type": "stream",
          "name": "stderr",
          "text": [
            "\n"
          ]
        },
        {
          "output_type": "stream",
          "name": "stdout",
          "text": [
            "\n",
            "      Epoch    GPU_mem   box_loss   cls_loss   dfl_loss  Instances       Size\n"
          ]
        },
        {
          "output_type": "stream",
          "name": "stderr",
          "text": [
            "      4/200      4.21G     0.5191     0.4376      1.088         42        640: 100%|██████████| 196/196 [01:36<00:00,  2.02it/s]\n",
            "                 Class     Images  Instances      Box(P          R      mAP50  mAP50-95): 100%|██████████| 29/29 [00:15<00:00,  1.92it/s]\n"
          ]
        },
        {
          "output_type": "stream",
          "name": "stdout",
          "text": [
            "                   all        900       1019      0.883      0.777      0.855      0.588\n",
            "\n",
            "      Epoch    GPU_mem   box_loss   cls_loss   dfl_loss  Instances       Size\n"
          ]
        },
        {
          "output_type": "stream",
          "name": "stderr",
          "text": [
            "      5/200      4.21G      0.537     0.4468       1.09         49        640: 100%|██████████| 196/196 [01:35<00:00,  2.05it/s]\n",
            "                 Class     Images  Instances      Box(P          R      mAP50  mAP50-95): 100%|██████████| 29/29 [00:15<00:00,  1.88it/s]"
          ]
        },
        {
          "output_type": "stream",
          "name": "stdout",
          "text": [
            "                   all        900       1019      0.884      0.795      0.857      0.593\n"
          ]
        },
        {
          "output_type": "stream",
          "name": "stderr",
          "text": [
            "\n"
          ]
        },
        {
          "output_type": "stream",
          "name": "stdout",
          "text": [
            "\n",
            "      Epoch    GPU_mem   box_loss   cls_loss   dfl_loss  Instances       Size\n"
          ]
        },
        {
          "output_type": "stream",
          "name": "stderr",
          "text": [
            "      6/200      4.22G     0.5381      0.445      1.096         38        640: 100%|██████████| 196/196 [01:36<00:00,  2.03it/s]\n",
            "                 Class     Images  Instances      Box(P          R      mAP50  mAP50-95): 100%|██████████| 29/29 [00:16<00:00,  1.76it/s]"
          ]
        },
        {
          "output_type": "stream",
          "name": "stdout",
          "text": [
            "                   all        900       1019      0.862      0.798      0.859      0.597\n"
          ]
        },
        {
          "output_type": "stream",
          "name": "stderr",
          "text": [
            "\n"
          ]
        },
        {
          "output_type": "stream",
          "name": "stdout",
          "text": [
            "\n",
            "      Epoch    GPU_mem   box_loss   cls_loss   dfl_loss  Instances       Size\n"
          ]
        },
        {
          "output_type": "stream",
          "name": "stderr",
          "text": [
            "      7/200      4.21G     0.5372     0.4464      1.096         51        640: 100%|██████████| 196/196 [01:36<00:00,  2.02it/s]\n",
            "                 Class     Images  Instances      Box(P          R      mAP50  mAP50-95): 100%|██████████| 29/29 [00:16<00:00,  1.79it/s]"
          ]
        },
        {
          "output_type": "stream",
          "name": "stdout",
          "text": [
            "                   all        900       1019      0.861      0.805       0.86      0.596\n"
          ]
        },
        {
          "output_type": "stream",
          "name": "stderr",
          "text": [
            "\n"
          ]
        },
        {
          "output_type": "stream",
          "name": "stdout",
          "text": [
            "\n",
            "      Epoch    GPU_mem   box_loss   cls_loss   dfl_loss  Instances       Size\n"
          ]
        },
        {
          "output_type": "stream",
          "name": "stderr",
          "text": [
            "      8/200      4.21G     0.5276     0.4358      1.088         36        640: 100%|██████████| 196/196 [01:39<00:00,  1.97it/s]\n",
            "                 Class     Images  Instances      Box(P          R      mAP50  mAP50-95): 100%|██████████| 29/29 [00:13<00:00,  2.12it/s]\n"
          ]
        },
        {
          "output_type": "stream",
          "name": "stdout",
          "text": [
            "                   all        900       1019      0.839       0.77      0.835      0.578\n",
            "\n",
            "      Epoch    GPU_mem   box_loss   cls_loss   dfl_loss  Instances       Size\n"
          ]
        },
        {
          "output_type": "stream",
          "name": "stderr",
          "text": [
            "      9/200      4.23G     0.5327     0.4474      1.093         46        640: 100%|██████████| 196/196 [01:36<00:00,  2.03it/s]\n",
            "                 Class     Images  Instances      Box(P          R      mAP50  mAP50-95): 100%|██████████| 29/29 [00:16<00:00,  1.74it/s]"
          ]
        },
        {
          "output_type": "stream",
          "name": "stdout",
          "text": [
            "                   all        900       1019       0.88        0.8      0.865      0.608\n"
          ]
        },
        {
          "output_type": "stream",
          "name": "stderr",
          "text": [
            "\n"
          ]
        },
        {
          "output_type": "stream",
          "name": "stdout",
          "text": [
            "\n",
            "      Epoch    GPU_mem   box_loss   cls_loss   dfl_loss  Instances       Size\n"
          ]
        },
        {
          "output_type": "stream",
          "name": "stderr",
          "text": [
            "     10/200      4.22G     0.5379      0.448      1.099         34        640: 100%|██████████| 196/196 [01:38<00:00,  1.99it/s]\n",
            "                 Class     Images  Instances      Box(P          R      mAP50  mAP50-95): 100%|██████████| 29/29 [00:16<00:00,  1.72it/s]\n"
          ]
        },
        {
          "output_type": "stream",
          "name": "stdout",
          "text": [
            "                   all        900       1019      0.851      0.822      0.863      0.601\n",
            "\n",
            "      Epoch    GPU_mem   box_loss   cls_loss   dfl_loss  Instances       Size\n"
          ]
        },
        {
          "output_type": "stream",
          "name": "stderr",
          "text": [
            "     11/200      4.23G     0.5346     0.4498      1.097         40        640: 100%|██████████| 196/196 [01:37<00:00,  2.02it/s]\n",
            "                 Class     Images  Instances      Box(P          R      mAP50  mAP50-95): 100%|██████████| 29/29 [00:13<00:00,  2.18it/s]"
          ]
        },
        {
          "output_type": "stream",
          "name": "stdout",
          "text": [
            "                   all        900       1019      0.856      0.774      0.841      0.578\n"
          ]
        },
        {
          "output_type": "stream",
          "name": "stderr",
          "text": [
            "\n"
          ]
        },
        {
          "output_type": "stream",
          "name": "stdout",
          "text": [
            "\n",
            "      Epoch    GPU_mem   box_loss   cls_loss   dfl_loss  Instances       Size\n"
          ]
        },
        {
          "output_type": "stream",
          "name": "stderr",
          "text": [
            "     12/200      4.21G     0.5283     0.4465       1.09         35        640: 100%|██████████| 196/196 [01:36<00:00,  2.02it/s]\n",
            "                 Class     Images  Instances      Box(P          R      mAP50  mAP50-95): 100%|██████████| 29/29 [00:16<00:00,  1.75it/s]"
          ]
        },
        {
          "output_type": "stream",
          "name": "stdout",
          "text": [
            "                   all        900       1019      0.852       0.81      0.864      0.604\n"
          ]
        },
        {
          "output_type": "stream",
          "name": "stderr",
          "text": [
            "\n"
          ]
        },
        {
          "output_type": "stream",
          "name": "stdout",
          "text": [
            "\n",
            "      Epoch    GPU_mem   box_loss   cls_loss   dfl_loss  Instances       Size\n"
          ]
        },
        {
          "output_type": "stream",
          "name": "stderr",
          "text": [
            "     13/200      4.23G     0.5255     0.4354      1.092         42        640: 100%|██████████| 196/196 [01:38<00:00,  1.99it/s]\n",
            "                 Class     Images  Instances      Box(P          R      mAP50  mAP50-95): 100%|██████████| 29/29 [00:15<00:00,  1.83it/s]"
          ]
        },
        {
          "output_type": "stream",
          "name": "stdout",
          "text": [
            "                   all        900       1019      0.874      0.797      0.856        0.6\n"
          ]
        },
        {
          "output_type": "stream",
          "name": "stderr",
          "text": [
            "\n"
          ]
        },
        {
          "output_type": "stream",
          "name": "stdout",
          "text": [
            "\n",
            "      Epoch    GPU_mem   box_loss   cls_loss   dfl_loss  Instances       Size\n"
          ]
        },
        {
          "output_type": "stream",
          "name": "stderr",
          "text": [
            "     14/200      4.21G     0.5327     0.4493      1.096         44        640: 100%|██████████| 196/196 [01:38<00:00,  1.99it/s]\n",
            "                 Class     Images  Instances      Box(P          R      mAP50  mAP50-95): 100%|██████████| 29/29 [00:15<00:00,  1.92it/s]"
          ]
        },
        {
          "output_type": "stream",
          "name": "stdout",
          "text": [
            "                   all        900       1019      0.843      0.754      0.834      0.575\n"
          ]
        },
        {
          "output_type": "stream",
          "name": "stderr",
          "text": [
            "\n"
          ]
        },
        {
          "output_type": "stream",
          "name": "stdout",
          "text": [
            "\n",
            "      Epoch    GPU_mem   box_loss   cls_loss   dfl_loss  Instances       Size\n"
          ]
        },
        {
          "output_type": "stream",
          "name": "stderr",
          "text": [
            "     15/200      4.21G     0.5419     0.4521      1.099         50        640: 100%|██████████| 196/196 [01:36<00:00,  2.04it/s]\n",
            "                 Class     Images  Instances      Box(P          R      mAP50  mAP50-95): 100%|██████████| 29/29 [00:16<00:00,  1.78it/s]\n"
          ]
        },
        {
          "output_type": "stream",
          "name": "stdout",
          "text": [
            "                   all        900       1019      0.844      0.794      0.855      0.588\n",
            "\n",
            "      Epoch    GPU_mem   box_loss   cls_loss   dfl_loss  Instances       Size\n"
          ]
        },
        {
          "output_type": "stream",
          "name": "stderr",
          "text": [
            "     16/200      4.21G     0.5348     0.4493      1.093         38        640: 100%|██████████| 196/196 [01:39<00:00,  1.96it/s]\n",
            "                 Class     Images  Instances      Box(P          R      mAP50  mAP50-95): 100%|██████████| 29/29 [00:15<00:00,  1.82it/s]"
          ]
        },
        {
          "output_type": "stream",
          "name": "stdout",
          "text": [
            "                   all        900       1019      0.856      0.766      0.841       0.59\n"
          ]
        },
        {
          "output_type": "stream",
          "name": "stderr",
          "text": [
            "\n"
          ]
        },
        {
          "output_type": "stream",
          "name": "stdout",
          "text": [
            "\n",
            "      Epoch    GPU_mem   box_loss   cls_loss   dfl_loss  Instances       Size\n"
          ]
        },
        {
          "output_type": "stream",
          "name": "stderr",
          "text": [
            "     17/200      4.21G     0.5374     0.4531      1.091         43        640: 100%|██████████| 196/196 [01:38<00:00,  1.99it/s]\n",
            "                 Class     Images  Instances      Box(P          R      mAP50  mAP50-95): 100%|██████████| 29/29 [00:14<00:00,  1.94it/s]"
          ]
        },
        {
          "output_type": "stream",
          "name": "stdout",
          "text": [
            "                   all        900       1019      0.854      0.811      0.867      0.602\n"
          ]
        },
        {
          "output_type": "stream",
          "name": "stderr",
          "text": [
            "\n"
          ]
        },
        {
          "output_type": "stream",
          "name": "stdout",
          "text": [
            "\n",
            "      Epoch    GPU_mem   box_loss   cls_loss   dfl_loss  Instances       Size\n"
          ]
        },
        {
          "output_type": "stream",
          "name": "stderr",
          "text": [
            "     18/200      4.22G       0.53     0.4429      1.089         45        640: 100%|██████████| 196/196 [01:37<00:00,  2.00it/s]\n",
            "                 Class     Images  Instances      Box(P          R      mAP50  mAP50-95): 100%|██████████| 29/29 [00:16<00:00,  1.80it/s]"
          ]
        },
        {
          "output_type": "stream",
          "name": "stdout",
          "text": [
            "                   all        900       1019      0.877        0.8      0.858      0.603\n"
          ]
        },
        {
          "output_type": "stream",
          "name": "stderr",
          "text": [
            "\n"
          ]
        },
        {
          "output_type": "stream",
          "name": "stdout",
          "text": [
            "\n",
            "      Epoch    GPU_mem   box_loss   cls_loss   dfl_loss  Instances       Size\n"
          ]
        },
        {
          "output_type": "stream",
          "name": "stderr",
          "text": [
            "     19/200      4.21G     0.5272     0.4472      1.093         37        640: 100%|██████████| 196/196 [01:38<00:00,  1.98it/s]\n",
            "                 Class     Images  Instances      Box(P          R      mAP50  mAP50-95): 100%|██████████| 29/29 [00:16<00:00,  1.76it/s]\n"
          ]
        },
        {
          "output_type": "stream",
          "name": "stdout",
          "text": [
            "                   all        900       1019      0.859      0.794      0.863      0.603\n",
            "\n",
            "      Epoch    GPU_mem   box_loss   cls_loss   dfl_loss  Instances       Size\n"
          ]
        },
        {
          "output_type": "stream",
          "name": "stderr",
          "text": [
            "     20/200      4.21G     0.5391     0.4533      1.099         51        640: 100%|██████████| 196/196 [01:39<00:00,  1.97it/s]\n",
            "                 Class     Images  Instances      Box(P          R      mAP50  mAP50-95): 100%|██████████| 29/29 [00:15<00:00,  1.83it/s]"
          ]
        },
        {
          "output_type": "stream",
          "name": "stdout",
          "text": [
            "                   all        900       1019      0.876      0.782       0.86      0.603\n"
          ]
        },
        {
          "output_type": "stream",
          "name": "stderr",
          "text": [
            "\n"
          ]
        },
        {
          "output_type": "stream",
          "name": "stdout",
          "text": [
            "\n",
            "      Epoch    GPU_mem   box_loss   cls_loss   dfl_loss  Instances       Size\n"
          ]
        },
        {
          "output_type": "stream",
          "name": "stderr",
          "text": [
            "     21/200      4.21G     0.5212     0.4385      1.078         45        640:  18%|█▊        | 35/196 [00:15<01:36,  1.67it/s]"
          ]
        }
      ],
      "source": [
        "checkpoint_path1 = '/content/drive/MyDrive/CDIO-MachineLearning.v10i.yolov8/weight'\n",
        "checkpoint_path2 = '/content/drive/MyDrive/CDIO-MachineLearning.v10i.yolov8/weight/train7/weights/last.pt'\n",
        "model = YOLO(checkpoint_path2)\n",
        "\n",
        "# Continue training the model\n",
        "model.train(data='/content/drive/MyDrive/CDIO-MachineLearning.v10i.yolov8/data.yaml', epochs=200, batch=16, save_period=1, project=checkpoint_path1)"
      ]
    },
    {
      "cell_type": "code",
      "execution_count": null,
      "metadata": {
        "id": "rN2PPe8sxCcv"
      },
      "outputs": [],
      "source": [
        "model = YOLO('/content/drive/MyDrive/CDIO-MachineLearning.v10i.yolov8/weight/train8/weights/best.pt')"
      ]
    },
    {
      "cell_type": "code",
      "execution_count": null,
      "metadata": {
        "id": "C-EJMPRX95Up",
        "colab": {
          "base_uri": "https://localhost:8080/"
        },
        "outputId": "722207af-33c6-429e-ccf2-f2537fcc9a06"
      },
      "outputs": [
        {
          "output_type": "stream",
          "name": "stdout",
          "text": [
            "Ultralytics YOLOv8.2.18 🚀 Python-3.10.12 torch-2.2.1+cu121 CPU (Intel Xeon 2.20GHz)\n",
            "Model summary (fused): 168 layers, 11130228 parameters, 0 gradients, 28.5 GFLOPs\n",
            "Downloading https://ultralytics.com/assets/Arial.ttf to '/root/.config/Ultralytics/Arial.ttf'...\n"
          ]
        },
        {
          "output_type": "stream",
          "name": "stderr",
          "text": [
            "100%|██████████| 755k/755k [00:00<00:00, 15.0MB/s]\n",
            "\u001b[34m\u001b[1mval: \u001b[0mScanning /content/drive/MyDrive/CDIO-MachineLearning.v10i.yolov8/valid/labels.cache... 900 images, 147 backgrounds, 0 corrupt: 100%|██████████| 900/900 [00:00<?, ?it/s]\n",
            "                 Class     Images  Instances      Box(P          R      mAP50  mAP50-95): 100%|██████████| 57/57 [14:48<00:00, 15.58s/it]\n"
          ]
        },
        {
          "output_type": "stream",
          "name": "stdout",
          "text": [
            "                   all        900       1019      0.863       0.83      0.874      0.621\n",
            "african_elephant-endangered        900         91      0.911       0.89      0.935      0.698\n",
            "amur_leopard-endangered        900         65      0.824      0.815      0.843      0.553\n",
            " arctic_fox-endangered        900         95      0.928      0.951      0.957      0.772\n",
            "asian_elephant-endangered        900        119      0.773      0.824      0.846       0.63\n",
            "    cheetah-endangered        900         69      0.823      0.826      0.847      0.579\n",
            " jaguar_not-endangered        900         55      0.914      0.836      0.917      0.677\n",
            "killer_whale-endangered        900         89       0.82      0.798      0.835      0.441\n",
            "       lion-endangered        900         87      0.928      0.805      0.911      0.619\n",
            "  orangutan-endangered        900         58        0.7      0.707      0.683      0.392\n",
            "    panther-endangered        900         87      0.895      0.954       0.97      0.725\n",
            "      rhino-endangered        900         92      0.929      0.852      0.955      0.798\n",
            "      shark-endangered        900        112      0.916      0.696      0.784      0.574\n",
            "Speed: 10.0ms preprocess, 936.7ms inference, 0.0ms loss, 0.7ms postprocess per image\n",
            "Results saved to \u001b[1mruns/detect/val\u001b[0m\n"
          ]
        }
      ],
      "source": [
        "metrics = model.val()"
      ]
    },
    {
      "cell_type": "code",
      "execution_count": null,
      "metadata": {
        "id": "RXcq5LJs-ICH",
        "colab": {
          "base_uri": "https://localhost:8080/"
        },
        "outputId": "8f22dddb-a7da-418e-bd7f-0df905f8f01d"
      },
      "outputs": [
        {
          "output_type": "execute_result",
          "data": {
            "text/plain": [
              "ultralytics.utils.metrics.DetMetrics object with attributes:\n",
              "\n",
              "ap_class_index: array([ 0,  1,  2,  3,  4,  5,  6,  7,  8,  9, 10, 11])\n",
              "box: ultralytics.utils.metrics.Metric object\n",
              "confusion_matrix: <ultralytics.utils.metrics.ConfusionMatrix object at 0x78ea2e072b00>\n",
              "curves: ['Precision-Recall(B)', 'F1-Confidence(B)', 'Precision-Confidence(B)', 'Recall-Confidence(B)']\n",
              "curves_results: [[array([          0,    0.001001,    0.002002,    0.003003,    0.004004,    0.005005,    0.006006,    0.007007,    0.008008,    0.009009,     0.01001,    0.011011,    0.012012,    0.013013,    0.014014,    0.015015,    0.016016,    0.017017,    0.018018,    0.019019,     0.02002,    0.021021,    0.022022,    0.023023,\n",
              "          0.024024,    0.025025,    0.026026,    0.027027,    0.028028,    0.029029,     0.03003,    0.031031,    0.032032,    0.033033,    0.034034,    0.035035,    0.036036,    0.037037,    0.038038,    0.039039,     0.04004,    0.041041,    0.042042,    0.043043,    0.044044,    0.045045,    0.046046,    0.047047,\n",
              "          0.048048,    0.049049,     0.05005,    0.051051,    0.052052,    0.053053,    0.054054,    0.055055,    0.056056,    0.057057,    0.058058,    0.059059,     0.06006,    0.061061,    0.062062,    0.063063,    0.064064,    0.065065,    0.066066,    0.067067,    0.068068,    0.069069,     0.07007,    0.071071,\n",
              "          0.072072,    0.073073,    0.074074,    0.075075,    0.076076,    0.077077,    0.078078,    0.079079,     0.08008,    0.081081,    0.082082,    0.083083,    0.084084,    0.085085,    0.086086,    0.087087,    0.088088,    0.089089,     0.09009,    0.091091,    0.092092,    0.093093,    0.094094,    0.095095,\n",
              "          0.096096,    0.097097,    0.098098,    0.099099,      0.1001,      0.1011,      0.1021,      0.1031,      0.1041,     0.10511,     0.10611,     0.10711,     0.10811,     0.10911,     0.11011,     0.11111,     0.11211,     0.11311,     0.11411,     0.11512,     0.11612,     0.11712,     0.11812,     0.11912,\n",
              "           0.12012,     0.12112,     0.12212,     0.12312,     0.12412,     0.12513,     0.12613,     0.12713,     0.12813,     0.12913,     0.13013,     0.13113,     0.13213,     0.13313,     0.13413,     0.13514,     0.13614,     0.13714,     0.13814,     0.13914,     0.14014,     0.14114,     0.14214,     0.14314,\n",
              "           0.14414,     0.14515,     0.14615,     0.14715,     0.14815,     0.14915,     0.15015,     0.15115,     0.15215,     0.15315,     0.15415,     0.15516,     0.15616,     0.15716,     0.15816,     0.15916,     0.16016,     0.16116,     0.16216,     0.16316,     0.16416,     0.16517,     0.16617,     0.16717,\n",
              "           0.16817,     0.16917,     0.17017,     0.17117,     0.17217,     0.17317,     0.17417,     0.17518,     0.17618,     0.17718,     0.17818,     0.17918,     0.18018,     0.18118,     0.18218,     0.18318,     0.18418,     0.18519,     0.18619,     0.18719,     0.18819,     0.18919,     0.19019,     0.19119,\n",
              "           0.19219,     0.19319,     0.19419,      0.1952,      0.1962,      0.1972,      0.1982,      0.1992,      0.2002,      0.2012,      0.2022,      0.2032,      0.2042,     0.20521,     0.20621,     0.20721,     0.20821,     0.20921,     0.21021,     0.21121,     0.21221,     0.21321,     0.21421,     0.21522,\n",
              "           0.21622,     0.21722,     0.21822,     0.21922,     0.22022,     0.22122,     0.22222,     0.22322,     0.22422,     0.22523,     0.22623,     0.22723,     0.22823,     0.22923,     0.23023,     0.23123,     0.23223,     0.23323,     0.23423,     0.23524,     0.23624,     0.23724,     0.23824,     0.23924,\n",
              "           0.24024,     0.24124,     0.24224,     0.24324,     0.24424,     0.24525,     0.24625,     0.24725,     0.24825,     0.24925,     0.25025,     0.25125,     0.25225,     0.25325,     0.25425,     0.25526,     0.25626,     0.25726,     0.25826,     0.25926,     0.26026,     0.26126,     0.26226,     0.26326,\n",
              "           0.26426,     0.26527,     0.26627,     0.26727,     0.26827,     0.26927,     0.27027,     0.27127,     0.27227,     0.27327,     0.27427,     0.27528,     0.27628,     0.27728,     0.27828,     0.27928,     0.28028,     0.28128,     0.28228,     0.28328,     0.28428,     0.28529,     0.28629,     0.28729,\n",
              "           0.28829,     0.28929,     0.29029,     0.29129,     0.29229,     0.29329,     0.29429,      0.2953,      0.2963,      0.2973,      0.2983,      0.2993,      0.3003,      0.3013,      0.3023,      0.3033,      0.3043,     0.30531,     0.30631,     0.30731,     0.30831,     0.30931,     0.31031,     0.31131,\n",
              "           0.31231,     0.31331,     0.31431,     0.31532,     0.31632,     0.31732,     0.31832,     0.31932,     0.32032,     0.32132,     0.32232,     0.32332,     0.32432,     0.32533,     0.32633,     0.32733,     0.32833,     0.32933,     0.33033,     0.33133,     0.33233,     0.33333,     0.33433,     0.33534,\n",
              "           0.33634,     0.33734,     0.33834,     0.33934,     0.34034,     0.34134,     0.34234,     0.34334,     0.34434,     0.34535,     0.34635,     0.34735,     0.34835,     0.34935,     0.35035,     0.35135,     0.35235,     0.35335,     0.35435,     0.35536,     0.35636,     0.35736,     0.35836,     0.35936,\n",
              "           0.36036,     0.36136,     0.36236,     0.36336,     0.36436,     0.36537,     0.36637,     0.36737,     0.36837,     0.36937,     0.37037,     0.37137,     0.37237,     0.37337,     0.37437,     0.37538,     0.37638,     0.37738,     0.37838,     0.37938,     0.38038,     0.38138,     0.38238,     0.38338,\n",
              "           0.38438,     0.38539,     0.38639,     0.38739,     0.38839,     0.38939,     0.39039,     0.39139,     0.39239,     0.39339,     0.39439,      0.3954,      0.3964,      0.3974,      0.3984,      0.3994,      0.4004,      0.4014,      0.4024,      0.4034,      0.4044,     0.40541,     0.40641,     0.40741,\n",
              "           0.40841,     0.40941,     0.41041,     0.41141,     0.41241,     0.41341,     0.41441,     0.41542,     0.41642,     0.41742,     0.41842,     0.41942,     0.42042,     0.42142,     0.42242,     0.42342,     0.42442,     0.42543,     0.42643,     0.42743,     0.42843,     0.42943,     0.43043,     0.43143,\n",
              "           0.43243,     0.43343,     0.43443,     0.43544,     0.43644,     0.43744,     0.43844,     0.43944,     0.44044,     0.44144,     0.44244,     0.44344,     0.44444,     0.44545,     0.44645,     0.44745,     0.44845,     0.44945,     0.45045,     0.45145,     0.45245,     0.45345,     0.45445,     0.45546,\n",
              "           0.45646,     0.45746,     0.45846,     0.45946,     0.46046,     0.46146,     0.46246,     0.46346,     0.46446,     0.46547,     0.46647,     0.46747,     0.46847,     0.46947,     0.47047,     0.47147,     0.47247,     0.47347,     0.47447,     0.47548,     0.47648,     0.47748,     0.47848,     0.47948,\n",
              "           0.48048,     0.48148,     0.48248,     0.48348,     0.48448,     0.48549,     0.48649,     0.48749,     0.48849,     0.48949,     0.49049,     0.49149,     0.49249,     0.49349,     0.49449,      0.4955,      0.4965,      0.4975,      0.4985,      0.4995,      0.5005,      0.5015,      0.5025,      0.5035,\n",
              "            0.5045,     0.50551,     0.50651,     0.50751,     0.50851,     0.50951,     0.51051,     0.51151,     0.51251,     0.51351,     0.51451,     0.51552,     0.51652,     0.51752,     0.51852,     0.51952,     0.52052,     0.52152,     0.52252,     0.52352,     0.52452,     0.52553,     0.52653,     0.52753,\n",
              "           0.52853,     0.52953,     0.53053,     0.53153,     0.53253,     0.53353,     0.53453,     0.53554,     0.53654,     0.53754,     0.53854,     0.53954,     0.54054,     0.54154,     0.54254,     0.54354,     0.54454,     0.54555,     0.54655,     0.54755,     0.54855,     0.54955,     0.55055,     0.55155,\n",
              "           0.55255,     0.55355,     0.55455,     0.55556,     0.55656,     0.55756,     0.55856,     0.55956,     0.56056,     0.56156,     0.56256,     0.56356,     0.56456,     0.56557,     0.56657,     0.56757,     0.56857,     0.56957,     0.57057,     0.57157,     0.57257,     0.57357,     0.57457,     0.57558,\n",
              "           0.57658,     0.57758,     0.57858,     0.57958,     0.58058,     0.58158,     0.58258,     0.58358,     0.58458,     0.58559,     0.58659,     0.58759,     0.58859,     0.58959,     0.59059,     0.59159,     0.59259,     0.59359,     0.59459,      0.5956,      0.5966,      0.5976,      0.5986,      0.5996,\n",
              "            0.6006,      0.6016,      0.6026,      0.6036,      0.6046,     0.60561,     0.60661,     0.60761,     0.60861,     0.60961,     0.61061,     0.61161,     0.61261,     0.61361,     0.61461,     0.61562,     0.61662,     0.61762,     0.61862,     0.61962,     0.62062,     0.62162,     0.62262,     0.62362,\n",
              "           0.62462,     0.62563,     0.62663,     0.62763,     0.62863,     0.62963,     0.63063,     0.63163,     0.63263,     0.63363,     0.63463,     0.63564,     0.63664,     0.63764,     0.63864,     0.63964,     0.64064,     0.64164,     0.64264,     0.64364,     0.64464,     0.64565,     0.64665,     0.64765,\n",
              "           0.64865,     0.64965,     0.65065,     0.65165,     0.65265,     0.65365,     0.65465,     0.65566,     0.65666,     0.65766,     0.65866,     0.65966,     0.66066,     0.66166,     0.66266,     0.66366,     0.66466,     0.66567,     0.66667,     0.66767,     0.66867,     0.66967,     0.67067,     0.67167,\n",
              "           0.67267,     0.67367,     0.67467,     0.67568,     0.67668,     0.67768,     0.67868,     0.67968,     0.68068,     0.68168,     0.68268,     0.68368,     0.68468,     0.68569,     0.68669,     0.68769,     0.68869,     0.68969,     0.69069,     0.69169,     0.69269,     0.69369,     0.69469,      0.6957,\n",
              "            0.6967,      0.6977,      0.6987,      0.6997,      0.7007,      0.7017,      0.7027,      0.7037,      0.7047,     0.70571,     0.70671,     0.70771,     0.70871,     0.70971,     0.71071,     0.71171,     0.71271,     0.71371,     0.71471,     0.71572,     0.71672,     0.71772,     0.71872,     0.71972,\n",
              "           0.72072,     0.72172,     0.72272,     0.72372,     0.72472,     0.72573,     0.72673,     0.72773,     0.72873,     0.72973,     0.73073,     0.73173,     0.73273,     0.73373,     0.73473,     0.73574,     0.73674,     0.73774,     0.73874,     0.73974,     0.74074,     0.74174,     0.74274,     0.74374,\n",
              "           0.74474,     0.74575,     0.74675,     0.74775,     0.74875,     0.74975,     0.75075,     0.75175,     0.75275,     0.75375,     0.75475,     0.75576,     0.75676,     0.75776,     0.75876,     0.75976,     0.76076,     0.76176,     0.76276,     0.76376,     0.76476,     0.76577,     0.76677,     0.76777,\n",
              "           0.76877,     0.76977,     0.77077,     0.77177,     0.77277,     0.77377,     0.77477,     0.77578,     0.77678,     0.77778,     0.77878,     0.77978,     0.78078,     0.78178,     0.78278,     0.78378,     0.78478,     0.78579,     0.78679,     0.78779,     0.78879,     0.78979,     0.79079,     0.79179,\n",
              "           0.79279,     0.79379,     0.79479,      0.7958,      0.7968,      0.7978,      0.7988,      0.7998,      0.8008,      0.8018,      0.8028,      0.8038,      0.8048,     0.80581,     0.80681,     0.80781,     0.80881,     0.80981,     0.81081,     0.81181,     0.81281,     0.81381,     0.81481,     0.81582,\n",
              "           0.81682,     0.81782,     0.81882,     0.81982,     0.82082,     0.82182,     0.82282,     0.82382,     0.82482,     0.82583,     0.82683,     0.82783,     0.82883,     0.82983,     0.83083,     0.83183,     0.83283,     0.83383,     0.83483,     0.83584,     0.83684,     0.83784,     0.83884,     0.83984,\n",
              "           0.84084,     0.84184,     0.84284,     0.84384,     0.84484,     0.84585,     0.84685,     0.84785,     0.84885,     0.84985,     0.85085,     0.85185,     0.85285,     0.85385,     0.85485,     0.85586,     0.85686,     0.85786,     0.85886,     0.85986,     0.86086,     0.86186,     0.86286,     0.86386,\n",
              "           0.86486,     0.86587,     0.86687,     0.86787,     0.86887,     0.86987,     0.87087,     0.87187,     0.87287,     0.87387,     0.87487,     0.87588,     0.87688,     0.87788,     0.87888,     0.87988,     0.88088,     0.88188,     0.88288,     0.88388,     0.88488,     0.88589,     0.88689,     0.88789,\n",
              "           0.88889,     0.88989,     0.89089,     0.89189,     0.89289,     0.89389,     0.89489,      0.8959,      0.8969,      0.8979,      0.8989,      0.8999,      0.9009,      0.9019,      0.9029,      0.9039,      0.9049,     0.90591,     0.90691,     0.90791,     0.90891,     0.90991,     0.91091,     0.91191,\n",
              "           0.91291,     0.91391,     0.91491,     0.91592,     0.91692,     0.91792,     0.91892,     0.91992,     0.92092,     0.92192,     0.92292,     0.92392,     0.92492,     0.92593,     0.92693,     0.92793,     0.92893,     0.92993,     0.93093,     0.93193,     0.93293,     0.93393,     0.93493,     0.93594,\n",
              "           0.93694,     0.93794,     0.93894,     0.93994,     0.94094,     0.94194,     0.94294,     0.94394,     0.94494,     0.94595,     0.94695,     0.94795,     0.94895,     0.94995,     0.95095,     0.95195,     0.95295,     0.95395,     0.95495,     0.95596,     0.95696,     0.95796,     0.95896,     0.95996,\n",
              "           0.96096,     0.96196,     0.96296,     0.96396,     0.96496,     0.96597,     0.96697,     0.96797,     0.96897,     0.96997,     0.97097,     0.97197,     0.97297,     0.97397,     0.97497,     0.97598,     0.97698,     0.97798,     0.97898,     0.97998,     0.98098,     0.98198,     0.98298,     0.98398,\n",
              "           0.98498,     0.98599,     0.98699,     0.98799,     0.98899,     0.98999,     0.99099,     0.99199,     0.99299,     0.99399,     0.99499,       0.996,       0.997,       0.998,       0.999,           1]), array([[          1,           1,           1, ...,    0.022083,    0.011041,           0],\n",
              "       [    0.91667,     0.91667,     0.91667, ...,    0.018807,   0.0094033,           0],\n",
              "       [          1,           1,           1, ...,    0.043141,     0.02157,           0],\n",
              "       ...,\n",
              "       [          1,           1,           1, ...,    0.085594,    0.042797,           0],\n",
              "       [          1,           1,           1, ...,    0.046563,    0.023282,           0],\n",
              "       [          1,           1,           1, ...,   0.0038428,   0.0019214,           0]]), 'Recall', 'Precision'], [array([          0,    0.001001,    0.002002,    0.003003,    0.004004,    0.005005,    0.006006,    0.007007,    0.008008,    0.009009,     0.01001,    0.011011,    0.012012,    0.013013,    0.014014,    0.015015,    0.016016,    0.017017,    0.018018,    0.019019,     0.02002,    0.021021,    0.022022,    0.023023,\n",
              "          0.024024,    0.025025,    0.026026,    0.027027,    0.028028,    0.029029,     0.03003,    0.031031,    0.032032,    0.033033,    0.034034,    0.035035,    0.036036,    0.037037,    0.038038,    0.039039,     0.04004,    0.041041,    0.042042,    0.043043,    0.044044,    0.045045,    0.046046,    0.047047,\n",
              "          0.048048,    0.049049,     0.05005,    0.051051,    0.052052,    0.053053,    0.054054,    0.055055,    0.056056,    0.057057,    0.058058,    0.059059,     0.06006,    0.061061,    0.062062,    0.063063,    0.064064,    0.065065,    0.066066,    0.067067,    0.068068,    0.069069,     0.07007,    0.071071,\n",
              "          0.072072,    0.073073,    0.074074,    0.075075,    0.076076,    0.077077,    0.078078,    0.079079,     0.08008,    0.081081,    0.082082,    0.083083,    0.084084,    0.085085,    0.086086,    0.087087,    0.088088,    0.089089,     0.09009,    0.091091,    0.092092,    0.093093,    0.094094,    0.095095,\n",
              "          0.096096,    0.097097,    0.098098,    0.099099,      0.1001,      0.1011,      0.1021,      0.1031,      0.1041,     0.10511,     0.10611,     0.10711,     0.10811,     0.10911,     0.11011,     0.11111,     0.11211,     0.11311,     0.11411,     0.11512,     0.11612,     0.11712,     0.11812,     0.11912,\n",
              "           0.12012,     0.12112,     0.12212,     0.12312,     0.12412,     0.12513,     0.12613,     0.12713,     0.12813,     0.12913,     0.13013,     0.13113,     0.13213,     0.13313,     0.13413,     0.13514,     0.13614,     0.13714,     0.13814,     0.13914,     0.14014,     0.14114,     0.14214,     0.14314,\n",
              "           0.14414,     0.14515,     0.14615,     0.14715,     0.14815,     0.14915,     0.15015,     0.15115,     0.15215,     0.15315,     0.15415,     0.15516,     0.15616,     0.15716,     0.15816,     0.15916,     0.16016,     0.16116,     0.16216,     0.16316,     0.16416,     0.16517,     0.16617,     0.16717,\n",
              "           0.16817,     0.16917,     0.17017,     0.17117,     0.17217,     0.17317,     0.17417,     0.17518,     0.17618,     0.17718,     0.17818,     0.17918,     0.18018,     0.18118,     0.18218,     0.18318,     0.18418,     0.18519,     0.18619,     0.18719,     0.18819,     0.18919,     0.19019,     0.19119,\n",
              "           0.19219,     0.19319,     0.19419,      0.1952,      0.1962,      0.1972,      0.1982,      0.1992,      0.2002,      0.2012,      0.2022,      0.2032,      0.2042,     0.20521,     0.20621,     0.20721,     0.20821,     0.20921,     0.21021,     0.21121,     0.21221,     0.21321,     0.21421,     0.21522,\n",
              "           0.21622,     0.21722,     0.21822,     0.21922,     0.22022,     0.22122,     0.22222,     0.22322,     0.22422,     0.22523,     0.22623,     0.22723,     0.22823,     0.22923,     0.23023,     0.23123,     0.23223,     0.23323,     0.23423,     0.23524,     0.23624,     0.23724,     0.23824,     0.23924,\n",
              "           0.24024,     0.24124,     0.24224,     0.24324,     0.24424,     0.24525,     0.24625,     0.24725,     0.24825,     0.24925,     0.25025,     0.25125,     0.25225,     0.25325,     0.25425,     0.25526,     0.25626,     0.25726,     0.25826,     0.25926,     0.26026,     0.26126,     0.26226,     0.26326,\n",
              "           0.26426,     0.26527,     0.26627,     0.26727,     0.26827,     0.26927,     0.27027,     0.27127,     0.27227,     0.27327,     0.27427,     0.27528,     0.27628,     0.27728,     0.27828,     0.27928,     0.28028,     0.28128,     0.28228,     0.28328,     0.28428,     0.28529,     0.28629,     0.28729,\n",
              "           0.28829,     0.28929,     0.29029,     0.29129,     0.29229,     0.29329,     0.29429,      0.2953,      0.2963,      0.2973,      0.2983,      0.2993,      0.3003,      0.3013,      0.3023,      0.3033,      0.3043,     0.30531,     0.30631,     0.30731,     0.30831,     0.30931,     0.31031,     0.31131,\n",
              "           0.31231,     0.31331,     0.31431,     0.31532,     0.31632,     0.31732,     0.31832,     0.31932,     0.32032,     0.32132,     0.32232,     0.32332,     0.32432,     0.32533,     0.32633,     0.32733,     0.32833,     0.32933,     0.33033,     0.33133,     0.33233,     0.33333,     0.33433,     0.33534,\n",
              "           0.33634,     0.33734,     0.33834,     0.33934,     0.34034,     0.34134,     0.34234,     0.34334,     0.34434,     0.34535,     0.34635,     0.34735,     0.34835,     0.34935,     0.35035,     0.35135,     0.35235,     0.35335,     0.35435,     0.35536,     0.35636,     0.35736,     0.35836,     0.35936,\n",
              "           0.36036,     0.36136,     0.36236,     0.36336,     0.36436,     0.36537,     0.36637,     0.36737,     0.36837,     0.36937,     0.37037,     0.37137,     0.37237,     0.37337,     0.37437,     0.37538,     0.37638,     0.37738,     0.37838,     0.37938,     0.38038,     0.38138,     0.38238,     0.38338,\n",
              "           0.38438,     0.38539,     0.38639,     0.38739,     0.38839,     0.38939,     0.39039,     0.39139,     0.39239,     0.39339,     0.39439,      0.3954,      0.3964,      0.3974,      0.3984,      0.3994,      0.4004,      0.4014,      0.4024,      0.4034,      0.4044,     0.40541,     0.40641,     0.40741,\n",
              "           0.40841,     0.40941,     0.41041,     0.41141,     0.41241,     0.41341,     0.41441,     0.41542,     0.41642,     0.41742,     0.41842,     0.41942,     0.42042,     0.42142,     0.42242,     0.42342,     0.42442,     0.42543,     0.42643,     0.42743,     0.42843,     0.42943,     0.43043,     0.43143,\n",
              "           0.43243,     0.43343,     0.43443,     0.43544,     0.43644,     0.43744,     0.43844,     0.43944,     0.44044,     0.44144,     0.44244,     0.44344,     0.44444,     0.44545,     0.44645,     0.44745,     0.44845,     0.44945,     0.45045,     0.45145,     0.45245,     0.45345,     0.45445,     0.45546,\n",
              "           0.45646,     0.45746,     0.45846,     0.45946,     0.46046,     0.46146,     0.46246,     0.46346,     0.46446,     0.46547,     0.46647,     0.46747,     0.46847,     0.46947,     0.47047,     0.47147,     0.47247,     0.47347,     0.47447,     0.47548,     0.47648,     0.47748,     0.47848,     0.47948,\n",
              "           0.48048,     0.48148,     0.48248,     0.48348,     0.48448,     0.48549,     0.48649,     0.48749,     0.48849,     0.48949,     0.49049,     0.49149,     0.49249,     0.49349,     0.49449,      0.4955,      0.4965,      0.4975,      0.4985,      0.4995,      0.5005,      0.5015,      0.5025,      0.5035,\n",
              "            0.5045,     0.50551,     0.50651,     0.50751,     0.50851,     0.50951,     0.51051,     0.51151,     0.51251,     0.51351,     0.51451,     0.51552,     0.51652,     0.51752,     0.51852,     0.51952,     0.52052,     0.52152,     0.52252,     0.52352,     0.52452,     0.52553,     0.52653,     0.52753,\n",
              "           0.52853,     0.52953,     0.53053,     0.53153,     0.53253,     0.53353,     0.53453,     0.53554,     0.53654,     0.53754,     0.53854,     0.53954,     0.54054,     0.54154,     0.54254,     0.54354,     0.54454,     0.54555,     0.54655,     0.54755,     0.54855,     0.54955,     0.55055,     0.55155,\n",
              "           0.55255,     0.55355,     0.55455,     0.55556,     0.55656,     0.55756,     0.55856,     0.55956,     0.56056,     0.56156,     0.56256,     0.56356,     0.56456,     0.56557,     0.56657,     0.56757,     0.56857,     0.56957,     0.57057,     0.57157,     0.57257,     0.57357,     0.57457,     0.57558,\n",
              "           0.57658,     0.57758,     0.57858,     0.57958,     0.58058,     0.58158,     0.58258,     0.58358,     0.58458,     0.58559,     0.58659,     0.58759,     0.58859,     0.58959,     0.59059,     0.59159,     0.59259,     0.59359,     0.59459,      0.5956,      0.5966,      0.5976,      0.5986,      0.5996,\n",
              "            0.6006,      0.6016,      0.6026,      0.6036,      0.6046,     0.60561,     0.60661,     0.60761,     0.60861,     0.60961,     0.61061,     0.61161,     0.61261,     0.61361,     0.61461,     0.61562,     0.61662,     0.61762,     0.61862,     0.61962,     0.62062,     0.62162,     0.62262,     0.62362,\n",
              "           0.62462,     0.62563,     0.62663,     0.62763,     0.62863,     0.62963,     0.63063,     0.63163,     0.63263,     0.63363,     0.63463,     0.63564,     0.63664,     0.63764,     0.63864,     0.63964,     0.64064,     0.64164,     0.64264,     0.64364,     0.64464,     0.64565,     0.64665,     0.64765,\n",
              "           0.64865,     0.64965,     0.65065,     0.65165,     0.65265,     0.65365,     0.65465,     0.65566,     0.65666,     0.65766,     0.65866,     0.65966,     0.66066,     0.66166,     0.66266,     0.66366,     0.66466,     0.66567,     0.66667,     0.66767,     0.66867,     0.66967,     0.67067,     0.67167,\n",
              "           0.67267,     0.67367,     0.67467,     0.67568,     0.67668,     0.67768,     0.67868,     0.67968,     0.68068,     0.68168,     0.68268,     0.68368,     0.68468,     0.68569,     0.68669,     0.68769,     0.68869,     0.68969,     0.69069,     0.69169,     0.69269,     0.69369,     0.69469,      0.6957,\n",
              "            0.6967,      0.6977,      0.6987,      0.6997,      0.7007,      0.7017,      0.7027,      0.7037,      0.7047,     0.70571,     0.70671,     0.70771,     0.70871,     0.70971,     0.71071,     0.71171,     0.71271,     0.71371,     0.71471,     0.71572,     0.71672,     0.71772,     0.71872,     0.71972,\n",
              "           0.72072,     0.72172,     0.72272,     0.72372,     0.72472,     0.72573,     0.72673,     0.72773,     0.72873,     0.72973,     0.73073,     0.73173,     0.73273,     0.73373,     0.73473,     0.73574,     0.73674,     0.73774,     0.73874,     0.73974,     0.74074,     0.74174,     0.74274,     0.74374,\n",
              "           0.74474,     0.74575,     0.74675,     0.74775,     0.74875,     0.74975,     0.75075,     0.75175,     0.75275,     0.75375,     0.75475,     0.75576,     0.75676,     0.75776,     0.75876,     0.75976,     0.76076,     0.76176,     0.76276,     0.76376,     0.76476,     0.76577,     0.76677,     0.76777,\n",
              "           0.76877,     0.76977,     0.77077,     0.77177,     0.77277,     0.77377,     0.77477,     0.77578,     0.77678,     0.77778,     0.77878,     0.77978,     0.78078,     0.78178,     0.78278,     0.78378,     0.78478,     0.78579,     0.78679,     0.78779,     0.78879,     0.78979,     0.79079,     0.79179,\n",
              "           0.79279,     0.79379,     0.79479,      0.7958,      0.7968,      0.7978,      0.7988,      0.7998,      0.8008,      0.8018,      0.8028,      0.8038,      0.8048,     0.80581,     0.80681,     0.80781,     0.80881,     0.80981,     0.81081,     0.81181,     0.81281,     0.81381,     0.81481,     0.81582,\n",
              "           0.81682,     0.81782,     0.81882,     0.81982,     0.82082,     0.82182,     0.82282,     0.82382,     0.82482,     0.82583,     0.82683,     0.82783,     0.82883,     0.82983,     0.83083,     0.83183,     0.83283,     0.83383,     0.83483,     0.83584,     0.83684,     0.83784,     0.83884,     0.83984,\n",
              "           0.84084,     0.84184,     0.84284,     0.84384,     0.84484,     0.84585,     0.84685,     0.84785,     0.84885,     0.84985,     0.85085,     0.85185,     0.85285,     0.85385,     0.85485,     0.85586,     0.85686,     0.85786,     0.85886,     0.85986,     0.86086,     0.86186,     0.86286,     0.86386,\n",
              "           0.86486,     0.86587,     0.86687,     0.86787,     0.86887,     0.86987,     0.87087,     0.87187,     0.87287,     0.87387,     0.87487,     0.87588,     0.87688,     0.87788,     0.87888,     0.87988,     0.88088,     0.88188,     0.88288,     0.88388,     0.88488,     0.88589,     0.88689,     0.88789,\n",
              "           0.88889,     0.88989,     0.89089,     0.89189,     0.89289,     0.89389,     0.89489,      0.8959,      0.8969,      0.8979,      0.8989,      0.8999,      0.9009,      0.9019,      0.9029,      0.9039,      0.9049,     0.90591,     0.90691,     0.90791,     0.90891,     0.90991,     0.91091,     0.91191,\n",
              "           0.91291,     0.91391,     0.91491,     0.91592,     0.91692,     0.91792,     0.91892,     0.91992,     0.92092,     0.92192,     0.92292,     0.92392,     0.92492,     0.92593,     0.92693,     0.92793,     0.92893,     0.92993,     0.93093,     0.93193,     0.93293,     0.93393,     0.93493,     0.93594,\n",
              "           0.93694,     0.93794,     0.93894,     0.93994,     0.94094,     0.94194,     0.94294,     0.94394,     0.94494,     0.94595,     0.94695,     0.94795,     0.94895,     0.94995,     0.95095,     0.95195,     0.95295,     0.95395,     0.95495,     0.95596,     0.95696,     0.95796,     0.95896,     0.95996,\n",
              "           0.96096,     0.96196,     0.96296,     0.96396,     0.96496,     0.96597,     0.96697,     0.96797,     0.96897,     0.96997,     0.97097,     0.97197,     0.97297,     0.97397,     0.97497,     0.97598,     0.97698,     0.97798,     0.97898,     0.97998,     0.98098,     0.98198,     0.98298,     0.98398,\n",
              "           0.98498,     0.98599,     0.98699,     0.98799,     0.98899,     0.98999,     0.99099,     0.99199,     0.99299,     0.99399,     0.99499,       0.996,       0.997,       0.998,       0.999,           1]), array([[    0.52853,     0.52853,     0.60809, ...,           0,           0,           0],\n",
              "       [    0.59615,     0.59615,     0.66551, ...,           0,           0,           0],\n",
              "       [       0.62,     0.62006,     0.71837, ...,           0,           0,           0],\n",
              "       ...,\n",
              "       [    0.65649,     0.65649,     0.73257, ...,           0,           0,           0],\n",
              "       [    0.66667,     0.66667,     0.74978, ...,           0,           0,           0],\n",
              "       [    0.56393,     0.56393,     0.64068, ...,           0,           0,           0]]), 'Confidence', 'F1'], [array([          0,    0.001001,    0.002002,    0.003003,    0.004004,    0.005005,    0.006006,    0.007007,    0.008008,    0.009009,     0.01001,    0.011011,    0.012012,    0.013013,    0.014014,    0.015015,    0.016016,    0.017017,    0.018018,    0.019019,     0.02002,    0.021021,    0.022022,    0.023023,\n",
              "          0.024024,    0.025025,    0.026026,    0.027027,    0.028028,    0.029029,     0.03003,    0.031031,    0.032032,    0.033033,    0.034034,    0.035035,    0.036036,    0.037037,    0.038038,    0.039039,     0.04004,    0.041041,    0.042042,    0.043043,    0.044044,    0.045045,    0.046046,    0.047047,\n",
              "          0.048048,    0.049049,     0.05005,    0.051051,    0.052052,    0.053053,    0.054054,    0.055055,    0.056056,    0.057057,    0.058058,    0.059059,     0.06006,    0.061061,    0.062062,    0.063063,    0.064064,    0.065065,    0.066066,    0.067067,    0.068068,    0.069069,     0.07007,    0.071071,\n",
              "          0.072072,    0.073073,    0.074074,    0.075075,    0.076076,    0.077077,    0.078078,    0.079079,     0.08008,    0.081081,    0.082082,    0.083083,    0.084084,    0.085085,    0.086086,    0.087087,    0.088088,    0.089089,     0.09009,    0.091091,    0.092092,    0.093093,    0.094094,    0.095095,\n",
              "          0.096096,    0.097097,    0.098098,    0.099099,      0.1001,      0.1011,      0.1021,      0.1031,      0.1041,     0.10511,     0.10611,     0.10711,     0.10811,     0.10911,     0.11011,     0.11111,     0.11211,     0.11311,     0.11411,     0.11512,     0.11612,     0.11712,     0.11812,     0.11912,\n",
              "           0.12012,     0.12112,     0.12212,     0.12312,     0.12412,     0.12513,     0.12613,     0.12713,     0.12813,     0.12913,     0.13013,     0.13113,     0.13213,     0.13313,     0.13413,     0.13514,     0.13614,     0.13714,     0.13814,     0.13914,     0.14014,     0.14114,     0.14214,     0.14314,\n",
              "           0.14414,     0.14515,     0.14615,     0.14715,     0.14815,     0.14915,     0.15015,     0.15115,     0.15215,     0.15315,     0.15415,     0.15516,     0.15616,     0.15716,     0.15816,     0.15916,     0.16016,     0.16116,     0.16216,     0.16316,     0.16416,     0.16517,     0.16617,     0.16717,\n",
              "           0.16817,     0.16917,     0.17017,     0.17117,     0.17217,     0.17317,     0.17417,     0.17518,     0.17618,     0.17718,     0.17818,     0.17918,     0.18018,     0.18118,     0.18218,     0.18318,     0.18418,     0.18519,     0.18619,     0.18719,     0.18819,     0.18919,     0.19019,     0.19119,\n",
              "           0.19219,     0.19319,     0.19419,      0.1952,      0.1962,      0.1972,      0.1982,      0.1992,      0.2002,      0.2012,      0.2022,      0.2032,      0.2042,     0.20521,     0.20621,     0.20721,     0.20821,     0.20921,     0.21021,     0.21121,     0.21221,     0.21321,     0.21421,     0.21522,\n",
              "           0.21622,     0.21722,     0.21822,     0.21922,     0.22022,     0.22122,     0.22222,     0.22322,     0.22422,     0.22523,     0.22623,     0.22723,     0.22823,     0.22923,     0.23023,     0.23123,     0.23223,     0.23323,     0.23423,     0.23524,     0.23624,     0.23724,     0.23824,     0.23924,\n",
              "           0.24024,     0.24124,     0.24224,     0.24324,     0.24424,     0.24525,     0.24625,     0.24725,     0.24825,     0.24925,     0.25025,     0.25125,     0.25225,     0.25325,     0.25425,     0.25526,     0.25626,     0.25726,     0.25826,     0.25926,     0.26026,     0.26126,     0.26226,     0.26326,\n",
              "           0.26426,     0.26527,     0.26627,     0.26727,     0.26827,     0.26927,     0.27027,     0.27127,     0.27227,     0.27327,     0.27427,     0.27528,     0.27628,     0.27728,     0.27828,     0.27928,     0.28028,     0.28128,     0.28228,     0.28328,     0.28428,     0.28529,     0.28629,     0.28729,\n",
              "           0.28829,     0.28929,     0.29029,     0.29129,     0.29229,     0.29329,     0.29429,      0.2953,      0.2963,      0.2973,      0.2983,      0.2993,      0.3003,      0.3013,      0.3023,      0.3033,      0.3043,     0.30531,     0.30631,     0.30731,     0.30831,     0.30931,     0.31031,     0.31131,\n",
              "           0.31231,     0.31331,     0.31431,     0.31532,     0.31632,     0.31732,     0.31832,     0.31932,     0.32032,     0.32132,     0.32232,     0.32332,     0.32432,     0.32533,     0.32633,     0.32733,     0.32833,     0.32933,     0.33033,     0.33133,     0.33233,     0.33333,     0.33433,     0.33534,\n",
              "           0.33634,     0.33734,     0.33834,     0.33934,     0.34034,     0.34134,     0.34234,     0.34334,     0.34434,     0.34535,     0.34635,     0.34735,     0.34835,     0.34935,     0.35035,     0.35135,     0.35235,     0.35335,     0.35435,     0.35536,     0.35636,     0.35736,     0.35836,     0.35936,\n",
              "           0.36036,     0.36136,     0.36236,     0.36336,     0.36436,     0.36537,     0.36637,     0.36737,     0.36837,     0.36937,     0.37037,     0.37137,     0.37237,     0.37337,     0.37437,     0.37538,     0.37638,     0.37738,     0.37838,     0.37938,     0.38038,     0.38138,     0.38238,     0.38338,\n",
              "           0.38438,     0.38539,     0.38639,     0.38739,     0.38839,     0.38939,     0.39039,     0.39139,     0.39239,     0.39339,     0.39439,      0.3954,      0.3964,      0.3974,      0.3984,      0.3994,      0.4004,      0.4014,      0.4024,      0.4034,      0.4044,     0.40541,     0.40641,     0.40741,\n",
              "           0.40841,     0.40941,     0.41041,     0.41141,     0.41241,     0.41341,     0.41441,     0.41542,     0.41642,     0.41742,     0.41842,     0.41942,     0.42042,     0.42142,     0.42242,     0.42342,     0.42442,     0.42543,     0.42643,     0.42743,     0.42843,     0.42943,     0.43043,     0.43143,\n",
              "           0.43243,     0.43343,     0.43443,     0.43544,     0.43644,     0.43744,     0.43844,     0.43944,     0.44044,     0.44144,     0.44244,     0.44344,     0.44444,     0.44545,     0.44645,     0.44745,     0.44845,     0.44945,     0.45045,     0.45145,     0.45245,     0.45345,     0.45445,     0.45546,\n",
              "           0.45646,     0.45746,     0.45846,     0.45946,     0.46046,     0.46146,     0.46246,     0.46346,     0.46446,     0.46547,     0.46647,     0.46747,     0.46847,     0.46947,     0.47047,     0.47147,     0.47247,     0.47347,     0.47447,     0.47548,     0.47648,     0.47748,     0.47848,     0.47948,\n",
              "           0.48048,     0.48148,     0.48248,     0.48348,     0.48448,     0.48549,     0.48649,     0.48749,     0.48849,     0.48949,     0.49049,     0.49149,     0.49249,     0.49349,     0.49449,      0.4955,      0.4965,      0.4975,      0.4985,      0.4995,      0.5005,      0.5015,      0.5025,      0.5035,\n",
              "            0.5045,     0.50551,     0.50651,     0.50751,     0.50851,     0.50951,     0.51051,     0.51151,     0.51251,     0.51351,     0.51451,     0.51552,     0.51652,     0.51752,     0.51852,     0.51952,     0.52052,     0.52152,     0.52252,     0.52352,     0.52452,     0.52553,     0.52653,     0.52753,\n",
              "           0.52853,     0.52953,     0.53053,     0.53153,     0.53253,     0.53353,     0.53453,     0.53554,     0.53654,     0.53754,     0.53854,     0.53954,     0.54054,     0.54154,     0.54254,     0.54354,     0.54454,     0.54555,     0.54655,     0.54755,     0.54855,     0.54955,     0.55055,     0.55155,\n",
              "           0.55255,     0.55355,     0.55455,     0.55556,     0.55656,     0.55756,     0.55856,     0.55956,     0.56056,     0.56156,     0.56256,     0.56356,     0.56456,     0.56557,     0.56657,     0.56757,     0.56857,     0.56957,     0.57057,     0.57157,     0.57257,     0.57357,     0.57457,     0.57558,\n",
              "           0.57658,     0.57758,     0.57858,     0.57958,     0.58058,     0.58158,     0.58258,     0.58358,     0.58458,     0.58559,     0.58659,     0.58759,     0.58859,     0.58959,     0.59059,     0.59159,     0.59259,     0.59359,     0.59459,      0.5956,      0.5966,      0.5976,      0.5986,      0.5996,\n",
              "            0.6006,      0.6016,      0.6026,      0.6036,      0.6046,     0.60561,     0.60661,     0.60761,     0.60861,     0.60961,     0.61061,     0.61161,     0.61261,     0.61361,     0.61461,     0.61562,     0.61662,     0.61762,     0.61862,     0.61962,     0.62062,     0.62162,     0.62262,     0.62362,\n",
              "           0.62462,     0.62563,     0.62663,     0.62763,     0.62863,     0.62963,     0.63063,     0.63163,     0.63263,     0.63363,     0.63463,     0.63564,     0.63664,     0.63764,     0.63864,     0.63964,     0.64064,     0.64164,     0.64264,     0.64364,     0.64464,     0.64565,     0.64665,     0.64765,\n",
              "           0.64865,     0.64965,     0.65065,     0.65165,     0.65265,     0.65365,     0.65465,     0.65566,     0.65666,     0.65766,     0.65866,     0.65966,     0.66066,     0.66166,     0.66266,     0.66366,     0.66466,     0.66567,     0.66667,     0.66767,     0.66867,     0.66967,     0.67067,     0.67167,\n",
              "           0.67267,     0.67367,     0.67467,     0.67568,     0.67668,     0.67768,     0.67868,     0.67968,     0.68068,     0.68168,     0.68268,     0.68368,     0.68468,     0.68569,     0.68669,     0.68769,     0.68869,     0.68969,     0.69069,     0.69169,     0.69269,     0.69369,     0.69469,      0.6957,\n",
              "            0.6967,      0.6977,      0.6987,      0.6997,      0.7007,      0.7017,      0.7027,      0.7037,      0.7047,     0.70571,     0.70671,     0.70771,     0.70871,     0.70971,     0.71071,     0.71171,     0.71271,     0.71371,     0.71471,     0.71572,     0.71672,     0.71772,     0.71872,     0.71972,\n",
              "           0.72072,     0.72172,     0.72272,     0.72372,     0.72472,     0.72573,     0.72673,     0.72773,     0.72873,     0.72973,     0.73073,     0.73173,     0.73273,     0.73373,     0.73473,     0.73574,     0.73674,     0.73774,     0.73874,     0.73974,     0.74074,     0.74174,     0.74274,     0.74374,\n",
              "           0.74474,     0.74575,     0.74675,     0.74775,     0.74875,     0.74975,     0.75075,     0.75175,     0.75275,     0.75375,     0.75475,     0.75576,     0.75676,     0.75776,     0.75876,     0.75976,     0.76076,     0.76176,     0.76276,     0.76376,     0.76476,     0.76577,     0.76677,     0.76777,\n",
              "           0.76877,     0.76977,     0.77077,     0.77177,     0.77277,     0.77377,     0.77477,     0.77578,     0.77678,     0.77778,     0.77878,     0.77978,     0.78078,     0.78178,     0.78278,     0.78378,     0.78478,     0.78579,     0.78679,     0.78779,     0.78879,     0.78979,     0.79079,     0.79179,\n",
              "           0.79279,     0.79379,     0.79479,      0.7958,      0.7968,      0.7978,      0.7988,      0.7998,      0.8008,      0.8018,      0.8028,      0.8038,      0.8048,     0.80581,     0.80681,     0.80781,     0.80881,     0.80981,     0.81081,     0.81181,     0.81281,     0.81381,     0.81481,     0.81582,\n",
              "           0.81682,     0.81782,     0.81882,     0.81982,     0.82082,     0.82182,     0.82282,     0.82382,     0.82482,     0.82583,     0.82683,     0.82783,     0.82883,     0.82983,     0.83083,     0.83183,     0.83283,     0.83383,     0.83483,     0.83584,     0.83684,     0.83784,     0.83884,     0.83984,\n",
              "           0.84084,     0.84184,     0.84284,     0.84384,     0.84484,     0.84585,     0.84685,     0.84785,     0.84885,     0.84985,     0.85085,     0.85185,     0.85285,     0.85385,     0.85485,     0.85586,     0.85686,     0.85786,     0.85886,     0.85986,     0.86086,     0.86186,     0.86286,     0.86386,\n",
              "           0.86486,     0.86587,     0.86687,     0.86787,     0.86887,     0.86987,     0.87087,     0.87187,     0.87287,     0.87387,     0.87487,     0.87588,     0.87688,     0.87788,     0.87888,     0.87988,     0.88088,     0.88188,     0.88288,     0.88388,     0.88488,     0.88589,     0.88689,     0.88789,\n",
              "           0.88889,     0.88989,     0.89089,     0.89189,     0.89289,     0.89389,     0.89489,      0.8959,      0.8969,      0.8979,      0.8989,      0.8999,      0.9009,      0.9019,      0.9029,      0.9039,      0.9049,     0.90591,     0.90691,     0.90791,     0.90891,     0.90991,     0.91091,     0.91191,\n",
              "           0.91291,     0.91391,     0.91491,     0.91592,     0.91692,     0.91792,     0.91892,     0.91992,     0.92092,     0.92192,     0.92292,     0.92392,     0.92492,     0.92593,     0.92693,     0.92793,     0.92893,     0.92993,     0.93093,     0.93193,     0.93293,     0.93393,     0.93493,     0.93594,\n",
              "           0.93694,     0.93794,     0.93894,     0.93994,     0.94094,     0.94194,     0.94294,     0.94394,     0.94494,     0.94595,     0.94695,     0.94795,     0.94895,     0.94995,     0.95095,     0.95195,     0.95295,     0.95395,     0.95495,     0.95596,     0.95696,     0.95796,     0.95896,     0.95996,\n",
              "           0.96096,     0.96196,     0.96296,     0.96396,     0.96496,     0.96597,     0.96697,     0.96797,     0.96897,     0.96997,     0.97097,     0.97197,     0.97297,     0.97397,     0.97497,     0.97598,     0.97698,     0.97798,     0.97898,     0.97998,     0.98098,     0.98198,     0.98298,     0.98398,\n",
              "           0.98498,     0.98599,     0.98699,     0.98799,     0.98899,     0.98999,     0.99099,     0.99199,     0.99299,     0.99399,     0.99499,       0.996,       0.997,       0.998,       0.999,           1]), array([[    0.36364,     0.36364,     0.44348, ...,           1,           1,           1],\n",
              "       [    0.43357,     0.43357,     0.51556, ...,           1,           1,           1],\n",
              "       [    0.45366,     0.45372,     0.57095, ...,           1,           1,           1],\n",
              "       ...,\n",
              "       [    0.49143,     0.49143,      0.5819, ...,           1,           1,           1],\n",
              "       [    0.50562,     0.50562,     0.60782, ...,           1,           1,           1],\n",
              "       [     0.4456,      0.4456,     0.55917, ...,           1,           1,           1]]), 'Confidence', 'Precision'], [array([          0,    0.001001,    0.002002,    0.003003,    0.004004,    0.005005,    0.006006,    0.007007,    0.008008,    0.009009,     0.01001,    0.011011,    0.012012,    0.013013,    0.014014,    0.015015,    0.016016,    0.017017,    0.018018,    0.019019,     0.02002,    0.021021,    0.022022,    0.023023,\n",
              "          0.024024,    0.025025,    0.026026,    0.027027,    0.028028,    0.029029,     0.03003,    0.031031,    0.032032,    0.033033,    0.034034,    0.035035,    0.036036,    0.037037,    0.038038,    0.039039,     0.04004,    0.041041,    0.042042,    0.043043,    0.044044,    0.045045,    0.046046,    0.047047,\n",
              "          0.048048,    0.049049,     0.05005,    0.051051,    0.052052,    0.053053,    0.054054,    0.055055,    0.056056,    0.057057,    0.058058,    0.059059,     0.06006,    0.061061,    0.062062,    0.063063,    0.064064,    0.065065,    0.066066,    0.067067,    0.068068,    0.069069,     0.07007,    0.071071,\n",
              "          0.072072,    0.073073,    0.074074,    0.075075,    0.076076,    0.077077,    0.078078,    0.079079,     0.08008,    0.081081,    0.082082,    0.083083,    0.084084,    0.085085,    0.086086,    0.087087,    0.088088,    0.089089,     0.09009,    0.091091,    0.092092,    0.093093,    0.094094,    0.095095,\n",
              "          0.096096,    0.097097,    0.098098,    0.099099,      0.1001,      0.1011,      0.1021,      0.1031,      0.1041,     0.10511,     0.10611,     0.10711,     0.10811,     0.10911,     0.11011,     0.11111,     0.11211,     0.11311,     0.11411,     0.11512,     0.11612,     0.11712,     0.11812,     0.11912,\n",
              "           0.12012,     0.12112,     0.12212,     0.12312,     0.12412,     0.12513,     0.12613,     0.12713,     0.12813,     0.12913,     0.13013,     0.13113,     0.13213,     0.13313,     0.13413,     0.13514,     0.13614,     0.13714,     0.13814,     0.13914,     0.14014,     0.14114,     0.14214,     0.14314,\n",
              "           0.14414,     0.14515,     0.14615,     0.14715,     0.14815,     0.14915,     0.15015,     0.15115,     0.15215,     0.15315,     0.15415,     0.15516,     0.15616,     0.15716,     0.15816,     0.15916,     0.16016,     0.16116,     0.16216,     0.16316,     0.16416,     0.16517,     0.16617,     0.16717,\n",
              "           0.16817,     0.16917,     0.17017,     0.17117,     0.17217,     0.17317,     0.17417,     0.17518,     0.17618,     0.17718,     0.17818,     0.17918,     0.18018,     0.18118,     0.18218,     0.18318,     0.18418,     0.18519,     0.18619,     0.18719,     0.18819,     0.18919,     0.19019,     0.19119,\n",
              "           0.19219,     0.19319,     0.19419,      0.1952,      0.1962,      0.1972,      0.1982,      0.1992,      0.2002,      0.2012,      0.2022,      0.2032,      0.2042,     0.20521,     0.20621,     0.20721,     0.20821,     0.20921,     0.21021,     0.21121,     0.21221,     0.21321,     0.21421,     0.21522,\n",
              "           0.21622,     0.21722,     0.21822,     0.21922,     0.22022,     0.22122,     0.22222,     0.22322,     0.22422,     0.22523,     0.22623,     0.22723,     0.22823,     0.22923,     0.23023,     0.23123,     0.23223,     0.23323,     0.23423,     0.23524,     0.23624,     0.23724,     0.23824,     0.23924,\n",
              "           0.24024,     0.24124,     0.24224,     0.24324,     0.24424,     0.24525,     0.24625,     0.24725,     0.24825,     0.24925,     0.25025,     0.25125,     0.25225,     0.25325,     0.25425,     0.25526,     0.25626,     0.25726,     0.25826,     0.25926,     0.26026,     0.26126,     0.26226,     0.26326,\n",
              "           0.26426,     0.26527,     0.26627,     0.26727,     0.26827,     0.26927,     0.27027,     0.27127,     0.27227,     0.27327,     0.27427,     0.27528,     0.27628,     0.27728,     0.27828,     0.27928,     0.28028,     0.28128,     0.28228,     0.28328,     0.28428,     0.28529,     0.28629,     0.28729,\n",
              "           0.28829,     0.28929,     0.29029,     0.29129,     0.29229,     0.29329,     0.29429,      0.2953,      0.2963,      0.2973,      0.2983,      0.2993,      0.3003,      0.3013,      0.3023,      0.3033,      0.3043,     0.30531,     0.30631,     0.30731,     0.30831,     0.30931,     0.31031,     0.31131,\n",
              "           0.31231,     0.31331,     0.31431,     0.31532,     0.31632,     0.31732,     0.31832,     0.31932,     0.32032,     0.32132,     0.32232,     0.32332,     0.32432,     0.32533,     0.32633,     0.32733,     0.32833,     0.32933,     0.33033,     0.33133,     0.33233,     0.33333,     0.33433,     0.33534,\n",
              "           0.33634,     0.33734,     0.33834,     0.33934,     0.34034,     0.34134,     0.34234,     0.34334,     0.34434,     0.34535,     0.34635,     0.34735,     0.34835,     0.34935,     0.35035,     0.35135,     0.35235,     0.35335,     0.35435,     0.35536,     0.35636,     0.35736,     0.35836,     0.35936,\n",
              "           0.36036,     0.36136,     0.36236,     0.36336,     0.36436,     0.36537,     0.36637,     0.36737,     0.36837,     0.36937,     0.37037,     0.37137,     0.37237,     0.37337,     0.37437,     0.37538,     0.37638,     0.37738,     0.37838,     0.37938,     0.38038,     0.38138,     0.38238,     0.38338,\n",
              "           0.38438,     0.38539,     0.38639,     0.38739,     0.38839,     0.38939,     0.39039,     0.39139,     0.39239,     0.39339,     0.39439,      0.3954,      0.3964,      0.3974,      0.3984,      0.3994,      0.4004,      0.4014,      0.4024,      0.4034,      0.4044,     0.40541,     0.40641,     0.40741,\n",
              "           0.40841,     0.40941,     0.41041,     0.41141,     0.41241,     0.41341,     0.41441,     0.41542,     0.41642,     0.41742,     0.41842,     0.41942,     0.42042,     0.42142,     0.42242,     0.42342,     0.42442,     0.42543,     0.42643,     0.42743,     0.42843,     0.42943,     0.43043,     0.43143,\n",
              "           0.43243,     0.43343,     0.43443,     0.43544,     0.43644,     0.43744,     0.43844,     0.43944,     0.44044,     0.44144,     0.44244,     0.44344,     0.44444,     0.44545,     0.44645,     0.44745,     0.44845,     0.44945,     0.45045,     0.45145,     0.45245,     0.45345,     0.45445,     0.45546,\n",
              "           0.45646,     0.45746,     0.45846,     0.45946,     0.46046,     0.46146,     0.46246,     0.46346,     0.46446,     0.46547,     0.46647,     0.46747,     0.46847,     0.46947,     0.47047,     0.47147,     0.47247,     0.47347,     0.47447,     0.47548,     0.47648,     0.47748,     0.47848,     0.47948,\n",
              "           0.48048,     0.48148,     0.48248,     0.48348,     0.48448,     0.48549,     0.48649,     0.48749,     0.48849,     0.48949,     0.49049,     0.49149,     0.49249,     0.49349,     0.49449,      0.4955,      0.4965,      0.4975,      0.4985,      0.4995,      0.5005,      0.5015,      0.5025,      0.5035,\n",
              "            0.5045,     0.50551,     0.50651,     0.50751,     0.50851,     0.50951,     0.51051,     0.51151,     0.51251,     0.51351,     0.51451,     0.51552,     0.51652,     0.51752,     0.51852,     0.51952,     0.52052,     0.52152,     0.52252,     0.52352,     0.52452,     0.52553,     0.52653,     0.52753,\n",
              "           0.52853,     0.52953,     0.53053,     0.53153,     0.53253,     0.53353,     0.53453,     0.53554,     0.53654,     0.53754,     0.53854,     0.53954,     0.54054,     0.54154,     0.54254,     0.54354,     0.54454,     0.54555,     0.54655,     0.54755,     0.54855,     0.54955,     0.55055,     0.55155,\n",
              "           0.55255,     0.55355,     0.55455,     0.55556,     0.55656,     0.55756,     0.55856,     0.55956,     0.56056,     0.56156,     0.56256,     0.56356,     0.56456,     0.56557,     0.56657,     0.56757,     0.56857,     0.56957,     0.57057,     0.57157,     0.57257,     0.57357,     0.57457,     0.57558,\n",
              "           0.57658,     0.57758,     0.57858,     0.57958,     0.58058,     0.58158,     0.58258,     0.58358,     0.58458,     0.58559,     0.58659,     0.58759,     0.58859,     0.58959,     0.59059,     0.59159,     0.59259,     0.59359,     0.59459,      0.5956,      0.5966,      0.5976,      0.5986,      0.5996,\n",
              "            0.6006,      0.6016,      0.6026,      0.6036,      0.6046,     0.60561,     0.60661,     0.60761,     0.60861,     0.60961,     0.61061,     0.61161,     0.61261,     0.61361,     0.61461,     0.61562,     0.61662,     0.61762,     0.61862,     0.61962,     0.62062,     0.62162,     0.62262,     0.62362,\n",
              "           0.62462,     0.62563,     0.62663,     0.62763,     0.62863,     0.62963,     0.63063,     0.63163,     0.63263,     0.63363,     0.63463,     0.63564,     0.63664,     0.63764,     0.63864,     0.63964,     0.64064,     0.64164,     0.64264,     0.64364,     0.64464,     0.64565,     0.64665,     0.64765,\n",
              "           0.64865,     0.64965,     0.65065,     0.65165,     0.65265,     0.65365,     0.65465,     0.65566,     0.65666,     0.65766,     0.65866,     0.65966,     0.66066,     0.66166,     0.66266,     0.66366,     0.66466,     0.66567,     0.66667,     0.66767,     0.66867,     0.66967,     0.67067,     0.67167,\n",
              "           0.67267,     0.67367,     0.67467,     0.67568,     0.67668,     0.67768,     0.67868,     0.67968,     0.68068,     0.68168,     0.68268,     0.68368,     0.68468,     0.68569,     0.68669,     0.68769,     0.68869,     0.68969,     0.69069,     0.69169,     0.69269,     0.69369,     0.69469,      0.6957,\n",
              "            0.6967,      0.6977,      0.6987,      0.6997,      0.7007,      0.7017,      0.7027,      0.7037,      0.7047,     0.70571,     0.70671,     0.70771,     0.70871,     0.70971,     0.71071,     0.71171,     0.71271,     0.71371,     0.71471,     0.71572,     0.71672,     0.71772,     0.71872,     0.71972,\n",
              "           0.72072,     0.72172,     0.72272,     0.72372,     0.72472,     0.72573,     0.72673,     0.72773,     0.72873,     0.72973,     0.73073,     0.73173,     0.73273,     0.73373,     0.73473,     0.73574,     0.73674,     0.73774,     0.73874,     0.73974,     0.74074,     0.74174,     0.74274,     0.74374,\n",
              "           0.74474,     0.74575,     0.74675,     0.74775,     0.74875,     0.74975,     0.75075,     0.75175,     0.75275,     0.75375,     0.75475,     0.75576,     0.75676,     0.75776,     0.75876,     0.75976,     0.76076,     0.76176,     0.76276,     0.76376,     0.76476,     0.76577,     0.76677,     0.76777,\n",
              "           0.76877,     0.76977,     0.77077,     0.77177,     0.77277,     0.77377,     0.77477,     0.77578,     0.77678,     0.77778,     0.77878,     0.77978,     0.78078,     0.78178,     0.78278,     0.78378,     0.78478,     0.78579,     0.78679,     0.78779,     0.78879,     0.78979,     0.79079,     0.79179,\n",
              "           0.79279,     0.79379,     0.79479,      0.7958,      0.7968,      0.7978,      0.7988,      0.7998,      0.8008,      0.8018,      0.8028,      0.8038,      0.8048,     0.80581,     0.80681,     0.80781,     0.80881,     0.80981,     0.81081,     0.81181,     0.81281,     0.81381,     0.81481,     0.81582,\n",
              "           0.81682,     0.81782,     0.81882,     0.81982,     0.82082,     0.82182,     0.82282,     0.82382,     0.82482,     0.82583,     0.82683,     0.82783,     0.82883,     0.82983,     0.83083,     0.83183,     0.83283,     0.83383,     0.83483,     0.83584,     0.83684,     0.83784,     0.83884,     0.83984,\n",
              "           0.84084,     0.84184,     0.84284,     0.84384,     0.84484,     0.84585,     0.84685,     0.84785,     0.84885,     0.84985,     0.85085,     0.85185,     0.85285,     0.85385,     0.85485,     0.85586,     0.85686,     0.85786,     0.85886,     0.85986,     0.86086,     0.86186,     0.86286,     0.86386,\n",
              "           0.86486,     0.86587,     0.86687,     0.86787,     0.86887,     0.86987,     0.87087,     0.87187,     0.87287,     0.87387,     0.87487,     0.87588,     0.87688,     0.87788,     0.87888,     0.87988,     0.88088,     0.88188,     0.88288,     0.88388,     0.88488,     0.88589,     0.88689,     0.88789,\n",
              "           0.88889,     0.88989,     0.89089,     0.89189,     0.89289,     0.89389,     0.89489,      0.8959,      0.8969,      0.8979,      0.8989,      0.8999,      0.9009,      0.9019,      0.9029,      0.9039,      0.9049,     0.90591,     0.90691,     0.90791,     0.90891,     0.90991,     0.91091,     0.91191,\n",
              "           0.91291,     0.91391,     0.91491,     0.91592,     0.91692,     0.91792,     0.91892,     0.91992,     0.92092,     0.92192,     0.92292,     0.92392,     0.92492,     0.92593,     0.92693,     0.92793,     0.92893,     0.92993,     0.93093,     0.93193,     0.93293,     0.93393,     0.93493,     0.93594,\n",
              "           0.93694,     0.93794,     0.93894,     0.93994,     0.94094,     0.94194,     0.94294,     0.94394,     0.94494,     0.94595,     0.94695,     0.94795,     0.94895,     0.94995,     0.95095,     0.95195,     0.95295,     0.95395,     0.95495,     0.95596,     0.95696,     0.95796,     0.95896,     0.95996,\n",
              "           0.96096,     0.96196,     0.96296,     0.96396,     0.96496,     0.96597,     0.96697,     0.96797,     0.96897,     0.96997,     0.97097,     0.97197,     0.97297,     0.97397,     0.97497,     0.97598,     0.97698,     0.97798,     0.97898,     0.97998,     0.98098,     0.98198,     0.98298,     0.98398,\n",
              "           0.98498,     0.98599,     0.98699,     0.98799,     0.98899,     0.98999,     0.99099,     0.99199,     0.99299,     0.99399,     0.99499,       0.996,       0.997,       0.998,       0.999,           1]), array([[    0.96703,     0.96703,     0.96703, ...,           0,           0,           0],\n",
              "       [    0.95385,     0.95385,     0.93846, ...,           0,           0,           0],\n",
              "       [    0.97895,     0.97895,     0.96842, ...,           0,           0,           0],\n",
              "       ...,\n",
              "       [    0.98851,     0.98851,     0.98851, ...,           0,           0,           0],\n",
              "       [    0.97826,     0.97826,     0.97826, ...,           0,           0,           0],\n",
              "       [    0.76786,     0.76786,        0.75, ...,           0,           0,           0]]), 'Confidence', 'Recall']]\n",
              "fitness: 0.6465934504930483\n",
              "keys: ['metrics/precision(B)', 'metrics/recall(B)', 'metrics/mAP50(B)', 'metrics/mAP50-95(B)']\n",
              "maps: array([    0.69763,     0.55304,     0.77194,     0.62985,     0.57873,     0.67672,     0.44139,     0.61876,     0.39174,     0.72515,     0.79796,     0.57367])\n",
              "names: {0: 'african_elephant-endangered', 1: 'amur_leopard-endangered', 2: 'arctic_fox-endangered', 3: 'asian_elephant-endangered', 4: 'cheetah-endangered', 5: 'jaguar_not-endangered', 6: 'killer_whale-endangered', 7: 'lion-endangered', 8: 'orangutan-endangered', 9: 'panther-endangered', 10: 'rhino-endangered', 11: 'shark-endangered'}\n",
              "plot: True\n",
              "results_dict: {'metrics/precision(B)': 0.8634213756627901, 'metrics/recall(B)': 0.8295315198926384, 'metrics/mAP50(B)': 0.8735069518213315, 'metrics/mAP50-95(B)': 0.6213808392343502, 'fitness': 0.6465934504930483}\n",
              "save_dir: PosixPath('runs/detect/val')\n",
              "speed: {'preprocess': 9.957857396867539, 'inference': 936.7246940400865, 'loss': 0.0002548429701063368, 'postprocess': 0.7320899433559842}\n",
              "task: 'detect'"
            ]
          },
          "metadata": {},
          "execution_count": 7
        }
      ],
      "source": [
        "metrics"
      ]
    },
    {
      "cell_type": "code",
      "execution_count": null,
      "metadata": {
        "colab": {
          "base_uri": "https://localhost:8080/"
        },
        "id": "yPx-v_Cz7ogu",
        "outputId": "47c7ec7e-a8cd-40f0-f75e-4039da311e58"
      },
      "outputs": [
        {
          "output_type": "stream",
          "name": "stdout",
          "text": [
            "\n",
            "\n",
            "WARNING ⚠️ inference results will accumulate in RAM unless `stream=True` is passed, causing potential out-of-memory\n",
            "errors for large sources or long-running streams and videos. See https://docs.ultralytics.com/modes/predict/ for help.\n",
            "\n",
            "Example:\n",
            "    results = model(source=..., stream=True)  # generator of Results objects\n",
            "    for r in results:\n",
            "        boxes = r.boxes  # Boxes object for bbox outputs\n",
            "        masks = r.masks  # Masks object for segment masks outputs\n",
            "        probs = r.probs  # Class probabilities for classification outputs\n",
            "\n",
            "video 1/1 (frame 1/455) /content/drive/MyDrive/Baby Rhino Loves a Good Brushing __ ViralHog.mp4: 640x544 2 rhino-endangereds, 917.7ms\n",
            "video 1/1 (frame 2/455) /content/drive/MyDrive/Baby Rhino Loves a Good Brushing __ ViralHog.mp4: 640x544 2 rhino-endangereds, 711.2ms\n",
            "video 1/1 (frame 3/455) /content/drive/MyDrive/Baby Rhino Loves a Good Brushing __ ViralHog.mp4: 640x544 2 rhino-endangereds, 552.0ms\n",
            "video 1/1 (frame 4/455) /content/drive/MyDrive/Baby Rhino Loves a Good Brushing __ ViralHog.mp4: 640x544 2 rhino-endangereds, 557.2ms\n",
            "video 1/1 (frame 5/455) /content/drive/MyDrive/Baby Rhino Loves a Good Brushing __ ViralHog.mp4: 640x544 2 rhino-endangereds, 548.1ms\n",
            "video 1/1 (frame 6/455) /content/drive/MyDrive/Baby Rhino Loves a Good Brushing __ ViralHog.mp4: 640x544 2 rhino-endangereds, 540.0ms\n",
            "video 1/1 (frame 7/455) /content/drive/MyDrive/Baby Rhino Loves a Good Brushing __ ViralHog.mp4: 640x544 1 rhino-endangered, 565.4ms\n",
            "video 1/1 (frame 8/455) /content/drive/MyDrive/Baby Rhino Loves a Good Brushing __ ViralHog.mp4: 640x544 1 rhino-endangered, 535.4ms\n",
            "video 1/1 (frame 9/455) /content/drive/MyDrive/Baby Rhino Loves a Good Brushing __ ViralHog.mp4: 640x544 1 rhino-endangered, 551.5ms\n",
            "video 1/1 (frame 10/455) /content/drive/MyDrive/Baby Rhino Loves a Good Brushing __ ViralHog.mp4: 640x544 3 rhino-endangereds, 533.6ms\n",
            "video 1/1 (frame 11/455) /content/drive/MyDrive/Baby Rhino Loves a Good Brushing __ ViralHog.mp4: 640x544 2 rhino-endangereds, 555.8ms\n",
            "video 1/1 (frame 12/455) /content/drive/MyDrive/Baby Rhino Loves a Good Brushing __ ViralHog.mp4: 640x544 2 rhino-endangereds, 553.1ms\n",
            "video 1/1 (frame 13/455) /content/drive/MyDrive/Baby Rhino Loves a Good Brushing __ ViralHog.mp4: 640x544 2 rhino-endangereds, 556.0ms\n",
            "video 1/1 (frame 14/455) /content/drive/MyDrive/Baby Rhino Loves a Good Brushing __ ViralHog.mp4: 640x544 1 rhino-endangered, 527.1ms\n",
            "video 1/1 (frame 15/455) /content/drive/MyDrive/Baby Rhino Loves a Good Brushing __ ViralHog.mp4: 640x544 2 rhino-endangereds, 544.5ms\n",
            "video 1/1 (frame 16/455) /content/drive/MyDrive/Baby Rhino Loves a Good Brushing __ ViralHog.mp4: 640x544 4 rhino-endangereds, 543.6ms\n",
            "video 1/1 (frame 17/455) /content/drive/MyDrive/Baby Rhino Loves a Good Brushing __ ViralHog.mp4: 640x544 1 rhino-endangered, 536.6ms\n",
            "video 1/1 (frame 18/455) /content/drive/MyDrive/Baby Rhino Loves a Good Brushing __ ViralHog.mp4: 640x544 1 rhino-endangered, 540.3ms\n",
            "video 1/1 (frame 19/455) /content/drive/MyDrive/Baby Rhino Loves a Good Brushing __ ViralHog.mp4: 640x544 1 rhino-endangered, 531.1ms\n",
            "video 1/1 (frame 20/455) /content/drive/MyDrive/Baby Rhino Loves a Good Brushing __ ViralHog.mp4: 640x544 (no detections), 834.4ms\n",
            "video 1/1 (frame 21/455) /content/drive/MyDrive/Baby Rhino Loves a Good Brushing __ ViralHog.mp4: 640x544 1 rhino-endangered, 850.1ms\n",
            "video 1/1 (frame 22/455) /content/drive/MyDrive/Baby Rhino Loves a Good Brushing __ ViralHog.mp4: 640x544 1 rhino-endangered, 857.2ms\n",
            "video 1/1 (frame 23/455) /content/drive/MyDrive/Baby Rhino Loves a Good Brushing __ ViralHog.mp4: 640x544 1 rhino-endangered, 874.7ms\n",
            "video 1/1 (frame 24/455) /content/drive/MyDrive/Baby Rhino Loves a Good Brushing __ ViralHog.mp4: 640x544 1 rhino-endangered, 924.5ms\n",
            "video 1/1 (frame 25/455) /content/drive/MyDrive/Baby Rhino Loves a Good Brushing __ ViralHog.mp4: 640x544 1 rhino-endangered, 720.0ms\n",
            "video 1/1 (frame 26/455) /content/drive/MyDrive/Baby Rhino Loves a Good Brushing __ ViralHog.mp4: 640x544 1 rhino-endangered, 538.8ms\n",
            "video 1/1 (frame 27/455) /content/drive/MyDrive/Baby Rhino Loves a Good Brushing __ ViralHog.mp4: 640x544 1 rhino-endangered, 565.7ms\n",
            "video 1/1 (frame 28/455) /content/drive/MyDrive/Baby Rhino Loves a Good Brushing __ ViralHog.mp4: 640x544 1 rhino-endangered, 529.8ms\n",
            "video 1/1 (frame 29/455) /content/drive/MyDrive/Baby Rhino Loves a Good Brushing __ ViralHog.mp4: 640x544 1 rhino-endangered, 538.1ms\n",
            "video 1/1 (frame 30/455) /content/drive/MyDrive/Baby Rhino Loves a Good Brushing __ ViralHog.mp4: 640x544 1 rhino-endangered, 538.0ms\n",
            "video 1/1 (frame 31/455) /content/drive/MyDrive/Baby Rhino Loves a Good Brushing __ ViralHog.mp4: 640x544 1 rhino-endangered, 527.5ms\n",
            "video 1/1 (frame 32/455) /content/drive/MyDrive/Baby Rhino Loves a Good Brushing __ ViralHog.mp4: 640x544 1 rhino-endangered, 560.8ms\n",
            "video 1/1 (frame 33/455) /content/drive/MyDrive/Baby Rhino Loves a Good Brushing __ ViralHog.mp4: 640x544 1 rhino-endangered, 539.2ms\n",
            "video 1/1 (frame 34/455) /content/drive/MyDrive/Baby Rhino Loves a Good Brushing __ ViralHog.mp4: 640x544 1 rhino-endangered, 546.0ms\n",
            "video 1/1 (frame 35/455) /content/drive/MyDrive/Baby Rhino Loves a Good Brushing __ ViralHog.mp4: 640x544 1 rhino-endangered, 526.6ms\n",
            "video 1/1 (frame 36/455) /content/drive/MyDrive/Baby Rhino Loves a Good Brushing __ ViralHog.mp4: 640x544 1 rhino-endangered, 547.8ms\n",
            "video 1/1 (frame 37/455) /content/drive/MyDrive/Baby Rhino Loves a Good Brushing __ ViralHog.mp4: 640x544 1 rhino-endangered, 519.2ms\n",
            "video 1/1 (frame 38/455) /content/drive/MyDrive/Baby Rhino Loves a Good Brushing __ ViralHog.mp4: 640x544 1 rhino-endangered, 549.7ms\n",
            "video 1/1 (frame 39/455) /content/drive/MyDrive/Baby Rhino Loves a Good Brushing __ ViralHog.mp4: 640x544 1 rhino-endangered, 567.0ms\n",
            "video 1/1 (frame 40/455) /content/drive/MyDrive/Baby Rhino Loves a Good Brushing __ ViralHog.mp4: 640x544 1 asian_elephant-endangered, 1 rhino-endangered, 555.3ms\n",
            "video 1/1 (frame 41/455) /content/drive/MyDrive/Baby Rhino Loves a Good Brushing __ ViralHog.mp4: 640x544 1 rhino-endangered, 564.9ms\n",
            "video 1/1 (frame 42/455) /content/drive/MyDrive/Baby Rhino Loves a Good Brushing __ ViralHog.mp4: 640x544 1 rhino-endangered, 530.8ms\n",
            "video 1/1 (frame 43/455) /content/drive/MyDrive/Baby Rhino Loves a Good Brushing __ ViralHog.mp4: 640x544 1 rhino-endangered, 851.5ms\n",
            "video 1/1 (frame 44/455) /content/drive/MyDrive/Baby Rhino Loves a Good Brushing __ ViralHog.mp4: 640x544 1 rhino-endangered, 865.5ms\n",
            "video 1/1 (frame 45/455) /content/drive/MyDrive/Baby Rhino Loves a Good Brushing __ ViralHog.mp4: 640x544 1 rhino-endangered, 865.0ms\n",
            "video 1/1 (frame 46/455) /content/drive/MyDrive/Baby Rhino Loves a Good Brushing __ ViralHog.mp4: 640x544 1 rhino-endangered, 838.4ms\n",
            "video 1/1 (frame 47/455) /content/drive/MyDrive/Baby Rhino Loves a Good Brushing __ ViralHog.mp4: 640x544 1 rhino-endangered, 894.1ms\n",
            "video 1/1 (frame 48/455) /content/drive/MyDrive/Baby Rhino Loves a Good Brushing __ ViralHog.mp4: 640x544 1 rhino-endangered, 709.7ms\n",
            "video 1/1 (frame 49/455) /content/drive/MyDrive/Baby Rhino Loves a Good Brushing __ ViralHog.mp4: 640x544 1 rhino-endangered, 560.9ms\n",
            "video 1/1 (frame 50/455) /content/drive/MyDrive/Baby Rhino Loves a Good Brushing __ ViralHog.mp4: 640x544 1 rhino-endangered, 532.1ms\n",
            "video 1/1 (frame 51/455) /content/drive/MyDrive/Baby Rhino Loves a Good Brushing __ ViralHog.mp4: 640x544 1 rhino-endangered, 541.2ms\n",
            "video 1/1 (frame 52/455) /content/drive/MyDrive/Baby Rhino Loves a Good Brushing __ ViralHog.mp4: 640x544 1 rhino-endangered, 519.2ms\n",
            "video 1/1 (frame 53/455) /content/drive/MyDrive/Baby Rhino Loves a Good Brushing __ ViralHog.mp4: 640x544 2 rhino-endangereds, 556.0ms\n",
            "video 1/1 (frame 54/455) /content/drive/MyDrive/Baby Rhino Loves a Good Brushing __ ViralHog.mp4: 640x544 1 rhino-endangered, 542.4ms\n",
            "video 1/1 (frame 55/455) /content/drive/MyDrive/Baby Rhino Loves a Good Brushing __ ViralHog.mp4: 640x544 1 rhino-endangered, 548.9ms\n",
            "video 1/1 (frame 56/455) /content/drive/MyDrive/Baby Rhino Loves a Good Brushing __ ViralHog.mp4: 640x544 1 rhino-endangered, 537.0ms\n",
            "video 1/1 (frame 57/455) /content/drive/MyDrive/Baby Rhino Loves a Good Brushing __ ViralHog.mp4: 640x544 1 rhino-endangered, 537.4ms\n",
            "video 1/1 (frame 58/455) /content/drive/MyDrive/Baby Rhino Loves a Good Brushing __ ViralHog.mp4: 640x544 1 rhino-endangered, 560.1ms\n",
            "video 1/1 (frame 59/455) /content/drive/MyDrive/Baby Rhino Loves a Good Brushing __ ViralHog.mp4: 640x544 1 rhino-endangered, 562.4ms\n",
            "video 1/1 (frame 60/455) /content/drive/MyDrive/Baby Rhino Loves a Good Brushing __ ViralHog.mp4: 640x544 1 rhino-endangered, 567.2ms\n",
            "video 1/1 (frame 61/455) /content/drive/MyDrive/Baby Rhino Loves a Good Brushing __ ViralHog.mp4: 640x544 1 rhino-endangered, 546.1ms\n",
            "video 1/1 (frame 62/455) /content/drive/MyDrive/Baby Rhino Loves a Good Brushing __ ViralHog.mp4: 640x544 1 rhino-endangered, 547.9ms\n",
            "video 1/1 (frame 63/455) /content/drive/MyDrive/Baby Rhino Loves a Good Brushing __ ViralHog.mp4: 640x544 1 lion-endangered, 1 rhino-endangered, 553.6ms\n",
            "video 1/1 (frame 64/455) /content/drive/MyDrive/Baby Rhino Loves a Good Brushing __ ViralHog.mp4: 640x544 1 rhino-endangered, 538.8ms\n",
            "video 1/1 (frame 65/455) /content/drive/MyDrive/Baby Rhino Loves a Good Brushing __ ViralHog.mp4: 640x544 1 rhino-endangered, 543.4ms\n",
            "video 1/1 (frame 66/455) /content/drive/MyDrive/Baby Rhino Loves a Good Brushing __ ViralHog.mp4: 640x544 1 rhino-endangered, 831.1ms\n",
            "video 1/1 (frame 67/455) /content/drive/MyDrive/Baby Rhino Loves a Good Brushing __ ViralHog.mp4: 640x544 1 rhino-endangered, 861.1ms\n",
            "video 1/1 (frame 68/455) /content/drive/MyDrive/Baby Rhino Loves a Good Brushing __ ViralHog.mp4: 640x544 1 rhino-endangered, 885.4ms\n",
            "video 1/1 (frame 69/455) /content/drive/MyDrive/Baby Rhino Loves a Good Brushing __ ViralHog.mp4: 640x544 1 rhino-endangered, 891.2ms\n",
            "video 1/1 (frame 70/455) /content/drive/MyDrive/Baby Rhino Loves a Good Brushing __ ViralHog.mp4: 640x544 1 rhino-endangered, 918.8ms\n",
            "video 1/1 (frame 71/455) /content/drive/MyDrive/Baby Rhino Loves a Good Brushing __ ViralHog.mp4: 640x544 1 rhino-endangered, 956.5ms\n",
            "video 1/1 (frame 72/455) /content/drive/MyDrive/Baby Rhino Loves a Good Brushing __ ViralHog.mp4: 640x544 1 rhino-endangered, 854.0ms\n",
            "video 1/1 (frame 73/455) /content/drive/MyDrive/Baby Rhino Loves a Good Brushing __ ViralHog.mp4: 640x544 1 rhino-endangered, 798.8ms\n",
            "video 1/1 (frame 74/455) /content/drive/MyDrive/Baby Rhino Loves a Good Brushing __ ViralHog.mp4: 640x544 1 rhino-endangered, 551.2ms\n",
            "video 1/1 (frame 75/455) /content/drive/MyDrive/Baby Rhino Loves a Good Brushing __ ViralHog.mp4: 640x544 (no detections), 557.6ms\n",
            "video 1/1 (frame 76/455) /content/drive/MyDrive/Baby Rhino Loves a Good Brushing __ ViralHog.mp4: 640x544 (no detections), 542.0ms\n",
            "video 1/1 (frame 77/455) /content/drive/MyDrive/Baby Rhino Loves a Good Brushing __ ViralHog.mp4: 640x544 (no detections), 565.1ms\n",
            "video 1/1 (frame 78/455) /content/drive/MyDrive/Baby Rhino Loves a Good Brushing __ ViralHog.mp4: 640x544 (no detections), 515.6ms\n",
            "video 1/1 (frame 79/455) /content/drive/MyDrive/Baby Rhino Loves a Good Brushing __ ViralHog.mp4: 640x544 (no detections), 552.0ms\n",
            "video 1/1 (frame 80/455) /content/drive/MyDrive/Baby Rhino Loves a Good Brushing __ ViralHog.mp4: 640x544 (no detections), 549.2ms\n",
            "video 1/1 (frame 81/455) /content/drive/MyDrive/Baby Rhino Loves a Good Brushing __ ViralHog.mp4: 640x544 (no detections), 557.4ms\n",
            "video 1/1 (frame 82/455) /content/drive/MyDrive/Baby Rhino Loves a Good Brushing __ ViralHog.mp4: 640x544 (no detections), 546.0ms\n",
            "video 1/1 (frame 83/455) /content/drive/MyDrive/Baby Rhino Loves a Good Brushing __ ViralHog.mp4: 640x544 1 rhino-endangered, 546.7ms\n",
            "video 1/1 (frame 84/455) /content/drive/MyDrive/Baby Rhino Loves a Good Brushing __ ViralHog.mp4: 640x544 1 rhino-endangered, 549.5ms\n",
            "video 1/1 (frame 85/455) /content/drive/MyDrive/Baby Rhino Loves a Good Brushing __ ViralHog.mp4: 640x544 1 rhino-endangered, 550.9ms\n",
            "video 1/1 (frame 86/455) /content/drive/MyDrive/Baby Rhino Loves a Good Brushing __ ViralHog.mp4: 640x544 1 rhino-endangered, 557.1ms\n",
            "video 1/1 (frame 87/455) /content/drive/MyDrive/Baby Rhino Loves a Good Brushing __ ViralHog.mp4: 640x544 1 rhino-endangered, 741.7ms\n",
            "video 1/1 (frame 88/455) /content/drive/MyDrive/Baby Rhino Loves a Good Brushing __ ViralHog.mp4: 640x544 1 rhino-endangered, 883.2ms\n",
            "video 1/1 (frame 89/455) /content/drive/MyDrive/Baby Rhino Loves a Good Brushing __ ViralHog.mp4: 640x544 1 rhino-endangered, 857.8ms\n",
            "video 1/1 (frame 90/455) /content/drive/MyDrive/Baby Rhino Loves a Good Brushing __ ViralHog.mp4: 640x544 1 rhino-endangered, 861.4ms\n",
            "video 1/1 (frame 91/455) /content/drive/MyDrive/Baby Rhino Loves a Good Brushing __ ViralHog.mp4: 640x544 1 rhino-endangered, 871.6ms\n",
            "video 1/1 (frame 92/455) /content/drive/MyDrive/Baby Rhino Loves a Good Brushing __ ViralHog.mp4: 640x544 1 rhino-endangered, 747.4ms\n",
            "video 1/1 (frame 93/455) /content/drive/MyDrive/Baby Rhino Loves a Good Brushing __ ViralHog.mp4: 640x544 1 rhino-endangered, 540.4ms\n",
            "video 1/1 (frame 94/455) /content/drive/MyDrive/Baby Rhino Loves a Good Brushing __ ViralHog.mp4: 640x544 1 rhino-endangered, 536.3ms\n",
            "video 1/1 (frame 95/455) /content/drive/MyDrive/Baby Rhino Loves a Good Brushing __ ViralHog.mp4: 640x544 1 rhino-endangered, 543.4ms\n",
            "video 1/1 (frame 96/455) /content/drive/MyDrive/Baby Rhino Loves a Good Brushing __ ViralHog.mp4: 640x544 1 rhino-endangered, 558.3ms\n",
            "video 1/1 (frame 97/455) /content/drive/MyDrive/Baby Rhino Loves a Good Brushing __ ViralHog.mp4: 640x544 1 rhino-endangered, 538.2ms\n",
            "video 1/1 (frame 98/455) /content/drive/MyDrive/Baby Rhino Loves a Good Brushing __ ViralHog.mp4: 640x544 1 rhino-endangered, 550.4ms\n",
            "video 1/1 (frame 99/455) /content/drive/MyDrive/Baby Rhino Loves a Good Brushing __ ViralHog.mp4: 640x544 1 rhino-endangered, 564.6ms\n",
            "video 1/1 (frame 100/455) /content/drive/MyDrive/Baby Rhino Loves a Good Brushing __ ViralHog.mp4: 640x544 1 rhino-endangered, 539.4ms\n",
            "video 1/1 (frame 101/455) /content/drive/MyDrive/Baby Rhino Loves a Good Brushing __ ViralHog.mp4: 640x544 1 rhino-endangered, 528.0ms\n",
            "video 1/1 (frame 102/455) /content/drive/MyDrive/Baby Rhino Loves a Good Brushing __ ViralHog.mp4: 640x544 1 rhino-endangered, 547.9ms\n",
            "video 1/1 (frame 103/455) /content/drive/MyDrive/Baby Rhino Loves a Good Brushing __ ViralHog.mp4: 640x544 1 rhino-endangered, 520.9ms\n",
            "video 1/1 (frame 104/455) /content/drive/MyDrive/Baby Rhino Loves a Good Brushing __ ViralHog.mp4: 640x544 1 rhino-endangered, 558.6ms\n",
            "video 1/1 (frame 105/455) /content/drive/MyDrive/Baby Rhino Loves a Good Brushing __ ViralHog.mp4: 640x544 1 rhino-endangered, 540.9ms\n",
            "video 1/1 (frame 106/455) /content/drive/MyDrive/Baby Rhino Loves a Good Brushing __ ViralHog.mp4: 640x544 1 rhino-endangered, 550.1ms\n",
            "video 1/1 (frame 107/455) /content/drive/MyDrive/Baby Rhino Loves a Good Brushing __ ViralHog.mp4: 640x544 1 rhino-endangered, 540.1ms\n",
            "video 1/1 (frame 108/455) /content/drive/MyDrive/Baby Rhino Loves a Good Brushing __ ViralHog.mp4: 640x544 1 rhino-endangered, 535.1ms\n",
            "video 1/1 (frame 109/455) /content/drive/MyDrive/Baby Rhino Loves a Good Brushing __ ViralHog.mp4: 640x544 1 rhino-endangered, 545.3ms\n",
            "video 1/1 (frame 110/455) /content/drive/MyDrive/Baby Rhino Loves a Good Brushing __ ViralHog.mp4: 640x544 1 rhino-endangered, 760.8ms\n",
            "video 1/1 (frame 111/455) /content/drive/MyDrive/Baby Rhino Loves a Good Brushing __ ViralHog.mp4: 640x544 1 rhino-endangered, 855.1ms\n",
            "video 1/1 (frame 112/455) /content/drive/MyDrive/Baby Rhino Loves a Good Brushing __ ViralHog.mp4: 640x544 1 rhino-endangered, 865.3ms\n",
            "video 1/1 (frame 113/455) /content/drive/MyDrive/Baby Rhino Loves a Good Brushing __ ViralHog.mp4: 640x544 1 rhino-endangered, 880.9ms\n",
            "video 1/1 (frame 114/455) /content/drive/MyDrive/Baby Rhino Loves a Good Brushing __ ViralHog.mp4: 640x544 1 rhino-endangered, 878.4ms\n",
            "video 1/1 (frame 115/455) /content/drive/MyDrive/Baby Rhino Loves a Good Brushing __ ViralHog.mp4: 640x544 1 rhino-endangered, 749.0ms\n",
            "video 1/1 (frame 116/455) /content/drive/MyDrive/Baby Rhino Loves a Good Brushing __ ViralHog.mp4: 640x544 1 rhino-endangered, 534.5ms\n",
            "video 1/1 (frame 117/455) /content/drive/MyDrive/Baby Rhino Loves a Good Brushing __ ViralHog.mp4: 640x544 1 rhino-endangered, 564.3ms\n",
            "video 1/1 (frame 118/455) /content/drive/MyDrive/Baby Rhino Loves a Good Brushing __ ViralHog.mp4: 640x544 1 rhino-endangered, 532.6ms\n",
            "video 1/1 (frame 119/455) /content/drive/MyDrive/Baby Rhino Loves a Good Brushing __ ViralHog.mp4: 640x544 1 rhino-endangered, 557.5ms\n",
            "video 1/1 (frame 120/455) /content/drive/MyDrive/Baby Rhino Loves a Good Brushing __ ViralHog.mp4: 640x544 1 rhino-endangered, 541.1ms\n",
            "video 1/1 (frame 121/455) /content/drive/MyDrive/Baby Rhino Loves a Good Brushing __ ViralHog.mp4: 640x544 1 rhino-endangered, 556.2ms\n",
            "video 1/1 (frame 122/455) /content/drive/MyDrive/Baby Rhino Loves a Good Brushing __ ViralHog.mp4: 640x544 1 rhino-endangered, 562.0ms\n",
            "video 1/1 (frame 123/455) /content/drive/MyDrive/Baby Rhino Loves a Good Brushing __ ViralHog.mp4: 640x544 1 rhino-endangered, 562.6ms\n",
            "video 1/1 (frame 124/455) /content/drive/MyDrive/Baby Rhino Loves a Good Brushing __ ViralHog.mp4: 640x544 1 rhino-endangered, 568.7ms\n",
            "video 1/1 (frame 125/455) /content/drive/MyDrive/Baby Rhino Loves a Good Brushing __ ViralHog.mp4: 640x544 1 rhino-endangered, 532.3ms\n",
            "video 1/1 (frame 126/455) /content/drive/MyDrive/Baby Rhino Loves a Good Brushing __ ViralHog.mp4: 640x544 1 rhino-endangered, 550.7ms\n",
            "video 1/1 (frame 127/455) /content/drive/MyDrive/Baby Rhino Loves a Good Brushing __ ViralHog.mp4: 640x544 1 rhino-endangered, 541.3ms\n",
            "video 1/1 (frame 128/455) /content/drive/MyDrive/Baby Rhino Loves a Good Brushing __ ViralHog.mp4: 640x544 1 rhino-endangered, 560.6ms\n",
            "video 1/1 (frame 129/455) /content/drive/MyDrive/Baby Rhino Loves a Good Brushing __ ViralHog.mp4: 640x544 1 rhino-endangered, 550.3ms\n",
            "video 1/1 (frame 130/455) /content/drive/MyDrive/Baby Rhino Loves a Good Brushing __ ViralHog.mp4: 640x544 1 rhino-endangered, 537.6ms\n",
            "video 1/1 (frame 131/455) /content/drive/MyDrive/Baby Rhino Loves a Good Brushing __ ViralHog.mp4: 640x544 1 rhino-endangered, 570.2ms\n",
            "video 1/1 (frame 132/455) /content/drive/MyDrive/Baby Rhino Loves a Good Brushing __ ViralHog.mp4: 640x544 1 rhino-endangered, 538.2ms\n",
            "video 1/1 (frame 133/455) /content/drive/MyDrive/Baby Rhino Loves a Good Brushing __ ViralHog.mp4: 640x544 1 rhino-endangered, 836.3ms\n",
            "video 1/1 (frame 134/455) /content/drive/MyDrive/Baby Rhino Loves a Good Brushing __ ViralHog.mp4: 640x544 1 rhino-endangered, 876.5ms\n",
            "video 1/1 (frame 135/455) /content/drive/MyDrive/Baby Rhino Loves a Good Brushing __ ViralHog.mp4: 640x544 1 rhino-endangered, 843.5ms\n",
            "video 1/1 (frame 136/455) /content/drive/MyDrive/Baby Rhino Loves a Good Brushing __ ViralHog.mp4: 640x544 1 rhino-endangered, 888.3ms\n",
            "video 1/1 (frame 137/455) /content/drive/MyDrive/Baby Rhino Loves a Good Brushing __ ViralHog.mp4: 640x544 1 rhino-endangered, 894.3ms\n",
            "video 1/1 (frame 138/455) /content/drive/MyDrive/Baby Rhino Loves a Good Brushing __ ViralHog.mp4: 640x544 1 rhino-endangered, 675.9ms\n",
            "video 1/1 (frame 139/455) /content/drive/MyDrive/Baby Rhino Loves a Good Brushing __ ViralHog.mp4: 640x544 1 rhino-endangered, 546.0ms\n",
            "video 1/1 (frame 140/455) /content/drive/MyDrive/Baby Rhino Loves a Good Brushing __ ViralHog.mp4: 640x544 1 rhino-endangered, 540.7ms\n",
            "video 1/1 (frame 141/455) /content/drive/MyDrive/Baby Rhino Loves a Good Brushing __ ViralHog.mp4: 640x544 1 rhino-endangered, 548.2ms\n",
            "video 1/1 (frame 142/455) /content/drive/MyDrive/Baby Rhino Loves a Good Brushing __ ViralHog.mp4: 640x544 1 rhino-endangered, 528.4ms\n",
            "video 1/1 (frame 143/455) /content/drive/MyDrive/Baby Rhino Loves a Good Brushing __ ViralHog.mp4: 640x544 1 rhino-endangered, 551.4ms\n",
            "video 1/1 (frame 144/455) /content/drive/MyDrive/Baby Rhino Loves a Good Brushing __ ViralHog.mp4: 640x544 1 rhino-endangered, 552.1ms\n",
            "video 1/1 (frame 145/455) /content/drive/MyDrive/Baby Rhino Loves a Good Brushing __ ViralHog.mp4: 640x544 1 rhino-endangered, 578.1ms\n",
            "video 1/1 (frame 146/455) /content/drive/MyDrive/Baby Rhino Loves a Good Brushing __ ViralHog.mp4: 640x544 1 rhino-endangered, 536.7ms\n",
            "video 1/1 (frame 147/455) /content/drive/MyDrive/Baby Rhino Loves a Good Brushing __ ViralHog.mp4: 640x544 1 rhino-endangered, 532.8ms\n",
            "video 1/1 (frame 148/455) /content/drive/MyDrive/Baby Rhino Loves a Good Brushing __ ViralHog.mp4: 640x544 1 rhino-endangered, 538.4ms\n",
            "video 1/1 (frame 149/455) /content/drive/MyDrive/Baby Rhino Loves a Good Brushing __ ViralHog.mp4: 640x544 1 rhino-endangered, 519.5ms\n",
            "video 1/1 (frame 150/455) /content/drive/MyDrive/Baby Rhino Loves a Good Brushing __ ViralHog.mp4: 640x544 1 rhino-endangered, 555.8ms\n",
            "video 1/1 (frame 151/455) /content/drive/MyDrive/Baby Rhino Loves a Good Brushing __ ViralHog.mp4: 640x544 1 rhino-endangered, 536.2ms\n",
            "video 1/1 (frame 152/455) /content/drive/MyDrive/Baby Rhino Loves a Good Brushing __ ViralHog.mp4: 640x544 1 rhino-endangered, 547.3ms\n",
            "video 1/1 (frame 153/455) /content/drive/MyDrive/Baby Rhino Loves a Good Brushing __ ViralHog.mp4: 640x544 1 rhino-endangered, 539.4ms\n",
            "video 1/1 (frame 154/455) /content/drive/MyDrive/Baby Rhino Loves a Good Brushing __ ViralHog.mp4: 640x544 1 rhino-endangered, 550.5ms\n",
            "video 1/1 (frame 155/455) /content/drive/MyDrive/Baby Rhino Loves a Good Brushing __ ViralHog.mp4: 640x544 1 rhino-endangered, 541.1ms\n",
            "video 1/1 (frame 156/455) /content/drive/MyDrive/Baby Rhino Loves a Good Brushing __ ViralHog.mp4: 640x544 1 rhino-endangered, 864.1ms\n",
            "video 1/1 (frame 157/455) /content/drive/MyDrive/Baby Rhino Loves a Good Brushing __ ViralHog.mp4: 640x544 1 rhino-endangered, 834.2ms\n",
            "video 1/1 (frame 158/455) /content/drive/MyDrive/Baby Rhino Loves a Good Brushing __ ViralHog.mp4: 640x544 2 rhino-endangereds, 856.5ms\n",
            "video 1/1 (frame 159/455) /content/drive/MyDrive/Baby Rhino Loves a Good Brushing __ ViralHog.mp4: 640x544 2 rhino-endangereds, 857.9ms\n",
            "video 1/1 (frame 160/455) /content/drive/MyDrive/Baby Rhino Loves a Good Brushing __ ViralHog.mp4: 640x544 2 rhino-endangereds, 908.8ms\n",
            "video 1/1 (frame 161/455) /content/drive/MyDrive/Baby Rhino Loves a Good Brushing __ ViralHog.mp4: 640x544 1 rhino-endangered, 670.4ms\n",
            "video 1/1 (frame 162/455) /content/drive/MyDrive/Baby Rhino Loves a Good Brushing __ ViralHog.mp4: 640x544 1 rhino-endangered, 540.9ms\n",
            "video 1/1 (frame 163/455) /content/drive/MyDrive/Baby Rhino Loves a Good Brushing __ ViralHog.mp4: 640x544 2 rhino-endangereds, 531.2ms\n",
            "video 1/1 (frame 164/455) /content/drive/MyDrive/Baby Rhino Loves a Good Brushing __ ViralHog.mp4: 640x544 2 rhino-endangereds, 559.6ms\n",
            "video 1/1 (frame 165/455) /content/drive/MyDrive/Baby Rhino Loves a Good Brushing __ ViralHog.mp4: 640x544 2 rhino-endangereds, 539.8ms\n",
            "video 1/1 (frame 166/455) /content/drive/MyDrive/Baby Rhino Loves a Good Brushing __ ViralHog.mp4: 640x544 2 rhino-endangereds, 549.1ms\n",
            "video 1/1 (frame 167/455) /content/drive/MyDrive/Baby Rhino Loves a Good Brushing __ ViralHog.mp4: 640x544 2 rhino-endangereds, 520.1ms\n",
            "video 1/1 (frame 168/455) /content/drive/MyDrive/Baby Rhino Loves a Good Brushing __ ViralHog.mp4: 640x544 2 rhino-endangereds, 571.9ms\n",
            "video 1/1 (frame 169/455) /content/drive/MyDrive/Baby Rhino Loves a Good Brushing __ ViralHog.mp4: 640x544 2 rhino-endangereds, 581.1ms\n",
            "video 1/1 (frame 170/455) /content/drive/MyDrive/Baby Rhino Loves a Good Brushing __ ViralHog.mp4: 640x544 2 rhino-endangereds, 531.2ms\n",
            "video 1/1 (frame 171/455) /content/drive/MyDrive/Baby Rhino Loves a Good Brushing __ ViralHog.mp4: 640x544 2 rhino-endangereds, 536.7ms\n",
            "video 1/1 (frame 172/455) /content/drive/MyDrive/Baby Rhino Loves a Good Brushing __ ViralHog.mp4: 640x544 2 rhino-endangereds, 546.8ms\n",
            "video 1/1 (frame 173/455) /content/drive/MyDrive/Baby Rhino Loves a Good Brushing __ ViralHog.mp4: 640x544 2 rhino-endangereds, 555.4ms\n",
            "video 1/1 (frame 174/455) /content/drive/MyDrive/Baby Rhino Loves a Good Brushing __ ViralHog.mp4: 640x544 2 rhino-endangereds, 548.1ms\n",
            "video 1/1 (frame 175/455) /content/drive/MyDrive/Baby Rhino Loves a Good Brushing __ ViralHog.mp4: 640x544 2 rhino-endangereds, 535.4ms\n",
            "video 1/1 (frame 176/455) /content/drive/MyDrive/Baby Rhino Loves a Good Brushing __ ViralHog.mp4: 640x544 2 rhino-endangereds, 545.6ms\n",
            "video 1/1 (frame 177/455) /content/drive/MyDrive/Baby Rhino Loves a Good Brushing __ ViralHog.mp4: 640x544 2 rhino-endangereds, 545.2ms\n",
            "video 1/1 (frame 178/455) /content/drive/MyDrive/Baby Rhino Loves a Good Brushing __ ViralHog.mp4: 640x544 2 rhino-endangereds, 567.7ms\n",
            "video 1/1 (frame 179/455) /content/drive/MyDrive/Baby Rhino Loves a Good Brushing __ ViralHog.mp4: 640x544 2 rhino-endangereds, 845.2ms\n",
            "video 1/1 (frame 180/455) /content/drive/MyDrive/Baby Rhino Loves a Good Brushing __ ViralHog.mp4: 640x544 2 rhino-endangereds, 856.7ms\n",
            "video 1/1 (frame 181/455) /content/drive/MyDrive/Baby Rhino Loves a Good Brushing __ ViralHog.mp4: 640x544 1 rhino-endangered, 869.1ms\n",
            "video 1/1 (frame 182/455) /content/drive/MyDrive/Baby Rhino Loves a Good Brushing __ ViralHog.mp4: 640x544 1 rhino-endangered, 869.6ms\n",
            "video 1/1 (frame 183/455) /content/drive/MyDrive/Baby Rhino Loves a Good Brushing __ ViralHog.mp4: 640x544 1 rhino-endangered, 938.5ms\n",
            "video 1/1 (frame 184/455) /content/drive/MyDrive/Baby Rhino Loves a Good Brushing __ ViralHog.mp4: 640x544 1 rhino-endangered, 635.4ms\n",
            "video 1/1 (frame 185/455) /content/drive/MyDrive/Baby Rhino Loves a Good Brushing __ ViralHog.mp4: 640x544 2 rhino-endangereds, 533.0ms\n",
            "video 1/1 (frame 186/455) /content/drive/MyDrive/Baby Rhino Loves a Good Brushing __ ViralHog.mp4: 640x544 1 rhino-endangered, 564.3ms\n",
            "video 1/1 (frame 187/455) /content/drive/MyDrive/Baby Rhino Loves a Good Brushing __ ViralHog.mp4: 640x544 1 rhino-endangered, 534.8ms\n",
            "video 1/1 (frame 188/455) /content/drive/MyDrive/Baby Rhino Loves a Good Brushing __ ViralHog.mp4: 640x544 1 rhino-endangered, 566.6ms\n",
            "video 1/1 (frame 189/455) /content/drive/MyDrive/Baby Rhino Loves a Good Brushing __ ViralHog.mp4: 640x544 1 rhino-endangered, 540.1ms\n",
            "video 1/1 (frame 190/455) /content/drive/MyDrive/Baby Rhino Loves a Good Brushing __ ViralHog.mp4: 640x544 1 rhino-endangered, 562.9ms\n",
            "video 1/1 (frame 191/455) /content/drive/MyDrive/Baby Rhino Loves a Good Brushing __ ViralHog.mp4: 640x544 1 rhino-endangered, 530.1ms\n",
            "video 1/1 (frame 192/455) /content/drive/MyDrive/Baby Rhino Loves a Good Brushing __ ViralHog.mp4: 640x544 1 rhino-endangered, 565.3ms\n",
            "video 1/1 (frame 193/455) /content/drive/MyDrive/Baby Rhino Loves a Good Brushing __ ViralHog.mp4: 640x544 1 rhino-endangered, 585.4ms\n",
            "video 1/1 (frame 194/455) /content/drive/MyDrive/Baby Rhino Loves a Good Brushing __ ViralHog.mp4: 640x544 1 rhino-endangered, 530.7ms\n",
            "video 1/1 (frame 195/455) /content/drive/MyDrive/Baby Rhino Loves a Good Brushing __ ViralHog.mp4: 640x544 1 rhino-endangered, 558.1ms\n",
            "video 1/1 (frame 196/455) /content/drive/MyDrive/Baby Rhino Loves a Good Brushing __ ViralHog.mp4: 640x544 1 rhino-endangered, 540.3ms\n",
            "video 1/1 (frame 197/455) /content/drive/MyDrive/Baby Rhino Loves a Good Brushing __ ViralHog.mp4: 640x544 1 rhino-endangered, 568.3ms\n",
            "video 1/1 (frame 198/455) /content/drive/MyDrive/Baby Rhino Loves a Good Brushing __ ViralHog.mp4: 640x544 1 rhino-endangered, 538.0ms\n",
            "video 1/1 (frame 199/455) /content/drive/MyDrive/Baby Rhino Loves a Good Brushing __ ViralHog.mp4: 640x544 1 rhino-endangered, 560.0ms\n",
            "video 1/1 (frame 200/455) /content/drive/MyDrive/Baby Rhino Loves a Good Brushing __ ViralHog.mp4: 640x544 1 rhino-endangered, 540.4ms\n",
            "video 1/1 (frame 201/455) /content/drive/MyDrive/Baby Rhino Loves a Good Brushing __ ViralHog.mp4: 640x544 1 rhino-endangered, 667.5ms\n",
            "video 1/1 (frame 202/455) /content/drive/MyDrive/Baby Rhino Loves a Good Brushing __ ViralHog.mp4: 640x544 1 rhino-endangered, 884.7ms\n",
            "video 1/1 (frame 203/455) /content/drive/MyDrive/Baby Rhino Loves a Good Brushing __ ViralHog.mp4: 640x544 1 rhino-endangered, 844.2ms\n",
            "video 1/1 (frame 204/455) /content/drive/MyDrive/Baby Rhino Loves a Good Brushing __ ViralHog.mp4: 640x544 1 rhino-endangered, 891.1ms\n",
            "video 1/1 (frame 205/455) /content/drive/MyDrive/Baby Rhino Loves a Good Brushing __ ViralHog.mp4: 640x544 1 rhino-endangered, 889.8ms\n",
            "video 1/1 (frame 206/455) /content/drive/MyDrive/Baby Rhino Loves a Good Brushing __ ViralHog.mp4: 640x544 1 rhino-endangered, 875.4ms\n",
            "video 1/1 (frame 207/455) /content/drive/MyDrive/Baby Rhino Loves a Good Brushing __ ViralHog.mp4: 640x544 1 rhino-endangered, 562.2ms\n",
            "video 1/1 (frame 208/455) /content/drive/MyDrive/Baby Rhino Loves a Good Brushing __ ViralHog.mp4: 640x544 1 rhino-endangered, 526.5ms\n",
            "video 1/1 (frame 209/455) /content/drive/MyDrive/Baby Rhino Loves a Good Brushing __ ViralHog.mp4: 640x544 1 rhino-endangered, 540.7ms\n",
            "video 1/1 (frame 210/455) /content/drive/MyDrive/Baby Rhino Loves a Good Brushing __ ViralHog.mp4: 640x544 1 rhino-endangered, 545.6ms\n",
            "video 1/1 (frame 211/455) /content/drive/MyDrive/Baby Rhino Loves a Good Brushing __ ViralHog.mp4: 640x544 1 rhino-endangered, 552.7ms\n",
            "video 1/1 (frame 212/455) /content/drive/MyDrive/Baby Rhino Loves a Good Brushing __ ViralHog.mp4: 640x544 1 rhino-endangered, 534.9ms\n",
            "video 1/1 (frame 213/455) /content/drive/MyDrive/Baby Rhino Loves a Good Brushing __ ViralHog.mp4: 640x544 1 rhino-endangered, 547.6ms\n",
            "video 1/1 (frame 214/455) /content/drive/MyDrive/Baby Rhino Loves a Good Brushing __ ViralHog.mp4: 640x544 1 rhino-endangered, 559.5ms\n",
            "video 1/1 (frame 215/455) /content/drive/MyDrive/Baby Rhino Loves a Good Brushing __ ViralHog.mp4: 640x544 1 rhino-endangered, 530.1ms\n",
            "video 1/1 (frame 216/455) /content/drive/MyDrive/Baby Rhino Loves a Good Brushing __ ViralHog.mp4: 640x544 1 rhino-endangered, 545.4ms\n",
            "video 1/1 (frame 217/455) /content/drive/MyDrive/Baby Rhino Loves a Good Brushing __ ViralHog.mp4: 640x544 1 rhino-endangered, 540.0ms\n",
            "video 1/1 (frame 218/455) /content/drive/MyDrive/Baby Rhino Loves a Good Brushing __ ViralHog.mp4: 640x544 1 rhino-endangered, 535.7ms\n",
            "video 1/1 (frame 219/455) /content/drive/MyDrive/Baby Rhino Loves a Good Brushing __ ViralHog.mp4: 640x544 1 rhino-endangered, 555.7ms\n",
            "video 1/1 (frame 220/455) /content/drive/MyDrive/Baby Rhino Loves a Good Brushing __ ViralHog.mp4: 640x544 1 rhino-endangered, 541.5ms\n",
            "video 1/1 (frame 221/455) /content/drive/MyDrive/Baby Rhino Loves a Good Brushing __ ViralHog.mp4: 640x544 1 rhino-endangered, 541.8ms\n",
            "video 1/1 (frame 222/455) /content/drive/MyDrive/Baby Rhino Loves a Good Brushing __ ViralHog.mp4: 640x544 1 rhino-endangered, 541.3ms\n",
            "video 1/1 (frame 223/455) /content/drive/MyDrive/Baby Rhino Loves a Good Brushing __ ViralHog.mp4: 640x544 1 rhino-endangered, 565.3ms\n",
            "video 1/1 (frame 224/455) /content/drive/MyDrive/Baby Rhino Loves a Good Brushing __ ViralHog.mp4: 640x544 1 rhino-endangered, 713.0ms\n",
            "video 1/1 (frame 225/455) /content/drive/MyDrive/Baby Rhino Loves a Good Brushing __ ViralHog.mp4: 640x544 1 rhino-endangered, 860.7ms\n",
            "video 1/1 (frame 226/455) /content/drive/MyDrive/Baby Rhino Loves a Good Brushing __ ViralHog.mp4: 640x544 1 rhino-endangered, 872.5ms\n",
            "video 1/1 (frame 227/455) /content/drive/MyDrive/Baby Rhino Loves a Good Brushing __ ViralHog.mp4: 640x544 1 rhino-endangered, 868.5ms\n",
            "video 1/1 (frame 228/455) /content/drive/MyDrive/Baby Rhino Loves a Good Brushing __ ViralHog.mp4: 640x544 1 rhino-endangered, 895.1ms\n",
            "video 1/1 (frame 229/455) /content/drive/MyDrive/Baby Rhino Loves a Good Brushing __ ViralHog.mp4: 640x544 1 rhino-endangered, 865.6ms\n",
            "video 1/1 (frame 230/455) /content/drive/MyDrive/Baby Rhino Loves a Good Brushing __ ViralHog.mp4: 640x544 1 rhino-endangered, 533.4ms\n",
            "video 1/1 (frame 231/455) /content/drive/MyDrive/Baby Rhino Loves a Good Brushing __ ViralHog.mp4: 640x544 1 rhino-endangered, 560.4ms\n",
            "video 1/1 (frame 232/455) /content/drive/MyDrive/Baby Rhino Loves a Good Brushing __ ViralHog.mp4: 640x544 1 rhino-endangered, 544.4ms\n",
            "video 1/1 (frame 233/455) /content/drive/MyDrive/Baby Rhino Loves a Good Brushing __ ViralHog.mp4: 640x544 1 rhino-endangered, 563.6ms\n",
            "video 1/1 (frame 234/455) /content/drive/MyDrive/Baby Rhino Loves a Good Brushing __ ViralHog.mp4: 640x544 1 rhino-endangered, 541.4ms\n",
            "video 1/1 (frame 235/455) /content/drive/MyDrive/Baby Rhino Loves a Good Brushing __ ViralHog.mp4: 640x544 1 rhino-endangered, 548.2ms\n",
            "video 1/1 (frame 236/455) /content/drive/MyDrive/Baby Rhino Loves a Good Brushing __ ViralHog.mp4: 640x544 1 rhino-endangered, 534.3ms\n",
            "video 1/1 (frame 237/455) /content/drive/MyDrive/Baby Rhino Loves a Good Brushing __ ViralHog.mp4: 640x544 1 killer_whale-endangered, 1 rhino-endangered, 536.7ms\n",
            "video 1/1 (frame 238/455) /content/drive/MyDrive/Baby Rhino Loves a Good Brushing __ ViralHog.mp4: 640x544 1 rhino-endangered, 554.3ms\n",
            "video 1/1 (frame 239/455) /content/drive/MyDrive/Baby Rhino Loves a Good Brushing __ ViralHog.mp4: 640x544 1 rhino-endangered, 564.1ms\n",
            "video 1/1 (frame 240/455) /content/drive/MyDrive/Baby Rhino Loves a Good Brushing __ ViralHog.mp4: 640x544 1 rhino-endangered, 561.9ms\n",
            "video 1/1 (frame 241/455) /content/drive/MyDrive/Baby Rhino Loves a Good Brushing __ ViralHog.mp4: 640x544 1 rhino-endangered, 555.9ms\n",
            "video 1/1 (frame 242/455) /content/drive/MyDrive/Baby Rhino Loves a Good Brushing __ ViralHog.mp4: 640x544 1 rhino-endangered, 555.2ms\n",
            "video 1/1 (frame 243/455) /content/drive/MyDrive/Baby Rhino Loves a Good Brushing __ ViralHog.mp4: 640x544 1 rhino-endangered, 563.0ms\n",
            "video 1/1 (frame 244/455) /content/drive/MyDrive/Baby Rhino Loves a Good Brushing __ ViralHog.mp4: 640x544 1 rhino-endangered, 542.7ms\n",
            "video 1/1 (frame 245/455) /content/drive/MyDrive/Baby Rhino Loves a Good Brushing __ ViralHog.mp4: 640x544 1 rhino-endangered, 561.1ms\n",
            "video 1/1 (frame 246/455) /content/drive/MyDrive/Baby Rhino Loves a Good Brushing __ ViralHog.mp4: 640x544 1 rhino-endangered, 545.2ms\n",
            "video 1/1 (frame 247/455) /content/drive/MyDrive/Baby Rhino Loves a Good Brushing __ ViralHog.mp4: 640x544 1 rhino-endangered, 811.4ms\n",
            "video 1/1 (frame 248/455) /content/drive/MyDrive/Baby Rhino Loves a Good Brushing __ ViralHog.mp4: 640x544 1 rhino-endangered, 846.6ms\n",
            "video 1/1 (frame 249/455) /content/drive/MyDrive/Baby Rhino Loves a Good Brushing __ ViralHog.mp4: 640x544 1 rhino-endangered, 861.7ms\n",
            "video 1/1 (frame 250/455) /content/drive/MyDrive/Baby Rhino Loves a Good Brushing __ ViralHog.mp4: 640x544 1 rhino-endangered, 864.0ms\n",
            "video 1/1 (frame 251/455) /content/drive/MyDrive/Baby Rhino Loves a Good Brushing __ ViralHog.mp4: 640x544 1 rhino-endangered, 903.1ms\n",
            "video 1/1 (frame 252/455) /content/drive/MyDrive/Baby Rhino Loves a Good Brushing __ ViralHog.mp4: 640x544 1 rhino-endangered, 697.4ms\n",
            "video 1/1 (frame 253/455) /content/drive/MyDrive/Baby Rhino Loves a Good Brushing __ ViralHog.mp4: 640x544 1 rhino-endangered, 555.0ms\n",
            "video 1/1 (frame 254/455) /content/drive/MyDrive/Baby Rhino Loves a Good Brushing __ ViralHog.mp4: 640x544 1 rhino-endangered, 529.5ms\n",
            "video 1/1 (frame 255/455) /content/drive/MyDrive/Baby Rhino Loves a Good Brushing __ ViralHog.mp4: 640x544 1 rhino-endangered, 544.4ms\n",
            "video 1/1 (frame 256/455) /content/drive/MyDrive/Baby Rhino Loves a Good Brushing __ ViralHog.mp4: 640x544 1 rhino-endangered, 543.9ms\n",
            "video 1/1 (frame 257/455) /content/drive/MyDrive/Baby Rhino Loves a Good Brushing __ ViralHog.mp4: 640x544 1 rhino-endangered, 555.0ms\n",
            "video 1/1 (frame 258/455) /content/drive/MyDrive/Baby Rhino Loves a Good Brushing __ ViralHog.mp4: 640x544 1 rhino-endangered, 531.6ms\n",
            "video 1/1 (frame 259/455) /content/drive/MyDrive/Baby Rhino Loves a Good Brushing __ ViralHog.mp4: 640x544 1 rhino-endangered, 565.3ms\n",
            "video 1/1 (frame 260/455) /content/drive/MyDrive/Baby Rhino Loves a Good Brushing __ ViralHog.mp4: 640x544 1 rhino-endangered, 533.7ms\n",
            "video 1/1 (frame 261/455) /content/drive/MyDrive/Baby Rhino Loves a Good Brushing __ ViralHog.mp4: 640x544 1 rhino-endangered, 556.5ms\n",
            "video 1/1 (frame 262/455) /content/drive/MyDrive/Baby Rhino Loves a Good Brushing __ ViralHog.mp4: 640x544 1 asian_elephant-endangered, 549.1ms\n",
            "video 1/1 (frame 263/455) /content/drive/MyDrive/Baby Rhino Loves a Good Brushing __ ViralHog.mp4: 640x544 1 asian_elephant-endangered, 523.5ms\n",
            "video 1/1 (frame 264/455) /content/drive/MyDrive/Baby Rhino Loves a Good Brushing __ ViralHog.mp4: 640x544 1 asian_elephant-endangered, 555.7ms\n",
            "video 1/1 (frame 265/455) /content/drive/MyDrive/Baby Rhino Loves a Good Brushing __ ViralHog.mp4: 640x544 1 asian_elephant-endangered, 549.3ms\n",
            "video 1/1 (frame 266/455) /content/drive/MyDrive/Baby Rhino Loves a Good Brushing __ ViralHog.mp4: 640x544 1 asian_elephant-endangered, 542.5ms\n",
            "video 1/1 (frame 267/455) /content/drive/MyDrive/Baby Rhino Loves a Good Brushing __ ViralHog.mp4: 640x544 1 asian_elephant-endangered, 527.3ms\n",
            "video 1/1 (frame 268/455) /content/drive/MyDrive/Baby Rhino Loves a Good Brushing __ ViralHog.mp4: 640x544 1 asian_elephant-endangered, 558.7ms\n",
            "video 1/1 (frame 269/455) /content/drive/MyDrive/Baby Rhino Loves a Good Brushing __ ViralHog.mp4: 640x544 1 asian_elephant-endangered, 531.1ms\n",
            "video 1/1 (frame 270/455) /content/drive/MyDrive/Baby Rhino Loves a Good Brushing __ ViralHog.mp4: 640x544 1 asian_elephant-endangered, 830.5ms\n",
            "video 1/1 (frame 271/455) /content/drive/MyDrive/Baby Rhino Loves a Good Brushing __ ViralHog.mp4: 640x544 1 asian_elephant-endangered, 869.6ms\n",
            "video 1/1 (frame 272/455) /content/drive/MyDrive/Baby Rhino Loves a Good Brushing __ ViralHog.mp4: 640x544 1 rhino-endangered, 854.4ms\n",
            "video 1/1 (frame 273/455) /content/drive/MyDrive/Baby Rhino Loves a Good Brushing __ ViralHog.mp4: 640x544 1 asian_elephant-endangered, 1 rhino-endangered, 860.9ms\n",
            "video 1/1 (frame 274/455) /content/drive/MyDrive/Baby Rhino Loves a Good Brushing __ ViralHog.mp4: 640x544 1 asian_elephant-endangered, 1 rhino-endangered, 929.5ms\n",
            "video 1/1 (frame 275/455) /content/drive/MyDrive/Baby Rhino Loves a Good Brushing __ ViralHog.mp4: 640x544 1 asian_elephant-endangered, 1 rhino-endangered, 679.7ms\n",
            "video 1/1 (frame 276/455) /content/drive/MyDrive/Baby Rhino Loves a Good Brushing __ ViralHog.mp4: 640x544 1 asian_elephant-endangered, 1 rhino-endangered, 549.2ms\n",
            "video 1/1 (frame 277/455) /content/drive/MyDrive/Baby Rhino Loves a Good Brushing __ ViralHog.mp4: 640x544 1 asian_elephant-endangered, 556.5ms\n",
            "video 1/1 (frame 278/455) /content/drive/MyDrive/Baby Rhino Loves a Good Brushing __ ViralHog.mp4: 640x544 1 asian_elephant-endangered, 547.1ms\n",
            "video 1/1 (frame 279/455) /content/drive/MyDrive/Baby Rhino Loves a Good Brushing __ ViralHog.mp4: 640x544 1 asian_elephant-endangered, 560.0ms\n",
            "video 1/1 (frame 280/455) /content/drive/MyDrive/Baby Rhino Loves a Good Brushing __ ViralHog.mp4: 640x544 1 asian_elephant-endangered, 544.2ms\n",
            "video 1/1 (frame 281/455) /content/drive/MyDrive/Baby Rhino Loves a Good Brushing __ ViralHog.mp4: 640x544 1 asian_elephant-endangered, 564.5ms\n",
            "video 1/1 (frame 282/455) /content/drive/MyDrive/Baby Rhino Loves a Good Brushing __ ViralHog.mp4: 640x544 1 asian_elephant-endangered, 540.5ms\n",
            "video 1/1 (frame 283/455) /content/drive/MyDrive/Baby Rhino Loves a Good Brushing __ ViralHog.mp4: 640x544 (no detections), 565.3ms\n",
            "video 1/1 (frame 284/455) /content/drive/MyDrive/Baby Rhino Loves a Good Brushing __ ViralHog.mp4: 640x544 (no detections), 550.8ms\n",
            "video 1/1 (frame 285/455) /content/drive/MyDrive/Baby Rhino Loves a Good Brushing __ ViralHog.mp4: 640x544 1 rhino-endangered, 564.6ms\n",
            "video 1/1 (frame 286/455) /content/drive/MyDrive/Baby Rhino Loves a Good Brushing __ ViralHog.mp4: 640x544 1 asian_elephant-endangered, 556.1ms\n",
            "video 1/1 (frame 287/455) /content/drive/MyDrive/Baby Rhino Loves a Good Brushing __ ViralHog.mp4: 640x544 1 asian_elephant-endangered, 1 rhino-endangered, 554.6ms\n",
            "video 1/1 (frame 288/455) /content/drive/MyDrive/Baby Rhino Loves a Good Brushing __ ViralHog.mp4: 640x544 1 asian_elephant-endangered, 1 rhino-endangered, 560.0ms\n",
            "video 1/1 (frame 289/455) /content/drive/MyDrive/Baby Rhino Loves a Good Brushing __ ViralHog.mp4: 640x544 1 asian_elephant-endangered, 539.0ms\n",
            "video 1/1 (frame 290/455) /content/drive/MyDrive/Baby Rhino Loves a Good Brushing __ ViralHog.mp4: 640x544 1 asian_elephant-endangered, 1 rhino-endangered, 557.6ms\n",
            "video 1/1 (frame 291/455) /content/drive/MyDrive/Baby Rhino Loves a Good Brushing __ ViralHog.mp4: 640x544 (no detections), 541.0ms\n",
            "video 1/1 (frame 292/455) /content/drive/MyDrive/Baby Rhino Loves a Good Brushing __ ViralHog.mp4: 640x544 1 asian_elephant-endangered, 647.0ms\n",
            "video 1/1 (frame 293/455) /content/drive/MyDrive/Baby Rhino Loves a Good Brushing __ ViralHog.mp4: 640x544 1 rhino-endangered, 866.4ms\n",
            "video 1/1 (frame 294/455) /content/drive/MyDrive/Baby Rhino Loves a Good Brushing __ ViralHog.mp4: 640x544 (no detections), 849.7ms\n",
            "video 1/1 (frame 295/455) /content/drive/MyDrive/Baby Rhino Loves a Good Brushing __ ViralHog.mp4: 640x544 1 lion-endangered, 873.2ms\n",
            "video 1/1 (frame 296/455) /content/drive/MyDrive/Baby Rhino Loves a Good Brushing __ ViralHog.mp4: 640x544 1 lion-endangered, 867.6ms\n",
            "video 1/1 (frame 297/455) /content/drive/MyDrive/Baby Rhino Loves a Good Brushing __ ViralHog.mp4: 640x544 1 lion-endangered, 902.6ms\n",
            "video 1/1 (frame 298/455) /content/drive/MyDrive/Baby Rhino Loves a Good Brushing __ ViralHog.mp4: 640x544 (no detections), 595.0ms\n",
            "video 1/1 (frame 299/455) /content/drive/MyDrive/Baby Rhino Loves a Good Brushing __ ViralHog.mp4: 640x544 1 lion-endangered, 538.3ms\n",
            "video 1/1 (frame 300/455) /content/drive/MyDrive/Baby Rhino Loves a Good Brushing __ ViralHog.mp4: 640x544 (no detections), 554.5ms\n",
            "video 1/1 (frame 301/455) /content/drive/MyDrive/Baby Rhino Loves a Good Brushing __ ViralHog.mp4: 640x544 (no detections), 540.7ms\n",
            "video 1/1 (frame 302/455) /content/drive/MyDrive/Baby Rhino Loves a Good Brushing __ ViralHog.mp4: 640x544 (no detections), 534.6ms\n",
            "video 1/1 (frame 303/455) /content/drive/MyDrive/Baby Rhino Loves a Good Brushing __ ViralHog.mp4: 640x544 (no detections), 538.7ms\n",
            "video 1/1 (frame 304/455) /content/drive/MyDrive/Baby Rhino Loves a Good Brushing __ ViralHog.mp4: 640x544 (no detections), 548.8ms\n",
            "video 1/1 (frame 305/455) /content/drive/MyDrive/Baby Rhino Loves a Good Brushing __ ViralHog.mp4: 640x544 (no detections), 562.9ms\n",
            "video 1/1 (frame 306/455) /content/drive/MyDrive/Baby Rhino Loves a Good Brushing __ ViralHog.mp4: 640x544 (no detections), 524.3ms\n",
            "video 1/1 (frame 307/455) /content/drive/MyDrive/Baby Rhino Loves a Good Brushing __ ViralHog.mp4: 640x544 (no detections), 570.3ms\n",
            "video 1/1 (frame 308/455) /content/drive/MyDrive/Baby Rhino Loves a Good Brushing __ ViralHog.mp4: 640x544 (no detections), 539.6ms\n",
            "video 1/1 (frame 309/455) /content/drive/MyDrive/Baby Rhino Loves a Good Brushing __ ViralHog.mp4: 640x544 (no detections), 549.4ms\n",
            "video 1/1 (frame 310/455) /content/drive/MyDrive/Baby Rhino Loves a Good Brushing __ ViralHog.mp4: 640x544 (no detections), 543.4ms\n",
            "video 1/1 (frame 311/455) /content/drive/MyDrive/Baby Rhino Loves a Good Brushing __ ViralHog.mp4: 640x544 (no detections), 556.6ms\n",
            "video 1/1 (frame 312/455) /content/drive/MyDrive/Baby Rhino Loves a Good Brushing __ ViralHog.mp4: 640x544 (no detections), 532.7ms\n",
            "video 1/1 (frame 313/455) /content/drive/MyDrive/Baby Rhino Loves a Good Brushing __ ViralHog.mp4: 640x544 (no detections), 556.2ms\n",
            "video 1/1 (frame 314/455) /content/drive/MyDrive/Baby Rhino Loves a Good Brushing __ ViralHog.mp4: 640x544 (no detections), 548.8ms\n",
            "video 1/1 (frame 315/455) /content/drive/MyDrive/Baby Rhino Loves a Good Brushing __ ViralHog.mp4: 640x544 (no detections), 628.6ms\n",
            "video 1/1 (frame 316/455) /content/drive/MyDrive/Baby Rhino Loves a Good Brushing __ ViralHog.mp4: 640x544 (no detections), 851.7ms\n",
            "video 1/1 (frame 317/455) /content/drive/MyDrive/Baby Rhino Loves a Good Brushing __ ViralHog.mp4: 640x544 (no detections), 861.5ms\n",
            "video 1/1 (frame 318/455) /content/drive/MyDrive/Baby Rhino Loves a Good Brushing __ ViralHog.mp4: 640x544 (no detections), 854.5ms\n",
            "video 1/1 (frame 319/455) /content/drive/MyDrive/Baby Rhino Loves a Good Brushing __ ViralHog.mp4: 640x544 (no detections), 857.1ms\n",
            "video 1/1 (frame 320/455) /content/drive/MyDrive/Baby Rhino Loves a Good Brushing __ ViralHog.mp4: 640x544 (no detections), 878.7ms\n",
            "video 1/1 (frame 321/455) /content/drive/MyDrive/Baby Rhino Loves a Good Brushing __ ViralHog.mp4: 640x544 (no detections), 587.3ms\n",
            "video 1/1 (frame 322/455) /content/drive/MyDrive/Baby Rhino Loves a Good Brushing __ ViralHog.mp4: 640x544 (no detections), 532.6ms\n",
            "video 1/1 (frame 323/455) /content/drive/MyDrive/Baby Rhino Loves a Good Brushing __ ViralHog.mp4: 640x544 (no detections), 551.8ms\n",
            "video 1/1 (frame 324/455) /content/drive/MyDrive/Baby Rhino Loves a Good Brushing __ ViralHog.mp4: 640x544 (no detections), 555.6ms\n",
            "video 1/1 (frame 325/455) /content/drive/MyDrive/Baby Rhino Loves a Good Brushing __ ViralHog.mp4: 640x544 (no detections), 536.0ms\n",
            "video 1/1 (frame 326/455) /content/drive/MyDrive/Baby Rhino Loves a Good Brushing __ ViralHog.mp4: 640x544 (no detections), 551.8ms\n",
            "video 1/1 (frame 327/455) /content/drive/MyDrive/Baby Rhino Loves a Good Brushing __ ViralHog.mp4: 640x544 (no detections), 538.8ms\n",
            "video 1/1 (frame 328/455) /content/drive/MyDrive/Baby Rhino Loves a Good Brushing __ ViralHog.mp4: 640x544 (no detections), 546.1ms\n",
            "video 1/1 (frame 329/455) /content/drive/MyDrive/Baby Rhino Loves a Good Brushing __ ViralHog.mp4: 640x544 (no detections), 538.4ms\n",
            "video 1/1 (frame 330/455) /content/drive/MyDrive/Baby Rhino Loves a Good Brushing __ ViralHog.mp4: 640x544 (no detections), 563.4ms\n",
            "video 1/1 (frame 331/455) /content/drive/MyDrive/Baby Rhino Loves a Good Brushing __ ViralHog.mp4: 640x544 (no detections), 553.4ms\n",
            "video 1/1 (frame 332/455) /content/drive/MyDrive/Baby Rhino Loves a Good Brushing __ ViralHog.mp4: 640x544 (no detections), 594.8ms\n",
            "video 1/1 (frame 333/455) /content/drive/MyDrive/Baby Rhino Loves a Good Brushing __ ViralHog.mp4: 640x544 (no detections), 576.5ms\n",
            "video 1/1 (frame 334/455) /content/drive/MyDrive/Baby Rhino Loves a Good Brushing __ ViralHog.mp4: 640x544 (no detections), 531.1ms\n",
            "video 1/1 (frame 335/455) /content/drive/MyDrive/Baby Rhino Loves a Good Brushing __ ViralHog.mp4: 640x544 (no detections), 558.3ms\n",
            "video 1/1 (frame 336/455) /content/drive/MyDrive/Baby Rhino Loves a Good Brushing __ ViralHog.mp4: 640x544 (no detections), 540.9ms\n",
            "video 1/1 (frame 337/455) /content/drive/MyDrive/Baby Rhino Loves a Good Brushing __ ViralHog.mp4: 640x544 (no detections), 554.0ms\n",
            "video 1/1 (frame 338/455) /content/drive/MyDrive/Baby Rhino Loves a Good Brushing __ ViralHog.mp4: 640x544 (no detections), 665.6ms\n",
            "video 1/1 (frame 339/455) /content/drive/MyDrive/Baby Rhino Loves a Good Brushing __ ViralHog.mp4: 640x544 (no detections), 865.4ms\n",
            "video 1/1 (frame 340/455) /content/drive/MyDrive/Baby Rhino Loves a Good Brushing __ ViralHog.mp4: 640x544 (no detections), 867.2ms\n",
            "video 1/1 (frame 341/455) /content/drive/MyDrive/Baby Rhino Loves a Good Brushing __ ViralHog.mp4: 640x544 1 rhino-endangered, 864.9ms\n",
            "video 1/1 (frame 342/455) /content/drive/MyDrive/Baby Rhino Loves a Good Brushing __ ViralHog.mp4: 640x544 (no detections), 865.3ms\n",
            "video 1/1 (frame 343/455) /content/drive/MyDrive/Baby Rhino Loves a Good Brushing __ ViralHog.mp4: 640x544 1 rhino-endangered, 884.3ms\n",
            "video 1/1 (frame 344/455) /content/drive/MyDrive/Baby Rhino Loves a Good Brushing __ ViralHog.mp4: 640x544 1 rhino-endangered, 544.8ms\n",
            "video 1/1 (frame 345/455) /content/drive/MyDrive/Baby Rhino Loves a Good Brushing __ ViralHog.mp4: 640x544 1 rhino-endangered, 561.4ms\n",
            "video 1/1 (frame 346/455) /content/drive/MyDrive/Baby Rhino Loves a Good Brushing __ ViralHog.mp4: 640x544 (no detections), 526.9ms\n",
            "video 1/1 (frame 347/455) /content/drive/MyDrive/Baby Rhino Loves a Good Brushing __ ViralHog.mp4: 640x544 (no detections), 548.2ms\n",
            "video 1/1 (frame 348/455) /content/drive/MyDrive/Baby Rhino Loves a Good Brushing __ ViralHog.mp4: 640x544 (no detections), 536.8ms\n",
            "video 1/1 (frame 349/455) /content/drive/MyDrive/Baby Rhino Loves a Good Brushing __ ViralHog.mp4: 640x544 (no detections), 557.5ms\n",
            "video 1/1 (frame 350/455) /content/drive/MyDrive/Baby Rhino Loves a Good Brushing __ ViralHog.mp4: 640x544 1 rhino-endangered, 555.7ms\n",
            "video 1/1 (frame 351/455) /content/drive/MyDrive/Baby Rhino Loves a Good Brushing __ ViralHog.mp4: 640x544 (no detections), 549.4ms\n",
            "video 1/1 (frame 352/455) /content/drive/MyDrive/Baby Rhino Loves a Good Brushing __ ViralHog.mp4: 640x544 1 shark-endangered, 549.0ms\n",
            "video 1/1 (frame 353/455) /content/drive/MyDrive/Baby Rhino Loves a Good Brushing __ ViralHog.mp4: 640x544 1 shark-endangered, 550.0ms\n",
            "video 1/1 (frame 354/455) /content/drive/MyDrive/Baby Rhino Loves a Good Brushing __ ViralHog.mp4: 640x544 1 shark-endangered, 545.9ms\n",
            "video 1/1 (frame 355/455) /content/drive/MyDrive/Baby Rhino Loves a Good Brushing __ ViralHog.mp4: 640x544 1 shark-endangered, 521.7ms\n",
            "video 1/1 (frame 356/455) /content/drive/MyDrive/Baby Rhino Loves a Good Brushing __ ViralHog.mp4: 640x544 1 shark-endangered, 547.4ms\n",
            "video 1/1 (frame 357/455) /content/drive/MyDrive/Baby Rhino Loves a Good Brushing __ ViralHog.mp4: 640x544 1 shark-endangered, 544.4ms\n",
            "video 1/1 (frame 358/455) /content/drive/MyDrive/Baby Rhino Loves a Good Brushing __ ViralHog.mp4: 640x544 1 shark-endangered, 548.2ms\n",
            "video 1/1 (frame 359/455) /content/drive/MyDrive/Baby Rhino Loves a Good Brushing __ ViralHog.mp4: 640x544 1 shark-endangered, 551.3ms\n",
            "video 1/1 (frame 360/455) /content/drive/MyDrive/Baby Rhino Loves a Good Brushing __ ViralHog.mp4: 640x544 1 shark-endangered, 521.3ms\n",
            "video 1/1 (frame 361/455) /content/drive/MyDrive/Baby Rhino Loves a Good Brushing __ ViralHog.mp4: 640x544 1 shark-endangered, 653.1ms\n",
            "video 1/1 (frame 362/455) /content/drive/MyDrive/Baby Rhino Loves a Good Brushing __ ViralHog.mp4: 640x544 1 shark-endangered, 877.3ms\n",
            "video 1/1 (frame 363/455) /content/drive/MyDrive/Baby Rhino Loves a Good Brushing __ ViralHog.mp4: 640x544 1 shark-endangered, 851.0ms\n",
            "video 1/1 (frame 364/455) /content/drive/MyDrive/Baby Rhino Loves a Good Brushing __ ViralHog.mp4: 640x544 1 shark-endangered, 856.7ms\n",
            "video 1/1 (frame 365/455) /content/drive/MyDrive/Baby Rhino Loves a Good Brushing __ ViralHog.mp4: 640x544 1 shark-endangered, 867.7ms\n",
            "video 1/1 (frame 366/455) /content/drive/MyDrive/Baby Rhino Loves a Good Brushing __ ViralHog.mp4: 640x544 1 shark-endangered, 894.8ms\n",
            "video 1/1 (frame 367/455) /content/drive/MyDrive/Baby Rhino Loves a Good Brushing __ ViralHog.mp4: 640x544 1 shark-endangered, 545.2ms\n",
            "video 1/1 (frame 368/455) /content/drive/MyDrive/Baby Rhino Loves a Good Brushing __ ViralHog.mp4: 640x544 1 rhino-endangered, 542.9ms\n",
            "video 1/1 (frame 369/455) /content/drive/MyDrive/Baby Rhino Loves a Good Brushing __ ViralHog.mp4: 640x544 1 rhino-endangered, 556.2ms\n",
            "video 1/1 (frame 370/455) /content/drive/MyDrive/Baby Rhino Loves a Good Brushing __ ViralHog.mp4: 640x544 1 rhino-endangered, 538.5ms\n",
            "video 1/1 (frame 371/455) /content/drive/MyDrive/Baby Rhino Loves a Good Brushing __ ViralHog.mp4: 640x544 1 rhino-endangered, 554.7ms\n",
            "video 1/1 (frame 372/455) /content/drive/MyDrive/Baby Rhino Loves a Good Brushing __ ViralHog.mp4: 640x544 1 rhino-endangered, 539.3ms\n",
            "video 1/1 (frame 373/455) /content/drive/MyDrive/Baby Rhino Loves a Good Brushing __ ViralHog.mp4: 640x544 1 rhino-endangered, 546.8ms\n",
            "video 1/1 (frame 374/455) /content/drive/MyDrive/Baby Rhino Loves a Good Brushing __ ViralHog.mp4: 640x544 1 rhino-endangered, 534.5ms\n",
            "video 1/1 (frame 375/455) /content/drive/MyDrive/Baby Rhino Loves a Good Brushing __ ViralHog.mp4: 640x544 1 rhino-endangered, 555.0ms\n",
            "video 1/1 (frame 376/455) /content/drive/MyDrive/Baby Rhino Loves a Good Brushing __ ViralHog.mp4: 640x544 1 rhino-endangered, 534.4ms\n",
            "video 1/1 (frame 377/455) /content/drive/MyDrive/Baby Rhino Loves a Good Brushing __ ViralHog.mp4: 640x544 1 rhino-endangered, 548.9ms\n",
            "video 1/1 (frame 378/455) /content/drive/MyDrive/Baby Rhino Loves a Good Brushing __ ViralHog.mp4: 640x544 1 rhino-endangered, 574.1ms\n",
            "video 1/1 (frame 379/455) /content/drive/MyDrive/Baby Rhino Loves a Good Brushing __ ViralHog.mp4: 640x544 1 rhino-endangered, 550.8ms\n",
            "video 1/1 (frame 380/455) /content/drive/MyDrive/Baby Rhino Loves a Good Brushing __ ViralHog.mp4: 640x544 1 rhino-endangered, 582.4ms\n",
            "video 1/1 (frame 381/455) /content/drive/MyDrive/Baby Rhino Loves a Good Brushing __ ViralHog.mp4: 640x544 1 rhino-endangered, 550.6ms\n",
            "video 1/1 (frame 382/455) /content/drive/MyDrive/Baby Rhino Loves a Good Brushing __ ViralHog.mp4: 640x544 1 rhino-endangered, 541.8ms\n",
            "video 1/1 (frame 383/455) /content/drive/MyDrive/Baby Rhino Loves a Good Brushing __ ViralHog.mp4: 640x544 1 rhino-endangered, 553.8ms\n",
            "video 1/1 (frame 384/455) /content/drive/MyDrive/Baby Rhino Loves a Good Brushing __ ViralHog.mp4: 640x544 1 rhino-endangered, 740.6ms\n",
            "video 1/1 (frame 385/455) /content/drive/MyDrive/Baby Rhino Loves a Good Brushing __ ViralHog.mp4: 640x544 1 rhino-endangered, 870.3ms\n",
            "video 1/1 (frame 386/455) /content/drive/MyDrive/Baby Rhino Loves a Good Brushing __ ViralHog.mp4: 640x544 1 rhino-endangered, 866.9ms\n",
            "video 1/1 (frame 387/455) /content/drive/MyDrive/Baby Rhino Loves a Good Brushing __ ViralHog.mp4: 640x544 1 rhino-endangered, 878.6ms\n",
            "video 1/1 (frame 388/455) /content/drive/MyDrive/Baby Rhino Loves a Good Brushing __ ViralHog.mp4: 640x544 1 rhino-endangered, 883.4ms\n",
            "video 1/1 (frame 389/455) /content/drive/MyDrive/Baby Rhino Loves a Good Brushing __ ViralHog.mp4: 640x544 1 rhino-endangered, 797.3ms\n",
            "video 1/1 (frame 390/455) /content/drive/MyDrive/Baby Rhino Loves a Good Brushing __ ViralHog.mp4: 640x544 1 rhino-endangered, 542.5ms\n",
            "video 1/1 (frame 391/455) /content/drive/MyDrive/Baby Rhino Loves a Good Brushing __ ViralHog.mp4: 640x544 1 rhino-endangered, 534.5ms\n",
            "video 1/1 (frame 392/455) /content/drive/MyDrive/Baby Rhino Loves a Good Brushing __ ViralHog.mp4: 640x544 1 rhino-endangered, 575.3ms\n",
            "video 1/1 (frame 393/455) /content/drive/MyDrive/Baby Rhino Loves a Good Brushing __ ViralHog.mp4: 640x544 1 rhino-endangered, 546.2ms\n",
            "video 1/1 (frame 394/455) /content/drive/MyDrive/Baby Rhino Loves a Good Brushing __ ViralHog.mp4: 640x544 1 rhino-endangered, 537.4ms\n",
            "video 1/1 (frame 395/455) /content/drive/MyDrive/Baby Rhino Loves a Good Brushing __ ViralHog.mp4: 640x544 1 rhino-endangered, 550.2ms\n",
            "video 1/1 (frame 396/455) /content/drive/MyDrive/Baby Rhino Loves a Good Brushing __ ViralHog.mp4: 640x544 1 rhino-endangered, 542.0ms\n",
            "video 1/1 (frame 397/455) /content/drive/MyDrive/Baby Rhino Loves a Good Brushing __ ViralHog.mp4: 640x544 1 rhino-endangered, 560.7ms\n",
            "video 1/1 (frame 398/455) /content/drive/MyDrive/Baby Rhino Loves a Good Brushing __ ViralHog.mp4: 640x544 1 rhino-endangered, 547.1ms\n",
            "video 1/1 (frame 399/455) /content/drive/MyDrive/Baby Rhino Loves a Good Brushing __ ViralHog.mp4: 640x544 1 rhino-endangered, 572.0ms\n",
            "video 1/1 (frame 400/455) /content/drive/MyDrive/Baby Rhino Loves a Good Brushing __ ViralHog.mp4: 640x544 1 rhino-endangered, 527.8ms\n",
            "video 1/1 (frame 401/455) /content/drive/MyDrive/Baby Rhino Loves a Good Brushing __ ViralHog.mp4: 640x544 1 rhino-endangered, 553.0ms\n",
            "video 1/1 (frame 402/455) /content/drive/MyDrive/Baby Rhino Loves a Good Brushing __ ViralHog.mp4: 640x544 1 rhino-endangered, 540.9ms\n",
            "video 1/1 (frame 403/455) /content/drive/MyDrive/Baby Rhino Loves a Good Brushing __ ViralHog.mp4: 640x544 1 rhino-endangered, 539.8ms\n",
            "video 1/1 (frame 404/455) /content/drive/MyDrive/Baby Rhino Loves a Good Brushing __ ViralHog.mp4: 640x544 1 rhino-endangered, 561.7ms\n",
            "video 1/1 (frame 405/455) /content/drive/MyDrive/Baby Rhino Loves a Good Brushing __ ViralHog.mp4: 640x544 1 rhino-endangered, 540.4ms\n",
            "video 1/1 (frame 406/455) /content/drive/MyDrive/Baby Rhino Loves a Good Brushing __ ViralHog.mp4: 640x544 1 rhino-endangered, 582.7ms\n",
            "video 1/1 (frame 407/455) /content/drive/MyDrive/Baby Rhino Loves a Good Brushing __ ViralHog.mp4: 640x544 1 rhino-endangered, 809.5ms\n",
            "video 1/1 (frame 408/455) /content/drive/MyDrive/Baby Rhino Loves a Good Brushing __ ViralHog.mp4: 640x544 1 rhino-endangered, 857.5ms\n",
            "video 1/1 (frame 409/455) /content/drive/MyDrive/Baby Rhino Loves a Good Brushing __ ViralHog.mp4: 640x544 1 rhino-endangered, 871.8ms\n",
            "video 1/1 (frame 410/455) /content/drive/MyDrive/Baby Rhino Loves a Good Brushing __ ViralHog.mp4: 640x544 1 rhino-endangered, 861.1ms\n",
            "video 1/1 (frame 411/455) /content/drive/MyDrive/Baby Rhino Loves a Good Brushing __ ViralHog.mp4: 640x544 1 rhino-endangered, 910.4ms\n",
            "video 1/1 (frame 412/455) /content/drive/MyDrive/Baby Rhino Loves a Good Brushing __ ViralHog.mp4: 640x544 1 rhino-endangered, 719.1ms\n",
            "video 1/1 (frame 413/455) /content/drive/MyDrive/Baby Rhino Loves a Good Brushing __ ViralHog.mp4: 640x544 1 rhino-endangered, 541.9ms\n",
            "video 1/1 (frame 414/455) /content/drive/MyDrive/Baby Rhino Loves a Good Brushing __ ViralHog.mp4: 640x544 1 rhino-endangered, 546.4ms\n",
            "video 1/1 (frame 415/455) /content/drive/MyDrive/Baby Rhino Loves a Good Brushing __ ViralHog.mp4: 640x544 1 rhino-endangered, 544.5ms\n",
            "video 1/1 (frame 416/455) /content/drive/MyDrive/Baby Rhino Loves a Good Brushing __ ViralHog.mp4: 640x544 1 rhino-endangered, 541.1ms\n",
            "video 1/1 (frame 417/455) /content/drive/MyDrive/Baby Rhino Loves a Good Brushing __ ViralHog.mp4: 640x544 1 rhino-endangered, 546.7ms\n",
            "video 1/1 (frame 418/455) /content/drive/MyDrive/Baby Rhino Loves a Good Brushing __ ViralHog.mp4: 640x544 1 rhino-endangered, 551.4ms\n",
            "video 1/1 (frame 419/455) /content/drive/MyDrive/Baby Rhino Loves a Good Brushing __ ViralHog.mp4: 640x544 1 rhino-endangered, 533.4ms\n",
            "video 1/1 (frame 420/455) /content/drive/MyDrive/Baby Rhino Loves a Good Brushing __ ViralHog.mp4: 640x544 1 rhino-endangered, 555.5ms\n",
            "video 1/1 (frame 421/455) /content/drive/MyDrive/Baby Rhino Loves a Good Brushing __ ViralHog.mp4: 640x544 1 rhino-endangered, 543.2ms\n",
            "video 1/1 (frame 422/455) /content/drive/MyDrive/Baby Rhino Loves a Good Brushing __ ViralHog.mp4: 640x544 1 rhino-endangered, 558.8ms\n",
            "video 1/1 (frame 423/455) /content/drive/MyDrive/Baby Rhino Loves a Good Brushing __ ViralHog.mp4: 640x544 1 rhino-endangered, 558.6ms\n",
            "video 1/1 (frame 424/455) /content/drive/MyDrive/Baby Rhino Loves a Good Brushing __ ViralHog.mp4: 640x544 1 rhino-endangered, 543.3ms\n",
            "video 1/1 (frame 425/455) /content/drive/MyDrive/Baby Rhino Loves a Good Brushing __ ViralHog.mp4: 640x544 1 rhino-endangered, 533.0ms\n",
            "video 1/1 (frame 426/455) /content/drive/MyDrive/Baby Rhino Loves a Good Brushing __ ViralHog.mp4: 640x544 1 rhino-endangered, 579.2ms\n",
            "video 1/1 (frame 427/455) /content/drive/MyDrive/Baby Rhino Loves a Good Brushing __ ViralHog.mp4: 640x544 1 rhino-endangered, 555.5ms\n",
            "video 1/1 (frame 428/455) /content/drive/MyDrive/Baby Rhino Loves a Good Brushing __ ViralHog.mp4: 640x544 1 rhino-endangered, 542.6ms\n",
            "video 1/1 (frame 429/455) /content/drive/MyDrive/Baby Rhino Loves a Good Brushing __ ViralHog.mp4: 640x544 1 rhino-endangered, 562.8ms\n",
            "video 1/1 (frame 430/455) /content/drive/MyDrive/Baby Rhino Loves a Good Brushing __ ViralHog.mp4: 640x544 1 rhino-endangered, 886.0ms\n",
            "video 1/1 (frame 431/455) /content/drive/MyDrive/Baby Rhino Loves a Good Brushing __ ViralHog.mp4: 640x544 1 rhino-endangered, 869.5ms\n",
            "video 1/1 (frame 432/455) /content/drive/MyDrive/Baby Rhino Loves a Good Brushing __ ViralHog.mp4: 640x544 1 rhino-endangered, 858.9ms\n",
            "video 1/1 (frame 433/455) /content/drive/MyDrive/Baby Rhino Loves a Good Brushing __ ViralHog.mp4: 640x544 1 rhino-endangered, 853.3ms\n",
            "video 1/1 (frame 434/455) /content/drive/MyDrive/Baby Rhino Loves a Good Brushing __ ViralHog.mp4: 640x544 1 rhino-endangered, 905.2ms\n",
            "video 1/1 (frame 435/455) /content/drive/MyDrive/Baby Rhino Loves a Good Brushing __ ViralHog.mp4: 640x544 1 rhino-endangered, 628.9ms\n",
            "video 1/1 (frame 436/455) /content/drive/MyDrive/Baby Rhino Loves a Good Brushing __ ViralHog.mp4: 640x544 1 rhino-endangered, 551.6ms\n",
            "video 1/1 (frame 437/455) /content/drive/MyDrive/Baby Rhino Loves a Good Brushing __ ViralHog.mp4: 640x544 1 rhino-endangered, 549.5ms\n",
            "video 1/1 (frame 438/455) /content/drive/MyDrive/Baby Rhino Loves a Good Brushing __ ViralHog.mp4: 640x544 1 rhino-endangered, 555.8ms\n",
            "video 1/1 (frame 439/455) /content/drive/MyDrive/Baby Rhino Loves a Good Brushing __ ViralHog.mp4: 640x544 1 rhino-endangered, 539.7ms\n",
            "video 1/1 (frame 440/455) /content/drive/MyDrive/Baby Rhino Loves a Good Brushing __ ViralHog.mp4: 640x544 1 rhino-endangered, 570.8ms\n",
            "video 1/1 (frame 441/455) /content/drive/MyDrive/Baby Rhino Loves a Good Brushing __ ViralHog.mp4: 640x544 1 rhino-endangered, 547.8ms\n",
            "video 1/1 (frame 442/455) /content/drive/MyDrive/Baby Rhino Loves a Good Brushing __ ViralHog.mp4: 640x544 1 rhino-endangered, 563.3ms\n",
            "video 1/1 (frame 443/455) /content/drive/MyDrive/Baby Rhino Loves a Good Brushing __ ViralHog.mp4: 640x544 1 rhino-endangered, 562.0ms\n",
            "video 1/1 (frame 444/455) /content/drive/MyDrive/Baby Rhino Loves a Good Brushing __ ViralHog.mp4: 640x544 (no detections), 540.6ms\n",
            "video 1/1 (frame 445/455) /content/drive/MyDrive/Baby Rhino Loves a Good Brushing __ ViralHog.mp4: 640x544 (no detections), 556.2ms\n",
            "video 1/1 (frame 446/455) /content/drive/MyDrive/Baby Rhino Loves a Good Brushing __ ViralHog.mp4: 640x544 (no detections), 544.8ms\n",
            "video 1/1 (frame 447/455) /content/drive/MyDrive/Baby Rhino Loves a Good Brushing __ ViralHog.mp4: 640x544 (no detections), 554.8ms\n",
            "video 1/1 (frame 448/455) /content/drive/MyDrive/Baby Rhino Loves a Good Brushing __ ViralHog.mp4: 640x544 (no detections), 548.6ms\n",
            "video 1/1 (frame 449/455) /content/drive/MyDrive/Baby Rhino Loves a Good Brushing __ ViralHog.mp4: 640x544 (no detections), 551.0ms\n",
            "video 1/1 (frame 450/455) /content/drive/MyDrive/Baby Rhino Loves a Good Brushing __ ViralHog.mp4: 640x544 (no detections), 545.4ms\n",
            "video 1/1 (frame 451/455) /content/drive/MyDrive/Baby Rhino Loves a Good Brushing __ ViralHog.mp4: 640x544 (no detections), 544.7ms\n",
            "video 1/1 (frame 452/455) /content/drive/MyDrive/Baby Rhino Loves a Good Brushing __ ViralHog.mp4: 640x544 1 asian_elephant-endangered, 683.7ms\n",
            "video 1/1 (frame 453/455) /content/drive/MyDrive/Baby Rhino Loves a Good Brushing __ ViralHog.mp4: 640x544 1 asian_elephant-endangered, 873.0ms\n",
            "video 1/1 (frame 454/455) /content/drive/MyDrive/Baby Rhino Loves a Good Brushing __ ViralHog.mp4: 640x544 (no detections), 866.6ms\n",
            "video 1/1 (frame 455/455) /content/drive/MyDrive/Baby Rhino Loves a Good Brushing __ ViralHog.mp4: 640x544 1 asian_elephant-endangered, 866.1ms\n",
            "Speed: 6.2ms preprocess, 625.6ms inference, 1.2ms postprocess per image at shape (1, 3, 640, 544)\n",
            "Results saved to \u001b[1mruns/detect/predict\u001b[0m\n"
          ]
        }
      ],
      "source": [
        "result=model('/content/drive/MyDrive/Baby Rhino Loves a Good Brushing __ ViralHog.mp4', save=True)"
      ]
    },
    {
      "cell_type": "code",
      "source": [
        "result=model('/content/drive/MyDrive/test/OIP (1).jpeg', save=True)\n",
        "result=model('/content/drive/MyDrive/test/OIP.jpeg', save=True)\n",
        "result=model('/content/drive/MyDrive/test/cp1.jpeg', save=True)\n",
        "result=model('/content/drive/MyDrive/test/cp2.jpeg', save=True)\n",
        "result=model('/content/drive/MyDrive/test/ct2.jpeg', save=True)\n",
        "result=model('/content/drive/MyDrive/test/fox.jpeg', save=True)\n",
        "result=model('/content/drive/MyDrive/test/fox2.jpeg', save=True)\n",
        "result=model('/content/drive/MyDrive/test/jg1.jpeg', save=True)\n",
        "result=model('/content/drive/MyDrive/test/jg2.jpeg', save=True)\n",
        "result=model('/content/drive/MyDrive/test/jt1.jpeg', save=True)\n",
        "result=model('/content/drive/MyDrive/test/leopard.jpeg', save=True)\n",
        "result=model('/content/drive/MyDrive/test/leopard2.jpeg', save=True)\n",
        "result=model('/content/drive/MyDrive/test/lion.jpeg', save=True)\n",
        "result=model('/content/drive/MyDrive/test/lion2.jpeg', save=True)\n",
        "result=model('/content/drive/MyDrive/test/or2.jpeg', save=True)\n",
        "result=model('/content/drive/MyDrive/test/ỏ1.jpeg', save=True)\n",
        "result=model('/content/drive/MyDrive/test/rhino1.jpeg', save=True)\n",
        "result=model('/content/drive/MyDrive/test/rhino2.jpeg', save=True)\n",
        "result=model('/content/drive/MyDrive/test/voi.jpeg', save=True)\n",
        "result=model('/content/drive/MyDrive/test/voi2.jpeg', save=True)"
      ],
      "metadata": {
        "colab": {
          "base_uri": "https://localhost:8080/"
        },
        "id": "3iaZkh2bJd4V",
        "outputId": "86e0731f-7d86-4c23-daff-a87d6aaf3725"
      },
      "execution_count": null,
      "outputs": [
        {
          "output_type": "stream",
          "name": "stdout",
          "text": [
            "\n",
            "image 1/1 /content/drive/MyDrive/test/OIP (1).jpeg: 512x640 1 panther-endangered, 552.5ms\n",
            "Speed: 4.5ms preprocess, 552.5ms inference, 1.4ms postprocess per image at shape (1, 3, 512, 640)\n",
            "Results saved to \u001b[1mruns/detect/predict\u001b[0m\n",
            "\n",
            "image 1/1 /content/drive/MyDrive/test/OIP.jpeg: 640x576 1 panther-endangered, 572.0ms\n",
            "Speed: 4.5ms preprocess, 572.0ms inference, 1.0ms postprocess per image at shape (1, 3, 640, 576)\n",
            "Results saved to \u001b[1mruns/detect/predict\u001b[0m\n",
            "\n",
            "image 1/1 /content/drive/MyDrive/test/cp1.jpeg: 480x640 (no detections), 481.7ms\n",
            "Speed: 2.9ms preprocess, 481.7ms inference, 0.6ms postprocess per image at shape (1, 3, 480, 640)\n",
            "Results saved to \u001b[1mruns/detect/predict\u001b[0m\n",
            "\n",
            "image 1/1 /content/drive/MyDrive/test/cp2.jpeg: 576x640 (no detections), 570.8ms\n",
            "Speed: 3.0ms preprocess, 570.8ms inference, 0.6ms postprocess per image at shape (1, 3, 576, 640)\n",
            "Results saved to \u001b[1mruns/detect/predict\u001b[0m\n",
            "\n",
            "image 1/1 /content/drive/MyDrive/test/ct2.jpeg: 384x640 1 cheetah-endangered, 395.6ms\n",
            "Speed: 2.3ms preprocess, 395.6ms inference, 1.0ms postprocess per image at shape (1, 3, 384, 640)\n",
            "Results saved to \u001b[1mruns/detect/predict\u001b[0m\n",
            "\n",
            "image 1/1 /content/drive/MyDrive/test/fox.jpeg: 448x640 (no detections), 440.0ms\n",
            "Speed: 2.7ms preprocess, 440.0ms inference, 1.0ms postprocess per image at shape (1, 3, 448, 640)\n",
            "Results saved to \u001b[1mruns/detect/predict\u001b[0m\n",
            "\n",
            "image 1/1 /content/drive/MyDrive/test/fox2.jpeg: 448x640 2 arctic_fox-endangereds, 426.3ms\n",
            "Speed: 2.5ms preprocess, 426.3ms inference, 1.0ms postprocess per image at shape (1, 3, 448, 640)\n",
            "Results saved to \u001b[1mruns/detect/predict\u001b[0m\n",
            "\n",
            "image 1/1 /content/drive/MyDrive/test/jg1.jpeg: 448x640 1 jaguar_not-endangered, 437.5ms\n",
            "Speed: 3.6ms preprocess, 437.5ms inference, 1.0ms postprocess per image at shape (1, 3, 448, 640)\n",
            "Results saved to \u001b[1mruns/detect/predict\u001b[0m\n",
            "\n",
            "image 1/1 /content/drive/MyDrive/test/jg2.jpeg: 448x640 2 jaguar_not-endangereds, 447.4ms\n",
            "Speed: 2.5ms preprocess, 447.4ms inference, 1.0ms postprocess per image at shape (1, 3, 448, 640)\n",
            "Results saved to \u001b[1mruns/detect/predict\u001b[0m\n",
            "\n",
            "image 1/1 /content/drive/MyDrive/test/jt1.jpeg: 512x640 4 cheetah-endangereds, 656.4ms\n",
            "Speed: 3.1ms preprocess, 656.4ms inference, 1.2ms postprocess per image at shape (1, 3, 512, 640)\n",
            "Results saved to \u001b[1mruns/detect/predict\u001b[0m\n",
            "\n",
            "image 1/1 /content/drive/MyDrive/test/leopard.jpeg: 480x640 1 amur_leopard-endangered, 731.1ms\n",
            "Speed: 3.5ms preprocess, 731.1ms inference, 1.7ms postprocess per image at shape (1, 3, 480, 640)\n",
            "Results saved to \u001b[1mruns/detect/predict\u001b[0m\n",
            "\n",
            "image 1/1 /content/drive/MyDrive/test/leopard2.jpeg: 480x640 2 amur_leopard-endangereds, 727.6ms\n",
            "Speed: 3.5ms preprocess, 727.6ms inference, 1.2ms postprocess per image at shape (1, 3, 480, 640)\n",
            "Results saved to \u001b[1mruns/detect/predict\u001b[0m\n",
            "\n",
            "image 1/1 /content/drive/MyDrive/test/lion.jpeg: 640x640 1 lion-endangered, 1007.3ms\n",
            "Speed: 4.1ms preprocess, 1007.3ms inference, 1.4ms postprocess per image at shape (1, 3, 640, 640)\n",
            "Results saved to \u001b[1mruns/detect/predict\u001b[0m\n",
            "\n",
            "image 1/1 /content/drive/MyDrive/test/lion2.jpeg: 512x640 1 lion-endangered, 567.8ms\n",
            "Speed: 4.1ms preprocess, 567.8ms inference, 1.3ms postprocess per image at shape (1, 3, 512, 640)\n",
            "Results saved to \u001b[1mruns/detect/predict\u001b[0m\n",
            "\n",
            "image 1/1 /content/drive/MyDrive/test/or2.jpeg: 576x640 1 orangutan-endangered, 544.1ms\n",
            "Speed: 3.2ms preprocess, 544.1ms inference, 1.0ms postprocess per image at shape (1, 3, 576, 640)\n",
            "Results saved to \u001b[1mruns/detect/predict\u001b[0m\n",
            "\n",
            "image 1/1 /content/drive/MyDrive/test/ỏ1.jpeg: 640x640 2 orangutan-endangereds, 603.1ms\n",
            "Speed: 3.3ms preprocess, 603.1ms inference, 1.0ms postprocess per image at shape (1, 3, 640, 640)\n",
            "Results saved to \u001b[1mruns/detect/predict\u001b[0m\n",
            "\n",
            "image 1/1 /content/drive/MyDrive/test/rhino1.jpeg: 416x640 1 rhino-endangered, 421.4ms\n",
            "Speed: 2.5ms preprocess, 421.4ms inference, 0.9ms postprocess per image at shape (1, 3, 416, 640)\n",
            "Results saved to \u001b[1mruns/detect/predict\u001b[0m\n",
            "\n",
            "image 1/1 /content/drive/MyDrive/test/rhino2.jpeg: 352x640 1 rhino-endangered, 358.3ms\n",
            "Speed: 2.4ms preprocess, 358.3ms inference, 0.9ms postprocess per image at shape (1, 3, 352, 640)\n",
            "Results saved to \u001b[1mruns/detect/predict\u001b[0m\n",
            "\n",
            "image 1/1 /content/drive/MyDrive/test/voi.jpeg: 416x640 1 asian_elephant-endangered, 409.0ms\n",
            "Speed: 2.4ms preprocess, 409.0ms inference, 0.9ms postprocess per image at shape (1, 3, 416, 640)\n",
            "Results saved to \u001b[1mruns/detect/predict\u001b[0m\n",
            "\n",
            "image 1/1 /content/drive/MyDrive/test/voi2.jpeg: 384x640 2 asian_elephant-endangereds, 368.8ms\n",
            "Speed: 3.1ms preprocess, 368.8ms inference, 0.9ms postprocess per image at shape (1, 3, 384, 640)\n",
            "Results saved to \u001b[1mruns/detect/predict\u001b[0m\n"
          ]
        }
      ]
    },
    {
      "cell_type": "code",
      "source": [
        "result=model('/content/drive/MyDrive/z5461920985685_5525f13e1513227e1da38524e26e3b8a.jpg', save=True)\n",
        "result=model('/content/drive/MyDrive/z5461921592581_2542627722987511e7f8e9ffd97b6278.jpg', save=True)\n",
        "result=model('/content/drive/MyDrive/z5461922452229_25a2902ff9b011d2d64692c4ac0792b1.jpg', save=True)\n",
        "result=model('/content/drive/MyDrive/z5461922501990_09dec364aa5e7548dcac86775358227f.jpg', save=True)"
      ],
      "metadata": {
        "colab": {
          "base_uri": "https://localhost:8080/"
        },
        "id": "Ex9IdgGuLKCb",
        "outputId": "b3e02425-806d-4ade-fdde-59ad4377101f"
      },
      "execution_count": null,
      "outputs": [
        {
          "output_type": "stream",
          "name": "stdout",
          "text": [
            "\n",
            "image 1/1 /content/drive/MyDrive/z5461920985685_5525f13e1513227e1da38524e26e3b8a.jpg: 352x640 1 killer_whale-endangered, 373.8ms\n",
            "Speed: 2.4ms preprocess, 373.8ms inference, 1.1ms postprocess per image at shape (1, 3, 352, 640)\n",
            "Results saved to \u001b[1mruns/detect/predict\u001b[0m\n",
            "\n",
            "image 1/1 /content/drive/MyDrive/z5461921592581_2542627722987511e7f8e9ffd97b6278.jpg: 448x640 1 killer_whale-endangered, 453.6ms\n",
            "Speed: 2.9ms preprocess, 453.6ms inference, 0.9ms postprocess per image at shape (1, 3, 448, 640)\n",
            "Results saved to \u001b[1mruns/detect/predict\u001b[0m\n",
            "\n",
            "image 1/1 /content/drive/MyDrive/z5461922452229_25a2902ff9b011d2d64692c4ac0792b1.jpg: 640x576 1 shark-endangered, 550.9ms\n",
            "Speed: 3.6ms preprocess, 550.9ms inference, 1.1ms postprocess per image at shape (1, 3, 640, 576)\n",
            "Results saved to \u001b[1mruns/detect/predict\u001b[0m\n",
            "\n",
            "image 1/1 /content/drive/MyDrive/z5461922501990_09dec364aa5e7548dcac86775358227f.jpg: 640x480 2 shark-endangereds, 590.9ms\n",
            "Speed: 3.6ms preprocess, 590.9ms inference, 1.4ms postprocess per image at shape (1, 3, 640, 480)\n",
            "Results saved to \u001b[1mruns/detect/predict\u001b[0m\n"
          ]
        }
      ]
    },
    {
      "cell_type": "code",
      "source": [
        "!pip install moviepy"
      ],
      "metadata": {
        "colab": {
          "base_uri": "https://localhost:8080/"
        },
        "id": "yYF0HGs4hd8p",
        "outputId": "e56a431c-6bf9-40e6-cf65-c70570c00bed"
      },
      "execution_count": null,
      "outputs": [
        {
          "output_type": "stream",
          "name": "stdout",
          "text": [
            "Requirement already satisfied: moviepy in /usr/local/lib/python3.10/dist-packages (1.0.3)\n",
            "Requirement already satisfied: decorator<5.0,>=4.0.2 in /usr/local/lib/python3.10/dist-packages (from moviepy) (4.4.2)\n",
            "Requirement already satisfied: tqdm<5.0,>=4.11.2 in /usr/local/lib/python3.10/dist-packages (from moviepy) (4.66.4)\n",
            "Requirement already satisfied: requests<3.0,>=2.8.1 in /usr/local/lib/python3.10/dist-packages (from moviepy) (2.31.0)\n",
            "Requirement already satisfied: proglog<=1.0.0 in /usr/local/lib/python3.10/dist-packages (from moviepy) (0.1.10)\n",
            "Requirement already satisfied: numpy>=1.17.3 in /usr/local/lib/python3.10/dist-packages (from moviepy) (1.25.2)\n",
            "Requirement already satisfied: imageio<3.0,>=2.5 in /usr/local/lib/python3.10/dist-packages (from moviepy) (2.31.6)\n",
            "Requirement already satisfied: imageio-ffmpeg>=0.2.0 in /usr/local/lib/python3.10/dist-packages (from moviepy) (0.4.9)\n",
            "Requirement already satisfied: pillow<10.1.0,>=8.3.2 in /usr/local/lib/python3.10/dist-packages (from imageio<3.0,>=2.5->moviepy) (9.4.0)\n",
            "Requirement already satisfied: setuptools in /usr/local/lib/python3.10/dist-packages (from imageio-ffmpeg>=0.2.0->moviepy) (67.7.2)\n",
            "Requirement already satisfied: charset-normalizer<4,>=2 in /usr/local/lib/python3.10/dist-packages (from requests<3.0,>=2.8.1->moviepy) (3.3.2)\n",
            "Requirement already satisfied: idna<4,>=2.5 in /usr/local/lib/python3.10/dist-packages (from requests<3.0,>=2.8.1->moviepy) (3.7)\n",
            "Requirement already satisfied: urllib3<3,>=1.21.1 in /usr/local/lib/python3.10/dist-packages (from requests<3.0,>=2.8.1->moviepy) (2.0.7)\n",
            "Requirement already satisfied: certifi>=2017.4.17 in /usr/local/lib/python3.10/dist-packages (from requests<3.0,>=2.8.1->moviepy) (2024.2.2)\n"
          ]
        }
      ]
    },
    {
      "cell_type": "code",
      "source": [
        "from moviepy.editor import VideoFileClip\n",
        "\n",
        "# Load the AVI file\n",
        "avi_path = '/content/runs/detect/predict/Baby Rhino Loves a Good Brushing __ ViralHog.avi'\n",
        "mp4_path = '/content/drive/My Drive/video.mp4'\n",
        "\n",
        "# Convert AVI to MP4\n",
        "clip = VideoFileClip(avi_path)\n",
        "clip.write_videofile(mp4_path)\n"
      ],
      "metadata": {
        "colab": {
          "base_uri": "https://localhost:8080/"
        },
        "id": "-BC4ek8ntP0Q",
        "outputId": "5065bba7-e000-45ff-df6f-e1dfc77af798"
      },
      "execution_count": null,
      "outputs": [
        {
          "output_type": "stream",
          "name": "stdout",
          "text": [
            "Moviepy - Building video /content/drive/My Drive/video.mp4.\n",
            "Moviepy - Writing video /content/drive/My Drive/video.mp4\n",
            "\n"
          ]
        },
        {
          "output_type": "stream",
          "name": "stderr",
          "text": [
            "t: 100%|█████████▉| 454/456 [00:30<00:00, 17.72it/s, now=None]WARNING:py.warnings:/usr/local/lib/python3.10/dist-packages/moviepy/video/io/ffmpeg_reader.py:123: UserWarning: Warning: in file /content/runs/detect/predict/Baby Rhino Loves a Good Brushing __ ViralHog.avi, 1918080 bytes wanted but 0 bytes read,at frame 455/456, at time 15.17/15.17 sec. Using the last valid frame instead.\n",
            "  warnings.warn(\"Warning: in file %s, \"%(self.filename)+\n",
            "\n"
          ]
        },
        {
          "output_type": "stream",
          "name": "stdout",
          "text": [
            "Moviepy - Done !\n",
            "Moviepy - video ready /content/drive/My Drive/video.mp4\n"
          ]
        }
      ]
    },
    {
      "cell_type": "code",
      "source": [
        "from IPython.display import HTML\n",
        "\n",
        "# Define the file path (update it to the actual path of your video)\n",
        "video_path = '/content/drive/MyDrive/video.mp4'\n",
        "\n",
        "# Create HTML to display the video\n",
        "video_html = f'''\n",
        "<video width=\"640\" height=\"480\" controls>\n",
        "  <source src=\"{video_path}\" type=\"video/mp4\">\n",
        "  Your browser does not support the video tag.\n",
        "</video>\n",
        "'''\n",
        "\n",
        "# Display the video\n",
        "HTML(video_html)"
      ],
      "metadata": {
        "colab": {
          "base_uri": "https://localhost:8080/",
          "height": 501,
          "resources": {
            "http://localhost:8080/content/drive/MyDrive/video.mp4": {
              "data": "CjwhRE9DVFlQRSBodG1sPgo8aHRtbCBsYW5nPWVuPgogIDxtZXRhIGNoYXJzZXQ9dXRmLTg+CiAgPG1ldGEgbmFtZT12aWV3cG9ydCBjb250ZW50PSJpbml0aWFsLXNjYWxlPTEsIG1pbmltdW0tc2NhbGU9MSwgd2lkdGg9ZGV2aWNlLXdpZHRoIj4KICA8dGl0bGU+RXJyb3IgNDA0IChOb3QgRm91bmQpISExPC90aXRsZT4KICA8c3R5bGU+CiAgICAqe21hcmdpbjowO3BhZGRpbmc6MH1odG1sLGNvZGV7Zm9udDoxNXB4LzIycHggYXJpYWwsc2Fucy1zZXJpZn1odG1se2JhY2tncm91bmQ6I2ZmZjtjb2xvcjojMjIyO3BhZGRpbmc6MTVweH1ib2R5e21hcmdpbjo3JSBhdXRvIDA7bWF4LXdpZHRoOjM5MHB4O21pbi1oZWlnaHQ6MTgwcHg7cGFkZGluZzozMHB4IDAgMTVweH0qID4gYm9keXtiYWNrZ3JvdW5kOnVybCgvL3d3dy5nb29nbGUuY29tL2ltYWdlcy9lcnJvcnMvcm9ib3QucG5nKSAxMDAlIDVweCBuby1yZXBlYXQ7cGFkZGluZy1yaWdodDoyMDVweH1we21hcmdpbjoxMXB4IDAgMjJweDtvdmVyZmxvdzpoaWRkZW59aW5ze2NvbG9yOiM3Nzc7dGV4dC1kZWNvcmF0aW9uOm5vbmV9YSBpbWd7Ym9yZGVyOjB9QG1lZGlhIHNjcmVlbiBhbmQgKG1heC13aWR0aDo3NzJweCl7Ym9keXtiYWNrZ3JvdW5kOm5vbmU7bWFyZ2luLXRvcDowO21heC13aWR0aDpub25lO3BhZGRpbmctcmlnaHQ6MH19I2xvZ297YmFja2dyb3VuZDp1cmwoLy93d3cuZ29vZ2xlLmNvbS9pbWFnZXMvbG9nb3MvZXJyb3JwYWdlL2Vycm9yX2xvZ28tMTUweDU0LnBuZykgbm8tcmVwZWF0O21hcmdpbi1sZWZ0Oi01cHh9QG1lZGlhIG9ubHkgc2NyZWVuIGFuZCAobWluLXJlc29sdXRpb246MTkyZHBpKXsjbG9nb3tiYWNrZ3JvdW5kOnVybCgvL3d3dy5nb29nbGUuY29tL2ltYWdlcy9sb2dvcy9lcnJvcnBhZ2UvZXJyb3JfbG9nby0xNTB4NTQtMngucG5nKSBuby1yZXBlYXQgMCUgMCUvMTAwJSAxMDAlOy1tb3otYm9yZGVyLWltYWdlOnVybCgvL3d3dy5nb29nbGUuY29tL2ltYWdlcy9sb2dvcy9lcnJvcnBhZ2UvZXJyb3JfbG9nby0xNTB4NTQtMngucG5nKSAwfX1AbWVkaWEgb25seSBzY3JlZW4gYW5kICgtd2Via2l0LW1pbi1kZXZpY2UtcGl4ZWwtcmF0aW86Mil7I2xvZ297YmFja2dyb3VuZDp1cmwoLy93d3cuZ29vZ2xlLmNvbS9pbWFnZXMvbG9nb3MvZXJyb3JwYWdlL2Vycm9yX2xvZ28tMTUweDU0LTJ4LnBuZykgbm8tcmVwZWF0Oy13ZWJraXQtYmFja2dyb3VuZC1zaXplOjEwMCUgMTAwJX19I2xvZ297ZGlzcGxheTppbmxpbmUtYmxvY2s7aGVpZ2h0OjU0cHg7d2lkdGg6MTUwcHh9CiAgPC9zdHlsZT4KICA8YSBocmVmPS8vd3d3Lmdvb2dsZS5jb20vPjxzcGFuIGlkPWxvZ28gYXJpYS1sYWJlbD1Hb29nbGU+PC9zcGFuPjwvYT4KICA8cD48Yj40MDQuPC9iPiA8aW5zPlRoYXTigJlzIGFuIGVycm9yLjwvaW5zPgogIDxwPiAgPGlucz5UaGF04oCZcyBhbGwgd2Uga25vdy48L2lucz4K",
              "ok": false,
              "headers": [
                [
                  "content-length",
                  "1449"
                ],
                [
                  "content-type",
                  "text/html; charset=utf-8"
                ]
              ],
              "status": 404,
              "status_text": ""
            }
          }
        },
        "id": "1W9_837c-AxD",
        "outputId": "d0fba9c7-3dbe-4f76-8fbb-307840595bc0"
      },
      "execution_count": null,
      "outputs": [
        {
          "output_type": "execute_result",
          "data": {
            "text/plain": [
              "<IPython.core.display.HTML object>"
            ],
            "text/html": [
              "\n",
              "<video width=\"640\" height=\"480\" controls>\n",
              "  <source src=\"/content/drive/MyDrive/video.mp4\" type=\"video/mp4\">\n",
              "  Your browser does not support the video tag.\n",
              "</video>\n"
            ]
          },
          "metadata": {},
          "execution_count": 18
        }
      ]
    }
  ],
  "metadata": {
    "colab": {
      "provenance": [],
      "gpuType": "T4"
    },
    "kernelspec": {
      "display_name": "Python 3",
      "name": "python3"
    },
    "language_info": {
      "name": "python"
    },
    "accelerator": "GPU"
  },
  "nbformat": 4,
  "nbformat_minor": 0
}